{
 "cells": [
  {
   "cell_type": "code",
   "execution_count": 5,
   "metadata": {},
   "outputs": [],
   "source": [
    "import graphlab as gl\n",
    "\n",
    "import pandas as pd\n"
   ]
  },
  {
   "cell_type": "code",
   "execution_count": 7,
   "metadata": {},
   "outputs": [],
   "source": [
    "# reading user data:\n",
    "user_cols = ['userID', 'Coding skills', 'Social skills', 'Language skills', 'program development',\n",
    "             'FrontEnd development', 'BackEnd Development', 'Fullstack', 'Mobile Development', 'Web Development',\n",
    "             'UI/UX', 'Good', 'Average', 'Bad', 'salary','degree']\n",
    "\n",
    "users = pd.read_csv('Users.csv', sep=',', names=user_cols, encoding='latin-1')"
   ]
  },
  {
   "cell_type": "code",
   "execution_count": 3,
   "metadata": {},
   "outputs": [
    {
     "name": "stdout",
     "output_type": "stream",
     "text": [
      "(964, 16)\n"
     ]
    },
    {
     "data": {
      "text/html": [
       "<div>\n",
       "<style scoped>\n",
       "    .dataframe tbody tr th:only-of-type {\n",
       "        vertical-align: middle;\n",
       "    }\n",
       "\n",
       "    .dataframe tbody tr th {\n",
       "        vertical-align: top;\n",
       "    }\n",
       "\n",
       "    .dataframe thead th {\n",
       "        text-align: right;\n",
       "    }\n",
       "</style>\n",
       "<table border=\"1\" class=\"dataframe\">\n",
       "  <thead>\n",
       "    <tr style=\"text-align: right;\">\n",
       "      <th></th>\n",
       "      <th>userID</th>\n",
       "      <th>Coding skills</th>\n",
       "      <th>Social skills</th>\n",
       "      <th>Language skills</th>\n",
       "      <th>program development</th>\n",
       "      <th>FrontEnd development</th>\n",
       "      <th>BackEnd Development</th>\n",
       "      <th>Fullstack</th>\n",
       "      <th>Mobile Development</th>\n",
       "      <th>Web Development</th>\n",
       "      <th>UI/UX</th>\n",
       "      <th>Good</th>\n",
       "      <th>Average</th>\n",
       "      <th>Bad</th>\n",
       "      <th>salary</th>\n",
       "      <th>degree</th>\n",
       "    </tr>\n",
       "  </thead>\n",
       "  <tbody>\n",
       "    <tr>\n",
       "      <th>0</th>\n",
       "      <td>UID01</td>\n",
       "      <td>1</td>\n",
       "      <td>1</td>\n",
       "      <td>0</td>\n",
       "      <td>0</td>\n",
       "      <td>0</td>\n",
       "      <td>0</td>\n",
       "      <td>0</td>\n",
       "      <td>0</td>\n",
       "      <td>0</td>\n",
       "      <td>1</td>\n",
       "      <td>0</td>\n",
       "      <td>1</td>\n",
       "      <td>0</td>\n",
       "      <td>15 000</td>\n",
       "      <td>DID01</td>\n",
       "    </tr>\n",
       "    <tr>\n",
       "      <th>1</th>\n",
       "      <td>UID02</td>\n",
       "      <td>0</td>\n",
       "      <td>1</td>\n",
       "      <td>0</td>\n",
       "      <td>0</td>\n",
       "      <td>0</td>\n",
       "      <td>0</td>\n",
       "      <td>0</td>\n",
       "      <td>1</td>\n",
       "      <td>0</td>\n",
       "      <td>0</td>\n",
       "      <td>1</td>\n",
       "      <td>0</td>\n",
       "      <td>0</td>\n",
       "      <td>15 000</td>\n",
       "      <td>DID01</td>\n",
       "    </tr>\n",
       "    <tr>\n",
       "      <th>2</th>\n",
       "      <td>UID03</td>\n",
       "      <td>1</td>\n",
       "      <td>0</td>\n",
       "      <td>0</td>\n",
       "      <td>0</td>\n",
       "      <td>0</td>\n",
       "      <td>0</td>\n",
       "      <td>0</td>\n",
       "      <td>0</td>\n",
       "      <td>0</td>\n",
       "      <td>0</td>\n",
       "      <td>1</td>\n",
       "      <td>0</td>\n",
       "      <td>0</td>\n",
       "      <td>30 000</td>\n",
       "      <td>DID02</td>\n",
       "    </tr>\n",
       "    <tr>\n",
       "      <th>3</th>\n",
       "      <td>UID04</td>\n",
       "      <td>1</td>\n",
       "      <td>0</td>\n",
       "      <td>0</td>\n",
       "      <td>1</td>\n",
       "      <td>0</td>\n",
       "      <td>0</td>\n",
       "      <td>0</td>\n",
       "      <td>1</td>\n",
       "      <td>1</td>\n",
       "      <td>0</td>\n",
       "      <td>1</td>\n",
       "      <td>0</td>\n",
       "      <td>0</td>\n",
       "      <td>30 000</td>\n",
       "      <td>DID01</td>\n",
       "    </tr>\n",
       "    <tr>\n",
       "      <th>4</th>\n",
       "      <td>UID05</td>\n",
       "      <td>1</td>\n",
       "      <td>0</td>\n",
       "      <td>0</td>\n",
       "      <td>0</td>\n",
       "      <td>0</td>\n",
       "      <td>0</td>\n",
       "      <td>0</td>\n",
       "      <td>0</td>\n",
       "      <td>0</td>\n",
       "      <td>0</td>\n",
       "      <td>0</td>\n",
       "      <td>1</td>\n",
       "      <td>0</td>\n",
       "      <td>10 000</td>\n",
       "      <td>DID02</td>\n",
       "    </tr>\n",
       "  </tbody>\n",
       "</table>\n",
       "</div>"
      ],
      "text/plain": [
       "  userID  Coding skills  Social skills  Language skills  program development  \\\n",
       "0  UID01              1              1                0                    0   \n",
       "1  UID02              0              1                0                    0   \n",
       "2  UID03              1              0                0                    0   \n",
       "3  UID04              1              0                0                    1   \n",
       "4  UID05              1              0                0                    0   \n",
       "\n",
       "   FrontEnd development  BackEnd Development  Fullstack  Mobile Development  \\\n",
       "0                     0                    0          0                   0   \n",
       "1                     0                    0          0                   1   \n",
       "2                     0                    0          0                   0   \n",
       "3                     0                    0          0                   1   \n",
       "4                     0                    0          0                   0   \n",
       "\n",
       "   Web Development  UI/UX  Good  Average  Bad  salary degree  \n",
       "0                0      1     0        1    0  15 000  DID01  \n",
       "1                0      0     1        0    0  15 000  DID01  \n",
       "2                0      0     1        0    0  30 000  DID02  \n",
       "3                1      0     1        0    0  30 000  DID01  \n",
       "4                0      0     0        1    0  10 000  DID02  "
      ]
     },
     "execution_count": 3,
     "metadata": {},
     "output_type": "execute_result"
    }
   ],
   "source": [
    "print users.shape\n",
    "users.head()"
   ]
  },
  {
   "cell_type": "code",
   "execution_count": 8,
   "metadata": {},
   "outputs": [
    {
     "name": "stdout",
     "output_type": "stream",
     "text": [
      "(769, 3)\n"
     ]
    },
    {
     "data": {
      "text/html": [
       "<div>\n",
       "<style scoped>\n",
       "    .dataframe tbody tr th:only-of-type {\n",
       "        vertical-align: middle;\n",
       "    }\n",
       "\n",
       "    .dataframe tbody tr th {\n",
       "        vertical-align: top;\n",
       "    }\n",
       "\n",
       "    .dataframe thead th {\n",
       "        text-align: right;\n",
       "    }\n",
       "</style>\n",
       "<table border=\"1\" class=\"dataframe\">\n",
       "  <thead>\n",
       "    <tr style=\"text-align: right;\">\n",
       "      <th></th>\n",
       "      <th>userID</th>\n",
       "      <th>CompanyID</th>\n",
       "      <th>rating</th>\n",
       "    </tr>\n",
       "  </thead>\n",
       "  <tbody>\n",
       "    <tr>\n",
       "      <th>0</th>\n",
       "      <td>UID01</td>\n",
       "      <td>CID01</td>\n",
       "      <td>3</td>\n",
       "    </tr>\n",
       "    <tr>\n",
       "      <th>1</th>\n",
       "      <td>UID02</td>\n",
       "      <td>CID01</td>\n",
       "      <td>4</td>\n",
       "    </tr>\n",
       "    <tr>\n",
       "      <th>2</th>\n",
       "      <td>UID03</td>\n",
       "      <td>CID04</td>\n",
       "      <td>4</td>\n",
       "    </tr>\n",
       "    <tr>\n",
       "      <th>3</th>\n",
       "      <td>UID04</td>\n",
       "      <td>CID04</td>\n",
       "      <td>4</td>\n",
       "    </tr>\n",
       "    <tr>\n",
       "      <th>4</th>\n",
       "      <td>UID05</td>\n",
       "      <td>CID01</td>\n",
       "      <td>3</td>\n",
       "    </tr>\n",
       "  </tbody>\n",
       "</table>\n",
       "</div>"
      ],
      "text/plain": [
       "  userID CompanyID  rating\n",
       "0  UID01     CID01       3\n",
       "1  UID02     CID01       4\n",
       "2  UID03     CID04       4\n",
       "3  UID04     CID04       4\n",
       "4  UID05     CID01       3"
      ]
     },
     "execution_count": 8,
     "metadata": {},
     "output_type": "execute_result"
    }
   ],
   "source": [
    "# reading the ratings data:\n",
    "rating_cols=['userID','CompanyID','rating']\n",
    "ratings=pd.read_csv('ratings.csv',sep=',', names=rating_cols, encoding='latin-1')\n",
    "\n",
    "print ratings.shape\n",
    "ratings.head()"
   ]
  },
  {
   "cell_type": "code",
   "execution_count": 9,
   "metadata": {},
   "outputs": [
    {
     "name": "stdout",
     "output_type": "stream",
     "text": [
      "This non-commercial license of GraphLab Create for academic use is assigned to w1673749@my.westminster.ac.uk and will expire on March 15, 2021.\n"
     ]
    },
    {
     "name": "stderr",
     "output_type": "stream",
     "text": [
      "[INFO] graphlab.cython.cy_server: GraphLab Create v2.1 started. Logging: C:\\Users\\JANITH\\AppData\\Local\\Temp\\graphlab_server_1587539720.log.0\n"
     ]
    }
   ],
   "source": [
    "user_side_data=gl.SFrame(users)"
   ]
  },
  {
   "cell_type": "code",
   "execution_count": 10,
   "metadata": {},
   "outputs": [],
   "source": [
    "train_data=gl.SFrame(ratings)"
   ]
  },
  {
   "cell_type": "code",
   "execution_count": 11,
   "metadata": {},
   "outputs": [
    {
     "data": {
      "text/html": [
       "<pre>Recsys training: model = ranking_factorization_recommender</pre>"
      ],
      "text/plain": [
       "Recsys training: model = ranking_factorization_recommender"
      ]
     },
     "metadata": {},
     "output_type": "display_data"
    },
    {
     "data": {
      "text/html": [
       "<pre>Preparing data set.</pre>"
      ],
      "text/plain": [
       "Preparing data set."
      ]
     },
     "metadata": {},
     "output_type": "display_data"
    },
    {
     "data": {
      "text/html": [
       "<pre>    Data has 769 observations with 964 users and 17 items.</pre>"
      ],
      "text/plain": [
       "    Data has 769 observations with 964 users and 17 items."
      ]
     },
     "metadata": {},
     "output_type": "display_data"
    },
    {
     "data": {
      "text/html": [
       "<pre>    Data prepared in: 0.036899s</pre>"
      ],
      "text/plain": [
       "    Data prepared in: 0.036899s"
      ]
     },
     "metadata": {},
     "output_type": "display_data"
    },
    {
     "data": {
      "text/html": [
       "<pre>Training ranking_factorization_recommender for recommendations.</pre>"
      ],
      "text/plain": [
       "Training ranking_factorization_recommender for recommendations."
      ]
     },
     "metadata": {},
     "output_type": "display_data"
    },
    {
     "data": {
      "text/html": [
       "<pre>+--------------------------------+--------------------------------------------------+----------+</pre>"
      ],
      "text/plain": [
       "+--------------------------------+--------------------------------------------------+----------+"
      ]
     },
     "metadata": {},
     "output_type": "display_data"
    },
    {
     "data": {
      "text/html": [
       "<pre>| Parameter                      | Description                                      | Value    |</pre>"
      ],
      "text/plain": [
       "| Parameter                      | Description                                      | Value    |"
      ]
     },
     "metadata": {},
     "output_type": "display_data"
    },
    {
     "data": {
      "text/html": [
       "<pre>+--------------------------------+--------------------------------------------------+----------+</pre>"
      ],
      "text/plain": [
       "+--------------------------------+--------------------------------------------------+----------+"
      ]
     },
     "metadata": {},
     "output_type": "display_data"
    },
    {
     "data": {
      "text/html": [
       "<pre>| num_factors                    | Factor Dimension                                 | 32       |</pre>"
      ],
      "text/plain": [
       "| num_factors                    | Factor Dimension                                 | 32       |"
      ]
     },
     "metadata": {},
     "output_type": "display_data"
    },
    {
     "data": {
      "text/html": [
       "<pre>| regularization                 | L2 Regularization on Factors                     | 1e-009   |</pre>"
      ],
      "text/plain": [
       "| regularization                 | L2 Regularization on Factors                     | 1e-009   |"
      ]
     },
     "metadata": {},
     "output_type": "display_data"
    },
    {
     "data": {
      "text/html": [
       "<pre>| solver                         | Solver used for training                         | adagrad  |</pre>"
      ],
      "text/plain": [
       "| solver                         | Solver used for training                         | adagrad  |"
      ]
     },
     "metadata": {},
     "output_type": "display_data"
    },
    {
     "data": {
      "text/html": [
       "<pre>| linear_regularization          | L2 Regularization on Linear Coefficients         | 1e-009   |</pre>"
      ],
      "text/plain": [
       "| linear_regularization          | L2 Regularization on Linear Coefficients         | 1e-009   |"
      ]
     },
     "metadata": {},
     "output_type": "display_data"
    },
    {
     "data": {
      "text/html": [
       "<pre>| ranking_regularization         | Rank-based Regularization Weight                 | 0.25     |</pre>"
      ],
      "text/plain": [
       "| ranking_regularization         | Rank-based Regularization Weight                 | 0.25     |"
      ]
     },
     "metadata": {},
     "output_type": "display_data"
    },
    {
     "data": {
      "text/html": [
       "<pre>| side_data_factorization        | Assign Factors for Side Data                     | True     |</pre>"
      ],
      "text/plain": [
       "| side_data_factorization        | Assign Factors for Side Data                     | True     |"
      ]
     },
     "metadata": {},
     "output_type": "display_data"
    },
    {
     "data": {
      "text/html": [
       "<pre>| max_iterations                 | Maximum Number of Iterations                     | 25       |</pre>"
      ],
      "text/plain": [
       "| max_iterations                 | Maximum Number of Iterations                     | 25       |"
      ]
     },
     "metadata": {},
     "output_type": "display_data"
    },
    {
     "data": {
      "text/html": [
       "<pre>+--------------------------------+--------------------------------------------------+----------+</pre>"
      ],
      "text/plain": [
       "+--------------------------------+--------------------------------------------------+----------+"
      ]
     },
     "metadata": {},
     "output_type": "display_data"
    },
    {
     "data": {
      "text/html": [
       "<pre>  Optimizing model using SGD; tuning step size.</pre>"
      ],
      "text/plain": [
       "  Optimizing model using SGD; tuning step size."
      ]
     },
     "metadata": {},
     "output_type": "display_data"
    },
    {
     "data": {
      "text/html": [
       "<pre>  Using 769 / 769 points for tuning the step size.</pre>"
      ],
      "text/plain": [
       "  Using 769 / 769 points for tuning the step size."
      ]
     },
     "metadata": {},
     "output_type": "display_data"
    },
    {
     "data": {
      "text/html": [
       "<pre>+---------+-------------------+------------------------------------------+</pre>"
      ],
      "text/plain": [
       "+---------+-------------------+------------------------------------------+"
      ]
     },
     "metadata": {},
     "output_type": "display_data"
    },
    {
     "data": {
      "text/html": [
       "<pre>| Attempt | Initial Step Size | Estimated Objective Value                |</pre>"
      ],
      "text/plain": [
       "| Attempt | Initial Step Size | Estimated Objective Value                |"
      ]
     },
     "metadata": {},
     "output_type": "display_data"
    },
    {
     "data": {
      "text/html": [
       "<pre>+---------+-------------------+------------------------------------------+</pre>"
      ],
      "text/plain": [
       "+---------+-------------------+------------------------------------------+"
      ]
     },
     "metadata": {},
     "output_type": "display_data"
    },
    {
     "data": {
      "text/html": [
       "<pre>| 0       | 2.94118           | Not Viable                               |</pre>"
      ],
      "text/plain": [
       "| 0       | 2.94118           | Not Viable                               |"
      ]
     },
     "metadata": {},
     "output_type": "display_data"
    },
    {
     "data": {
      "text/html": [
       "<pre>| 1       | 0.735294          | Not Viable                               |</pre>"
      ],
      "text/plain": [
       "| 1       | 0.735294          | Not Viable                               |"
      ]
     },
     "metadata": {},
     "output_type": "display_data"
    },
    {
     "data": {
      "text/html": [
       "<pre>| 2       | 0.183824          | 0.695522                                 |</pre>"
      ],
      "text/plain": [
       "| 2       | 0.183824          | 0.695522                                 |"
      ]
     },
     "metadata": {},
     "output_type": "display_data"
    },
    {
     "data": {
      "text/html": [
       "<pre>| 3       | 0.0919118         | 0.603143                                 |</pre>"
      ],
      "text/plain": [
       "| 3       | 0.0919118         | 0.603143                                 |"
      ]
     },
     "metadata": {},
     "output_type": "display_data"
    },
    {
     "data": {
      "text/html": [
       "<pre>| 4       | 0.0459559         | 0.973488                                 |</pre>"
      ],
      "text/plain": [
       "| 4       | 0.0459559         | 0.973488                                 |"
      ]
     },
     "metadata": {},
     "output_type": "display_data"
    },
    {
     "data": {
      "text/html": [
       "<pre>| 5       | 0.0229779         | 1.23945                                  |</pre>"
      ],
      "text/plain": [
       "| 5       | 0.0229779         | 1.23945                                  |"
      ]
     },
     "metadata": {},
     "output_type": "display_data"
    },
    {
     "data": {
      "text/html": [
       "<pre>+---------+-------------------+------------------------------------------+</pre>"
      ],
      "text/plain": [
       "+---------+-------------------+------------------------------------------+"
      ]
     },
     "metadata": {},
     "output_type": "display_data"
    },
    {
     "data": {
      "text/html": [
       "<pre>| Final   | 0.0919118         | 0.603143                                 |</pre>"
      ],
      "text/plain": [
       "| Final   | 0.0919118         | 0.603143                                 |"
      ]
     },
     "metadata": {},
     "output_type": "display_data"
    },
    {
     "data": {
      "text/html": [
       "<pre>+---------+-------------------+------------------------------------------+</pre>"
      ],
      "text/plain": [
       "+---------+-------------------+------------------------------------------+"
      ]
     },
     "metadata": {},
     "output_type": "display_data"
    },
    {
     "data": {
      "text/html": [
       "<pre>Starting Optimization.</pre>"
      ],
      "text/plain": [
       "Starting Optimization."
      ]
     },
     "metadata": {},
     "output_type": "display_data"
    },
    {
     "data": {
      "text/html": [
       "<pre>+---------+--------------+-------------------+-----------------------+-------------+</pre>"
      ],
      "text/plain": [
       "+---------+--------------+-------------------+-----------------------+-------------+"
      ]
     },
     "metadata": {},
     "output_type": "display_data"
    },
    {
     "data": {
      "text/html": [
       "<pre>| Iter.   | Elapsed Time | Approx. Objective | Approx. Training RMSE | Step Size   |</pre>"
      ],
      "text/plain": [
       "| Iter.   | Elapsed Time | Approx. Objective | Approx. Training RMSE | Step Size   |"
      ]
     },
     "metadata": {},
     "output_type": "display_data"
    },
    {
     "data": {
      "text/html": [
       "<pre>+---------+--------------+-------------------+-----------------------+-------------+</pre>"
      ],
      "text/plain": [
       "+---------+--------------+-------------------+-----------------------+-------------+"
      ]
     },
     "metadata": {},
     "output_type": "display_data"
    },
    {
     "data": {
      "text/html": [
       "<pre>| Initial | 0us          | 3.28311           | 1.29365               |             |</pre>"
      ],
      "text/plain": [
       "| Initial | 0us          | 3.28311           | 1.29365               |             |"
      ]
     },
     "metadata": {},
     "output_type": "display_data"
    },
    {
     "data": {
      "text/html": [
       "<pre>+---------+--------------+-------------------+-----------------------+-------------+</pre>"
      ],
      "text/plain": [
       "+---------+--------------+-------------------+-----------------------+-------------+"
      ]
     },
     "metadata": {},
     "output_type": "display_data"
    },
    {
     "data": {
      "text/html": [
       "<pre>| 1       | 19.949ms     | 2.19783           | 0.940506              | 0.0919118   |</pre>"
      ],
      "text/plain": [
       "| 1       | 19.949ms     | 2.19783           | 0.940506              | 0.0919118   |"
      ]
     },
     "metadata": {},
     "output_type": "display_data"
    },
    {
     "data": {
      "text/html": [
       "<pre>| 2       | 40.89ms      | 1.38633           | 0.669489              | 0.0919118   |</pre>"
      ],
      "text/plain": [
       "| 2       | 40.89ms      | 1.38633           | 0.669489              | 0.0919118   |"
      ]
     },
     "metadata": {},
     "output_type": "display_data"
    },
    {
     "data": {
      "text/html": [
       "<pre>| 3       | 48.868ms     | 1.00521           | 0.546034              | 0.0919118   |</pre>"
      ],
      "text/plain": [
       "| 3       | 48.868ms     | 1.00521           | 0.546034              | 0.0919118   |"
      ]
     },
     "metadata": {},
     "output_type": "display_data"
    },
    {
     "data": {
      "text/html": [
       "<pre>| 4       | 53.854ms     | 0.767219          | 0.443616              | 0.0919118   |</pre>"
      ],
      "text/plain": [
       "| 4       | 53.854ms     | 0.767219          | 0.443616              | 0.0919118   |"
      ]
     },
     "metadata": {},
     "output_type": "display_data"
    },
    {
     "data": {
      "text/html": [
       "<pre>| 5       | 58.841ms     | 0.6181            | 0.415313              | 0.0919118   |</pre>"
      ],
      "text/plain": [
       "| 5       | 58.841ms     | 0.6181            | 0.415313              | 0.0919118   |"
      ]
     },
     "metadata": {},
     "output_type": "display_data"
    },
    {
     "data": {
      "text/html": [
       "<pre>| 6       | 65.824ms     | 0.4759            | 0.356706              | 0.0919118   |</pre>"
      ],
      "text/plain": [
       "| 6       | 65.824ms     | 0.4759            | 0.356706              | 0.0919118   |"
      ]
     },
     "metadata": {},
     "output_type": "display_data"
    },
    {
     "data": {
      "text/html": [
       "<pre>| 11      | 100.729ms    | 0.193411          | 0.21895               | 0.0919118   |</pre>"
      ],
      "text/plain": [
       "| 11      | 100.729ms    | 0.193411          | 0.21895               | 0.0919118   |"
      ]
     },
     "metadata": {},
     "output_type": "display_data"
    },
    {
     "data": {
      "text/html": [
       "<pre>+---------+--------------+-------------------+-----------------------+-------------+</pre>"
      ],
      "text/plain": [
       "+---------+--------------+-------------------+-----------------------+-------------+"
      ]
     },
     "metadata": {},
     "output_type": "display_data"
    },
    {
     "data": {
      "text/html": [
       "<pre>Optimization Complete: Maximum number of passes through the data reached.</pre>"
      ],
      "text/plain": [
       "Optimization Complete: Maximum number of passes through the data reached."
      ]
     },
     "metadata": {},
     "output_type": "display_data"
    },
    {
     "data": {
      "text/html": [
       "<pre>Computing final objective value and training RMSE.</pre>"
      ],
      "text/plain": [
       "Computing final objective value and training RMSE."
      ]
     },
     "metadata": {},
     "output_type": "display_data"
    },
    {
     "data": {
      "text/html": [
       "<pre>       Final objective value: 0.0402662</pre>"
      ],
      "text/plain": [
       "       Final objective value: 0.0402662"
      ]
     },
     "metadata": {},
     "output_type": "display_data"
    },
    {
     "data": {
      "text/html": [
       "<pre>       Final training RMSE: 0.138791</pre>"
      ],
      "text/plain": [
       "       Final training RMSE: 0.138791"
      ]
     },
     "metadata": {},
     "output_type": "display_data"
    }
   ],
   "source": [
    "rankfactmodel=gl.recommender.ranking_factorization_recommender.create(train_data, user_id='userID', item_id='CompanyID', target='rating', user_data=user_side_data)"
   ]
  },
  {
   "cell_type": "code",
   "execution_count": 11,
   "metadata": {},
   "outputs": [
    {
     "data": {
      "text/plain": [
       "{'CompanyID': Columns:\n",
       " \tCompanyID\tstr\n",
       " \tlinear_terms\tfloat\n",
       " \tfactors\tarray\n",
       " \n",
       " Rows: 17\n",
       " \n",
       " Data:\n",
       " +-----------+-----------------+-------------------------------+\n",
       " | CompanyID |   linear_terms  |            factors            |\n",
       " +-----------+-----------------+-------------------------------+\n",
       " |   CID01   | -0.420650660992 | [0.333953022957, 0.4333461... |\n",
       " |   CID04   | -0.203200519085 | [0.396175175905, -0.035577... |\n",
       " |   CID11   | -0.826834142208 | [0.153631746769, 0.0800811... |\n",
       " |   CID10   | -0.682351052761 | [0.427458137274, 0.1037192... |\n",
       " |   CID18   | -0.735562741756 | [0.12422093749, 0.49120646... |\n",
       " |   CID02   | -0.391872465611 | [-0.208319753408, 0.296892... |\n",
       " |   CID16   | -0.618113219738 | [-0.533556818962, 0.782376... |\n",
       " |   CID12   | -0.713038265705 | [-0.118499487638, 0.201350... |\n",
       " |   CID14   | -0.491265624762 | [-0.147301346064, 0.525792... |\n",
       " |   CID05   | -0.226206764579 | [-0.102812923491, 0.275244... |\n",
       " +-----------+-----------------+-------------------------------+\n",
       " [17 rows x 3 columns]\n",
       " Note: Only the head of the SFrame is printed.\n",
       " You can use print_rows(num_rows=m, num_columns=n) to print more rows and columns.,\n",
       " 'intercept': 3.7204161248374517,\n",
       " 'side_data': Columns:\n",
       " \tfeature\tstr\n",
       " \tindex\tstr\n",
       " \tlinear_terms\tfloat\n",
       " \tfactors\tarray\n",
       " \n",
       " Rows: 32\n",
       " \n",
       " Data:\n",
       " +----------------------+-------+-------------------+\n",
       " |       feature        | index |    linear_terms   |\n",
       " +----------------------+-------+-------------------+\n",
       " |    Coding skills     |   0   |  -0.165751665831  |\n",
       " |    Social skills     |   0   |  -0.0375963747501 |\n",
       " |   Language skills    |   0   |  -0.101163208485  |\n",
       " | program development  |   0   | -0.00354373827577 |\n",
       " | FrontEnd development |   0   |  0.0949972718954  |\n",
       " | BackEnd Development  |   0   |   0.130233317614  |\n",
       " |      Fullstack       |   0   |  0.0819708183408  |\n",
       " |  Mobile Development  |   0   |  0.0928685367107  |\n",
       " |   Web Development    |   0   |  -0.0769703760743 |\n",
       " |        UI/UX         |   0   |   0.18835888803   |\n",
       " +----------------------+-------+-------------------+\n",
       " +-------------------------------+\n",
       " |            factors            |\n",
       " +-------------------------------+\n",
       " | [0.0444616526365, 0.073240... |\n",
       " | [0.038901142776, 0.0905263... |\n",
       " | [0.0277610253543, 0.113051... |\n",
       " | [0.0852175578475, 0.132282... |\n",
       " | [0.0596217140555, 0.103675... |\n",
       " | [0.0747672095895, 0.132618... |\n",
       " | [0.0863417387009, 0.125028... |\n",
       " | [0.102554939687, 0.1100788... |\n",
       " | [0.11820115149, 0.19934609... |\n",
       " | [0.0540544204414, 0.086272... |\n",
       " +-------------------------------+\n",
       " [32 rows x 4 columns]\n",
       " Note: Only the head of the SFrame is printed.\n",
       " You can use print_rows(num_rows=m, num_columns=n) to print more rows and columns.,\n",
       " 'userID': Columns:\n",
       " \tuserID\tstr\n",
       " \tlinear_terms\tfloat\n",
       " \tfactors\tarray\n",
       " \n",
       " Rows: 964\n",
       " \n",
       " Data:\n",
       " +--------+------------------+-------------------------------+\n",
       " | userID |   linear_terms   |            factors            |\n",
       " +--------+------------------+-------------------------------+\n",
       " | UID01  | 0.0342669300735  | [0.0426073037088, 0.081029... |\n",
       " | UID02  | 0.0981281101704  | [0.148056417704, 0.3094071... |\n",
       " | UID03  | -0.148507013917  | [0.107494339347, 0.0935659... |\n",
       " | UID04  | -0.0311285294592 | [-0.159269109368, -0.03707... |\n",
       " | UID05  |  0.118187725544  | [0.0120416199788, 0.273552... |\n",
       " | UID06  | 0.0769576355815  | [-0.0153224486858, 0.04349... |\n",
       " | UID07  | 0.00467911083251 | [0.197453260422, -0.144645... |\n",
       " | UID08  | -0.244962289929  | [0.0418028794229, 0.090335... |\n",
       " | UID09  | 0.0373029448092  | [-0.0323391035199, 0.23379... |\n",
       " | UID10  | -0.194104492664  | [-0.0310300048441, 0.11970... |\n",
       " +--------+------------------+-------------------------------+\n",
       " [964 rows x 3 columns]\n",
       " Note: Only the head of the SFrame is printed.\n",
       " You can use print_rows(num_rows=m, num_columns=n) to print more rows and columns.}"
      ]
     },
     "execution_count": 11,
     "metadata": {},
     "output_type": "execute_result"
    }
   ],
   "source": [
    "rankfactmodel['coefficients']"
   ]
  },
  {
   "cell_type": "code",
   "execution_count": 13,
   "metadata": {},
   "outputs": [
    {
     "data": {
      "text/plain": [
       "['userID',\n",
       " 'Coding skills',\n",
       " 'Social skills',\n",
       " 'Language skills',\n",
       " 'program development',\n",
       " 'FrontEnd development',\n",
       " 'BackEnd Development',\n",
       " 'Fullstack',\n",
       " 'Mobile Development',\n",
       " 'Web Development',\n",
       " 'UI/UX',\n",
       " 'Good',\n",
       " 'Average',\n",
       " 'Bad',\n",
       " 'salary',\n",
       " 'degree']"
      ]
     },
     "execution_count": 13,
     "metadata": {},
     "output_type": "execute_result"
    }
   ],
   "source": [
    "rankfactmodel['user_side_data_column_names']"
   ]
  },
  {
   "cell_type": "code",
   "execution_count": 14,
   "metadata": {},
   "outputs": [
    {
     "data": {
      "text/plain": [
       "{'adagrad_momentum_weighting': 0.9,\n",
       " 'additional_iterations_if_unhealthy': 5L,\n",
       " 'binary_target': 0L,\n",
       " 'ials_confidence_scaling_factor': 1L,\n",
       " 'ials_confidence_scaling_type': 'auto',\n",
       " 'init_random_sigma': 0.01,\n",
       " 'item_id': 'CompanyID',\n",
       " 'linear_regularization': 1e-09,\n",
       " 'max_iterations': 25L,\n",
       " 'nmf': 0L,\n",
       " 'num_factors': 32L,\n",
       " 'num_sampled_negative_examples': 4L,\n",
       " 'num_tempering_iterations': 4L,\n",
       " 'random_seed': 0L,\n",
       " 'ranking_regularization': 0.25,\n",
       " 'regularization': 1e-09,\n",
       " 'regularization_type': 'normal',\n",
       " 'sgd_convergence_interval': 4L,\n",
       " 'sgd_convergence_threshold': 1e-05,\n",
       " 'sgd_max_trial_iterations': 5L,\n",
       " 'sgd_sampling_block_size': 131072L,\n",
       " 'sgd_step_adjustment_interval': 4L,\n",
       " 'sgd_step_size': 0.0,\n",
       " 'sgd_trial_sample_minimum_size': 10000L,\n",
       " 'sgd_trial_sample_proportion': 0.125,\n",
       " 'side_data_factorization': 1L,\n",
       " 'solver': 'auto',\n",
       " 'step_size_decrease_rate': 0.75,\n",
       " 'target': 'rating',\n",
       " 'tempering_regularization_start_value': 1e-08,\n",
       " 'track_exact_loss': 0L,\n",
       " 'unobserved_rating_value': -1.7976931348623157e+308,\n",
       " 'user_id': 'userID'}"
      ]
     },
     "execution_count": 14,
     "metadata": {},
     "output_type": "execute_result"
    }
   ],
   "source": [
    "rankfactmodel.get_current_options()"
   ]
  },
  {
   "cell_type": "code",
   "execution_count": 12,
   "metadata": {},
   "outputs": [],
   "source": [
    "ratingstestdata=pd.read_csv('ratingstest.csv',sep=',', names=rating_cols, encoding='latin-1')"
   ]
  },
  {
   "cell_type": "code",
   "execution_count": 13,
   "metadata": {},
   "outputs": [
    {
     "name": "stdout",
     "output_type": "stream",
     "text": [
      "(195, 3)\n"
     ]
    },
    {
     "data": {
      "text/html": [
       "<div>\n",
       "<style scoped>\n",
       "    .dataframe tbody tr th:only-of-type {\n",
       "        vertical-align: middle;\n",
       "    }\n",
       "\n",
       "    .dataframe tbody tr th {\n",
       "        vertical-align: top;\n",
       "    }\n",
       "\n",
       "    .dataframe thead th {\n",
       "        text-align: right;\n",
       "    }\n",
       "</style>\n",
       "<table border=\"1\" class=\"dataframe\">\n",
       "  <thead>\n",
       "    <tr style=\"text-align: right;\">\n",
       "      <th></th>\n",
       "      <th>userID</th>\n",
       "      <th>CompanyID</th>\n",
       "      <th>rating</th>\n",
       "    </tr>\n",
       "  </thead>\n",
       "  <tbody>\n",
       "    <tr>\n",
       "      <th>0</th>\n",
       "      <td>UID770</td>\n",
       "      <td>CID02</td>\n",
       "      <td>5</td>\n",
       "    </tr>\n",
       "    <tr>\n",
       "      <th>1</th>\n",
       "      <td>UID771</td>\n",
       "      <td>CID02</td>\n",
       "      <td>5</td>\n",
       "    </tr>\n",
       "    <tr>\n",
       "      <th>2</th>\n",
       "      <td>UID772</td>\n",
       "      <td>CID02</td>\n",
       "      <td>5</td>\n",
       "    </tr>\n",
       "    <tr>\n",
       "      <th>3</th>\n",
       "      <td>UID773</td>\n",
       "      <td>CID02</td>\n",
       "      <td>5</td>\n",
       "    </tr>\n",
       "    <tr>\n",
       "      <th>4</th>\n",
       "      <td>UID774</td>\n",
       "      <td>CID02</td>\n",
       "      <td>5</td>\n",
       "    </tr>\n",
       "  </tbody>\n",
       "</table>\n",
       "</div>"
      ],
      "text/plain": [
       "   userID CompanyID  rating\n",
       "0  UID770     CID02       5\n",
       "1  UID771     CID02       5\n",
       "2  UID772     CID02       5\n",
       "3  UID773     CID02       5\n",
       "4  UID774     CID02       5"
      ]
     },
     "execution_count": 13,
     "metadata": {},
     "output_type": "execute_result"
    }
   ],
   "source": [
    "print ratingstestdata.shape\n",
    "ratingstestdata.head()"
   ]
  },
  {
   "cell_type": "code",
   "execution_count": 14,
   "metadata": {},
   "outputs": [],
   "source": [
    "test_data=gl.SFrame(ratingstestdata)"
   ]
  },
  {
   "cell_type": "code",
   "execution_count": 15,
   "metadata": {},
   "outputs": [
    {
     "name": "stdout",
     "output_type": "stream",
     "text": [
      "\n",
      "Precision and recall summary statistics by cutoff\n",
      "+--------+-----------------+----------------+\n",
      "| cutoff |  mean_precision |  mean_recall   |\n",
      "+--------+-----------------+----------------+\n",
      "|   1    |  0.102564102564 | 0.102564102564 |\n",
      "|   2    | 0.0564102564103 | 0.112820512821 |\n",
      "|   3    | 0.0495726495726 | 0.148717948718 |\n",
      "|   4    | 0.0628205128205 | 0.251282051282 |\n",
      "|   5    | 0.0738461538462 | 0.369230769231 |\n",
      "|   6    | 0.0760683760684 | 0.45641025641  |\n",
      "|   7    | 0.0820512820513 | 0.574358974359 |\n",
      "|   8    | 0.0788461538462 | 0.630769230769 |\n",
      "|   9    | 0.0735042735043 | 0.661538461538 |\n",
      "|   10   | 0.0666666666667 | 0.666666666667 |\n",
      "+--------+-----------------+----------------+\n",
      "[10 rows x 3 columns]\n",
      "\n",
      "('\\nOverall RMSE: ', 3.102572667290038)\n",
      "\n",
      "Per User RMSE (best)\n",
      "+--------+-------+-----------------+\n",
      "| userID | count |       rmse      |\n",
      "+--------+-------+-----------------+\n",
      "| UID772 |   1   | 0.0235387213219 |\n",
      "+--------+-------+-----------------+\n",
      "[1 rows x 3 columns]\n",
      "\n",
      "\n",
      "Per User RMSE (worst)\n",
      "+--------+-------+---------------+\n",
      "| userID | count |      rmse     |\n",
      "+--------+-------+---------------+\n",
      "| UID837 |   1   | 4.92385834926 |\n",
      "+--------+-------+---------------+\n",
      "[1 rows x 3 columns]\n",
      "\n",
      "\n",
      "Per Item RMSE (best)\n",
      "+-----------+-------+---------------+\n",
      "| CompanyID | count |      rmse     |\n",
      "+-----------+-------+---------------+\n",
      "|   CID13   |   11  | 1.79243622824 |\n",
      "+-----------+-------+---------------+\n",
      "[1 rows x 3 columns]\n",
      "\n",
      "\n",
      "Per Item RMSE (worst)\n",
      "+-----------+-------+---------------+\n",
      "| CompanyID | count |      rmse     |\n",
      "+-----------+-------+---------------+\n",
      "|   CID02   |   90  | 3.79062853748 |\n",
      "+-----------+-------+---------------+\n",
      "[1 rows x 3 columns]\n",
      "\n"
     ]
    }
   ],
   "source": [
    "eval=rankfactmodel.evaluate(dataset=test_data, target='rating')"
   ]
  },
  {
   "cell_type": "code",
   "execution_count": 16,
   "metadata": {},
   "outputs": [],
   "source": [
    "results=rankfactmodel.predict(dataset=test_data)"
   ]
  },
  {
   "cell_type": "code",
   "execution_count": 17,
   "metadata": {},
   "outputs": [
    {
     "name": "stdout",
     "output_type": "stream",
     "text": [
      "[5.232604364727701, 3.9707812138035994, 4.976461278678068, 3.970847398477014, 4.976278566816797, 4.607851044343585, 3.182302984126687, 3.790370797850807, 0.5338258443257984, 0.5341658473558311, 0.5338832103043898, 0.5339097990368429, 0.24576502869609262, 0.2454573993100495, 0.9329996763804558, -0.3812295729480355, 0.9327482842523351, 0.9325178600679975, 0.9329948701447903, 0.2456694998725708, 0.3118826110035626, 0.3115401192713363, 1.483087302752716, 0.31212486400459616, 0.840417879262128, 0.2583294973192607, 0.5346552738679349, 1.0020517735061332, 1.3702660357835668, 0.5344738630197354, 0.2588330469257527, 1.3705345080157314, 0.2585676484155157, 0.26761891904566815, 1.3700184069162389, 0.2583030772614676, 0.5343797070259426, 1.001815846353162, 0.2584444488252813, 1.0022087156838153, 1.804663550364745, 1.0255008904055614, -0.38118744284333284, 1.8053578846607308, 1.1666010005966814, 0.3122533896508286, 2.4296679986687706, 0.31184644844284426, 1.166249818791408, 0.9330533434347728, -0.3803412776582662, 1.1662134836638471, 1.4827365715059897, 0.5348013440757824, 1.3703543612896794, 0.25858183423729875, 1.0023096963300815, 0.5342716389691815, 0.25777191368575236, 0.4486982826536461, 0.5346803393563788, 0.14026580094246688, 0.14058141782475664, 0.6871845305418502, 0.6865689906626868, 0.14100895577262795, 0.14078418836157303, 0.07614165074260759, 0.39102539714945683, 0.3077742039509359, 0.2581375741552221, 1.370289028262556, 1.3703146878975132, 0.24534438866208452, 0.24580366966943634, 2.4292472022239564, -0.1430152478889739, 1.8052335970601745, 0.36637527763974154, 1.8056177600115517, 0.24557560989301797, 1.4832770477256019, 1.1660057410770661, 0.311489428753299, 1.1659462951607167, -0.14347814082470345, 1.002114925074744, 1.0023445048823816, 2.9211731237879177, 2.928292562009625, 0.725631365287478, 3.2397838962129355, 3.239343155655257, 2.9238454906313165, 3.2390987521005683, 2.923791123508232, 2.9207376298086785, 2.7942733051455035, 3.7346630138886727, 3.1700406419282046, ... ]\n"
     ]
    }
   ],
   "source": [
    "print results"
   ]
  },
  {
   "cell_type": "code",
   "execution_count": 18,
   "metadata": {},
   "outputs": [],
   "source": [
    "userstestdata= pd.read_csv('usersidedata.csv', sep=',', names=user_cols, encoding='latin-1')"
   ]
  },
  {
   "cell_type": "code",
   "execution_count": 19,
   "metadata": {},
   "outputs": [
    {
     "name": "stdout",
     "output_type": "stream",
     "text": [
      "(195, 16)\n"
     ]
    },
    {
     "data": {
      "text/html": [
       "<div>\n",
       "<style scoped>\n",
       "    .dataframe tbody tr th:only-of-type {\n",
       "        vertical-align: middle;\n",
       "    }\n",
       "\n",
       "    .dataframe tbody tr th {\n",
       "        vertical-align: top;\n",
       "    }\n",
       "\n",
       "    .dataframe thead th {\n",
       "        text-align: right;\n",
       "    }\n",
       "</style>\n",
       "<table border=\"1\" class=\"dataframe\">\n",
       "  <thead>\n",
       "    <tr style=\"text-align: right;\">\n",
       "      <th></th>\n",
       "      <th>userID</th>\n",
       "      <th>Coding skills</th>\n",
       "      <th>Social skills</th>\n",
       "      <th>Language skills</th>\n",
       "      <th>program development</th>\n",
       "      <th>FrontEnd development</th>\n",
       "      <th>BackEnd Development</th>\n",
       "      <th>Fullstack</th>\n",
       "      <th>Mobile Development</th>\n",
       "      <th>Web Development</th>\n",
       "      <th>UI/UX</th>\n",
       "      <th>Good</th>\n",
       "      <th>Average</th>\n",
       "      <th>Bad</th>\n",
       "      <th>salary</th>\n",
       "      <th>degree</th>\n",
       "    </tr>\n",
       "  </thead>\n",
       "  <tbody>\n",
       "    <tr>\n",
       "      <th>0</th>\n",
       "      <td>UID770</td>\n",
       "      <td>1</td>\n",
       "      <td>1</td>\n",
       "      <td>1</td>\n",
       "      <td>0</td>\n",
       "      <td>0</td>\n",
       "      <td>0</td>\n",
       "      <td>0</td>\n",
       "      <td>1</td>\n",
       "      <td>1</td>\n",
       "      <td>0</td>\n",
       "      <td>1</td>\n",
       "      <td>0</td>\n",
       "      <td>0</td>\n",
       "      <td>12 000</td>\n",
       "      <td>DID01</td>\n",
       "    </tr>\n",
       "    <tr>\n",
       "      <th>1</th>\n",
       "      <td>UID771</td>\n",
       "      <td>0</td>\n",
       "      <td>0</td>\n",
       "      <td>0</td>\n",
       "      <td>1</td>\n",
       "      <td>0</td>\n",
       "      <td>0</td>\n",
       "      <td>1</td>\n",
       "      <td>0</td>\n",
       "      <td>0</td>\n",
       "      <td>0</td>\n",
       "      <td>1</td>\n",
       "      <td>0</td>\n",
       "      <td>0</td>\n",
       "      <td>12 000</td>\n",
       "      <td>DID01</td>\n",
       "    </tr>\n",
       "    <tr>\n",
       "      <th>2</th>\n",
       "      <td>UID772</td>\n",
       "      <td>1</td>\n",
       "      <td>1</td>\n",
       "      <td>1</td>\n",
       "      <td>0</td>\n",
       "      <td>0</td>\n",
       "      <td>0</td>\n",
       "      <td>1</td>\n",
       "      <td>0</td>\n",
       "      <td>0</td>\n",
       "      <td>0</td>\n",
       "      <td>1</td>\n",
       "      <td>0</td>\n",
       "      <td>0</td>\n",
       "      <td>12 000</td>\n",
       "      <td>DID01</td>\n",
       "    </tr>\n",
       "    <tr>\n",
       "      <th>3</th>\n",
       "      <td>UID773</td>\n",
       "      <td>0</td>\n",
       "      <td>0</td>\n",
       "      <td>0</td>\n",
       "      <td>1</td>\n",
       "      <td>0</td>\n",
       "      <td>0</td>\n",
       "      <td>1</td>\n",
       "      <td>0</td>\n",
       "      <td>0</td>\n",
       "      <td>0</td>\n",
       "      <td>1</td>\n",
       "      <td>0</td>\n",
       "      <td>0</td>\n",
       "      <td>12 000</td>\n",
       "      <td>DID01</td>\n",
       "    </tr>\n",
       "    <tr>\n",
       "      <th>4</th>\n",
       "      <td>UID774</td>\n",
       "      <td>1</td>\n",
       "      <td>1</td>\n",
       "      <td>1</td>\n",
       "      <td>0</td>\n",
       "      <td>0</td>\n",
       "      <td>0</td>\n",
       "      <td>1</td>\n",
       "      <td>0</td>\n",
       "      <td>0</td>\n",
       "      <td>0</td>\n",
       "      <td>1</td>\n",
       "      <td>0</td>\n",
       "      <td>0</td>\n",
       "      <td>12 000</td>\n",
       "      <td>DID01</td>\n",
       "    </tr>\n",
       "  </tbody>\n",
       "</table>\n",
       "</div>"
      ],
      "text/plain": [
       "   userID  Coding skills  Social skills  Language skills  program development  \\\n",
       "0  UID770              1              1                1                    0   \n",
       "1  UID771              0              0                0                    1   \n",
       "2  UID772              1              1                1                    0   \n",
       "3  UID773              0              0                0                    1   \n",
       "4  UID774              1              1                1                    0   \n",
       "\n",
       "   FrontEnd development  BackEnd Development  Fullstack  Mobile Development  \\\n",
       "0                     0                    0          0                   1   \n",
       "1                     0                    0          1                   0   \n",
       "2                     0                    0          1                   0   \n",
       "3                     0                    0          1                   0   \n",
       "4                     0                    0          1                   0   \n",
       "\n",
       "   Web Development  UI/UX  Good  Average  Bad  salary degree  \n",
       "0                1      0     1        0    0  12 000  DID01  \n",
       "1                0      0     1        0    0  12 000  DID01  \n",
       "2                0      0     1        0    0  12 000  DID01  \n",
       "3                0      0     1        0    0  12 000  DID01  \n",
       "4                0      0     1        0    0  12 000  DID01  "
      ]
     },
     "execution_count": 19,
     "metadata": {},
     "output_type": "execute_result"
    }
   ],
   "source": [
    "print userstestdata.shape\n",
    "userstestdata.head()"
   ]
  },
  {
   "cell_type": "code",
   "execution_count": 20,
   "metadata": {},
   "outputs": [],
   "source": [
    "user_side_datatest=gl.SFrame(userstestdata)"
   ]
  },
  {
   "cell_type": "code",
   "execution_count": 23,
   "metadata": {},
   "outputs": [],
   "source": [
    "results=rankfactmodel.predict(dataset=test_data, new_user_data=user_side_datatest)"
   ]
  },
  {
   "cell_type": "code",
   "execution_count": 24,
   "metadata": {},
   "outputs": [
    {
     "name": "stdout",
     "output_type": "stream",
     "text": [
      "[5.232604364727701, 3.9707812138035994, 4.976461278678068, 3.970847398477014, 4.976278566816797, 4.607851044343585, 3.182302984126687, 3.790370797850807, 0.5338258443257984, 0.5341658473558311, 0.5338832103043898, 0.5339097990368429, 0.24576502869609262, 0.2454573993100495, 0.9329996763804558, -0.3812295729480355, 0.9327482842523351, 0.9325178600679975, 0.9329948701447903, 0.2456694998725708, 0.3118826110035626, 0.3115401192713363, 1.483087302752716, 0.31212486400459616, 0.840417879262128, 0.2583294973192607, 0.5346552738679349, 1.0020517735061332, 1.3702660357835668, 0.5344738630197354, 0.2588330469257527, 1.3705345080157314, 0.2585676484155157, 0.26761891904566815, 1.3700184069162389, 0.2583030772614676, 0.5343797070259426, 1.001815846353162, 0.2584444488252813, 1.0022087156838153, 1.804663550364745, 1.0255008904055614, -0.38118744284333284, 1.8053578846607308, 1.1666010005966814, 0.3122533896508286, 2.4296679986687706, 0.31184644844284426, 1.166249818791408, 0.9330533434347728, -0.3803412776582662, 1.1662134836638471, 1.4827365715059897, 0.5348013440757824, 1.3703543612896794, 0.25858183423729875, 1.0023096963300815, 0.5342716389691815, 0.25777191368575236, 0.4486982826536461, 0.5346803393563788, 0.14026580094246688, 0.14058141782475664, 0.6871845305418502, 0.6865689906626868, 0.14100895577262795, 0.14078418836157303, 0.07614165074260759, 0.39102539714945683, 0.3077742039509359, 0.2581375741552221, 1.370289028262556, 1.3703146878975132, 0.24534438866208452, 0.24580366966943634, 2.4292472022239564, -0.1430152478889739, 1.8052335970601745, 0.36637527763974154, 1.8056177600115517, 0.24557560989301797, 1.4832770477256019, 1.1660057410770661, 0.311489428753299, 1.1659462951607167, -0.14347814082470345, 1.002114925074744, 1.0023445048823816, 2.9211731237879177, 2.928292562009625, 0.725631365287478, 3.2397838962129355, 3.239343155655257, 2.9238454906313165, 3.2390987521005683, 2.923791123508232, 2.9207376298086785, 2.7942733051455035, 3.7346630138886727, 3.1700406419282046, ... ]\n"
     ]
    }
   ],
   "source": [
    "print results"
   ]
  },
  {
   "cell_type": "code",
   "execution_count": 25,
   "metadata": {},
   "outputs": [
    {
     "data": {
      "text/html": [
       "<pre>Finished parsing file B:\\STUDIES\\IIT\\SDGP\\Project\\JobStack\\recommender-jobstack\\ratingsonly.csv</pre>"
      ],
      "text/plain": [
       "Finished parsing file B:\\STUDIES\\IIT\\SDGP\\Project\\JobStack\\recommender-jobstack\\ratingsonly.csv"
      ]
     },
     "metadata": {},
     "output_type": "display_data"
    },
    {
     "data": {
      "text/html": [
       "<pre>Parsing completed. Parsed 195 lines in 0.02693 secs.</pre>"
      ],
      "text/plain": [
       "Parsing completed. Parsed 195 lines in 0.02693 secs."
      ]
     },
     "metadata": {},
     "output_type": "display_data"
    }
   ],
   "source": [
    "ratingsonly=gl.SArray('ratingsonly.csv', dtype=int)"
   ]
  },
  {
   "cell_type": "code",
   "execution_count": 26,
   "metadata": {},
   "outputs": [],
   "source": [
    "predictions=gl.SArray(results, dtype=int)"
   ]
  },
  {
   "cell_type": "code",
   "execution_count": 27,
   "metadata": {},
   "outputs": [
    {
     "name": "stdout",
     "output_type": "stream",
     "text": [
      "[5.232604364727701, 3.9707812138035994, 4.976461278678068, 3.970847398477014, 4.976278566816797, 4.607851044343585, 3.182302984126687, 3.790370797850807, 0.5338258443257984, 0.5341658473558311, 0.5338832103043898, 0.5339097990368429, 0.24576502869609262, 0.2454573993100495, 0.9329996763804558, -0.3812295729480355, 0.9327482842523351, 0.9325178600679975, 0.9329948701447903, 0.2456694998725708, 0.3118826110035626, 0.3115401192713363, 1.483087302752716, 0.31212486400459616, 0.840417879262128, 0.2583294973192607, 0.5346552738679349, 1.0020517735061332, 1.3702660357835668, 0.5344738630197354, 0.2588330469257527, 1.3705345080157314, 0.2585676484155157, 0.26761891904566815, 1.3700184069162389, 0.2583030772614676, 0.5343797070259426, 1.001815846353162, 0.2584444488252813, 1.0022087156838153, 1.804663550364745, 1.0255008904055614, -0.38118744284333284, 1.8053578846607308, 1.1666010005966814, 0.3122533896508286, 2.4296679986687706, 0.31184644844284426, 1.166249818791408, 0.9330533434347728, -0.3803412776582662, 1.1662134836638471, 1.4827365715059897, 0.5348013440757824, 1.3703543612896794, 0.25858183423729875, 1.0023096963300815, 0.5342716389691815, 0.25777191368575236, 0.4486982826536461, 0.5346803393563788, 0.14026580094246688, 0.14058141782475664, 0.6871845305418502, 0.6865689906626868, 0.14100895577262795, 0.14078418836157303, 0.07614165074260759, 0.39102539714945683, 0.3077742039509359, 0.2581375741552221, 1.370289028262556, 1.3703146878975132, 0.24534438866208452, 0.24580366966943634, 2.4292472022239564, -0.1430152478889739, 1.8052335970601745, 0.36637527763974154, 1.8056177600115517, 0.24557560989301797, 1.4832770477256019, 1.1660057410770661, 0.311489428753299, 1.1659462951607167, -0.14347814082470345, 1.002114925074744, 1.0023445048823816, 2.9211731237879177, 2.928292562009625, 0.725631365287478, 3.2397838962129355, 3.239343155655257, 2.9238454906313165, 3.2390987521005683, 2.923791123508232, 2.9207376298086785, 2.7942733051455035, 3.7346630138886727, 3.1700406419282046, ... ]\n"
     ]
    }
   ],
   "source": [
    "print predictions"
   ]
  },
  {
   "cell_type": "code",
   "execution_count": 28,
   "metadata": {},
   "outputs": [],
   "source": [
    "predict=results.astype(int)"
   ]
  },
  {
   "cell_type": "code",
   "execution_count": 29,
   "metadata": {},
   "outputs": [
    {
     "name": "stdout",
     "output_type": "stream",
     "text": [
      "[5L, 3L, 4L, 3L, 4L, 4L, 3L, 3L, 0L, 0L, 0L, 0L, 0L, 0L, 0L, 0L, 0L, 0L, 0L, 0L, 0L, 0L, 1L, 0L, 0L, 0L, 0L, 1L, 1L, 0L, 0L, 1L, 0L, 0L, 1L, 0L, 0L, 1L, 0L, 1L, 1L, 1L, 0L, 1L, 1L, 0L, 2L, 0L, 1L, 0L, 0L, 1L, 1L, 0L, 1L, 0L, 1L, 0L, 0L, 0L, 0L, 0L, 0L, 0L, 0L, 0L, 0L, 0L, 0L, 0L, 0L, 1L, 1L, 0L, 0L, 2L, 0L, 1L, 0L, 1L, 0L, 1L, 1L, 0L, 1L, 0L, 1L, 1L, 2L, 2L, 0L, 3L, 3L, 2L, 3L, 2L, 2L, 2L, 3L, 3L, ... ]\n"
     ]
    }
   ],
   "source": [
    "print predict"
   ]
  },
  {
   "cell_type": "code",
   "execution_count": 30,
   "metadata": {},
   "outputs": [
    {
     "data": {
      "text/plain": [
       "{0L: 0.6717948717948717,\n",
       " 1L: 0.558974358974359,\n",
       " 2L: 0.7794871794871795,\n",
       " 3L: 0.8666666666666667,\n",
       " 4L: 0.7589743589743589,\n",
       " 5L: 0.4256410256410256}"
      ]
     },
     "execution_count": 30,
     "metadata": {},
     "output_type": "execute_result"
    }
   ],
   "source": [
    "gl.evaluation.accuracy(targets=ratingsonly, predictions=predict,average=None)"
   ]
  },
  {
   "cell_type": "code",
   "execution_count": 31,
   "metadata": {},
   "outputs": [
    {
     "data": {
      "text/plain": [
       "0.03076923076923077"
      ]
     },
     "execution_count": 31,
     "metadata": {},
     "output_type": "execute_result"
    }
   ],
   "source": [
    "gl.evaluation.accuracy(targets=ratingsonly, predictions=predict,average='micro')"
   ]
  },
  {
   "cell_type": "code",
   "execution_count": 32,
   "metadata": {},
   "outputs": [
    {
     "data": {
      "text/plain": [
       "0.6769230769230768"
      ]
     },
     "execution_count": 32,
     "metadata": {},
     "output_type": "execute_result"
    }
   ],
   "source": [
    "gl.evaluation.accuracy(targets=ratingsonly, predictions=predict,average='macro')"
   ]
  },
  {
   "cell_type": "code",
   "execution_count": 33,
   "metadata": {},
   "outputs": [
    {
     "data": {
      "text/plain": [
       "5.0"
      ]
     },
     "execution_count": 33,
     "metadata": {},
     "output_type": "execute_result"
    }
   ],
   "source": [
    "gl.evaluation.max_error(targets=ratingsonly, predictions=predict)"
   ]
  },
  {
   "cell_type": "code",
   "execution_count": 34,
   "metadata": {},
   "outputs": [
    {
     "data": {
      "text/plain": [
       "3.4700181038469586"
      ]
     },
     "execution_count": 34,
     "metadata": {},
     "output_type": "execute_result"
    }
   ],
   "source": [
    "gl.evaluation.rmse(ratingsonly, predict)"
   ]
  },
  {
   "cell_type": "code",
   "execution_count": 40,
   "metadata": {},
   "outputs": [],
   "source": [
    "new_user_info=gl.SFrame({'userID' :['UID967'], 'Coding skills' :['1'], 'Social skills' :['1'], 'Language skills' :['0'],\n",
    "                        'program development' :['1'], 'FrontEnd development' :['1'], 'BackEnd Development' :['0'],\n",
    "                        'Fullstack' :['1'], 'Mobile Development' :['1'], 'Web Development' :['0'], 'UI/UX' :['1'],\n",
    "                        'Good' :['0'], 'Average' :['1'], 'Bad' :['0'], 'salary' :['20 000'], 'degree' :['DID01']})"
   ]
  },
  {
   "cell_type": "code",
   "execution_count": 42,
   "metadata": {},
   "outputs": [
    {
     "name": "stdout",
     "output_type": "stream",
     "text": [
      "+---------+-----------+---------------+------+\n",
      "|  userID | CompanyID |     score     | rank |\n",
      "+---------+-----------+---------------+------+\n",
      "| UID1000 |   CID04   | 3.77194917195 |  1   |\n",
      "| UID1000 |   CID03   | 3.72041612484 |  2   |\n",
      "| UID1000 |   CID13   | 3.72041612484 |  3   |\n",
      "| UID1000 |   CID07   | 3.64484262832 |  4   |\n",
      "| UID1000 |   CID08   | 3.55077285685 |  5   |\n",
      "+---------+-----------+---------------+------+\n",
      "[5 rows x 4 columns]\n",
      "\n"
     ]
    }
   ],
   "source": [
    "recommendations = rankfactmodel.recommend(['UID1000'],\n",
    "                                        new_user_data = new_user_info , k=5)\n",
    "recommendations.print_rows(num_rows=25)"
   ]
  }
 ],
 "metadata": {
  "kernelspec": {
   "display_name": "Python 2",
   "language": "python",
   "name": "python2"
  },
  "language_info": {
   "codemirror_mode": {
    "name": "ipython",
    "version": 2
   },
   "file_extension": ".py",
   "mimetype": "text/x-python",
   "name": "python",
   "nbconvert_exporter": "python",
   "pygments_lexer": "ipython2",
   "version": "2.7.17"
  }
 },
 "nbformat": 4,
 "nbformat_minor": 2
}

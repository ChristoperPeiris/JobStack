{
 "cells": [
  {
   "cell_type": "code",
   "execution_count": 1,
   "metadata": {},
   "outputs": [],
   "source": [
    "import graphlab as gl"
   ]
  },
  {
   "cell_type": "code",
   "execution_count": 2,
   "metadata": {},
   "outputs": [],
   "source": [
    "import pandas as pd"
   ]
  },
  {
   "cell_type": "code",
   "execution_count": 3,
   "metadata": {},
   "outputs": [],
   "source": [
    "# reading user data:\n",
    "user_cols = ['userID', 'Coding skills', 'Social skills', 'Language skills', 'program development',\n",
    "             'FrontEnd development', 'BackEnd Development', 'Fullstack', 'Mobile Development', 'Web Development',\n",
    "             'UI/UX', 'Good', 'Average', 'Bad', 'salary']"
   ]
  },
  {
   "cell_type": "code",
   "execution_count": 4,
   "metadata": {},
   "outputs": [],
   "source": [
    "users = pd.read_csv('users.csv', sep=',', names=user_cols, encoding='latin-1')"
   ]
  },
  {
   "cell_type": "code",
   "execution_count": 5,
   "metadata": {},
   "outputs": [
    {
     "name": "stdout",
     "output_type": "stream",
     "text": [
      "(964, 15)\n"
     ]
    },
    {
     "data": {
      "text/html": [
       "<div>\n",
       "<style scoped>\n",
       "    .dataframe tbody tr th:only-of-type {\n",
       "        vertical-align: middle;\n",
       "    }\n",
       "\n",
       "    .dataframe tbody tr th {\n",
       "        vertical-align: top;\n",
       "    }\n",
       "\n",
       "    .dataframe thead th {\n",
       "        text-align: right;\n",
       "    }\n",
       "</style>\n",
       "<table border=\"1\" class=\"dataframe\">\n",
       "  <thead>\n",
       "    <tr style=\"text-align: right;\">\n",
       "      <th></th>\n",
       "      <th>userID</th>\n",
       "      <th>Coding skills</th>\n",
       "      <th>Social skills</th>\n",
       "      <th>Language skills</th>\n",
       "      <th>program development</th>\n",
       "      <th>FrontEnd development</th>\n",
       "      <th>BackEnd Development</th>\n",
       "      <th>Fullstack</th>\n",
       "      <th>Mobile Development</th>\n",
       "      <th>Web Development</th>\n",
       "      <th>UI/UX</th>\n",
       "      <th>Good</th>\n",
       "      <th>Average</th>\n",
       "      <th>Bad</th>\n",
       "      <th>salary</th>\n",
       "    </tr>\n",
       "  </thead>\n",
       "  <tbody>\n",
       "    <tr>\n",
       "      <th>0</th>\n",
       "      <td>UID01</td>\n",
       "      <td>1</td>\n",
       "      <td>1</td>\n",
       "      <td>0</td>\n",
       "      <td>0</td>\n",
       "      <td>0</td>\n",
       "      <td>0</td>\n",
       "      <td>0</td>\n",
       "      <td>0</td>\n",
       "      <td>0</td>\n",
       "      <td>1</td>\n",
       "      <td>0</td>\n",
       "      <td>1</td>\n",
       "      <td>0</td>\n",
       "      <td>15 000</td>\n",
       "    </tr>\n",
       "    <tr>\n",
       "      <th>1</th>\n",
       "      <td>UID02</td>\n",
       "      <td>0</td>\n",
       "      <td>1</td>\n",
       "      <td>0</td>\n",
       "      <td>0</td>\n",
       "      <td>0</td>\n",
       "      <td>0</td>\n",
       "      <td>0</td>\n",
       "      <td>1</td>\n",
       "      <td>0</td>\n",
       "      <td>0</td>\n",
       "      <td>1</td>\n",
       "      <td>0</td>\n",
       "      <td>0</td>\n",
       "      <td>15 000</td>\n",
       "    </tr>\n",
       "    <tr>\n",
       "      <th>2</th>\n",
       "      <td>UID03</td>\n",
       "      <td>1</td>\n",
       "      <td>0</td>\n",
       "      <td>0</td>\n",
       "      <td>0</td>\n",
       "      <td>0</td>\n",
       "      <td>0</td>\n",
       "      <td>0</td>\n",
       "      <td>0</td>\n",
       "      <td>0</td>\n",
       "      <td>0</td>\n",
       "      <td>1</td>\n",
       "      <td>0</td>\n",
       "      <td>0</td>\n",
       "      <td>30 000</td>\n",
       "    </tr>\n",
       "    <tr>\n",
       "      <th>3</th>\n",
       "      <td>UID04</td>\n",
       "      <td>1</td>\n",
       "      <td>0</td>\n",
       "      <td>0</td>\n",
       "      <td>1</td>\n",
       "      <td>0</td>\n",
       "      <td>0</td>\n",
       "      <td>0</td>\n",
       "      <td>1</td>\n",
       "      <td>1</td>\n",
       "      <td>0</td>\n",
       "      <td>1</td>\n",
       "      <td>0</td>\n",
       "      <td>0</td>\n",
       "      <td>30 000</td>\n",
       "    </tr>\n",
       "    <tr>\n",
       "      <th>4</th>\n",
       "      <td>UID05</td>\n",
       "      <td>1</td>\n",
       "      <td>0</td>\n",
       "      <td>0</td>\n",
       "      <td>0</td>\n",
       "      <td>0</td>\n",
       "      <td>0</td>\n",
       "      <td>0</td>\n",
       "      <td>0</td>\n",
       "      <td>0</td>\n",
       "      <td>0</td>\n",
       "      <td>0</td>\n",
       "      <td>1</td>\n",
       "      <td>0</td>\n",
       "      <td>10 000</td>\n",
       "    </tr>\n",
       "  </tbody>\n",
       "</table>\n",
       "</div>"
      ],
      "text/plain": [
       "  userID  Coding skills  Social skills  Language skills  program development  \\\n",
       "0  UID01              1              1                0                    0   \n",
       "1  UID02              0              1                0                    0   \n",
       "2  UID03              1              0                0                    0   \n",
       "3  UID04              1              0                0                    1   \n",
       "4  UID05              1              0                0                    0   \n",
       "\n",
       "   FrontEnd development  BackEnd Development  Fullstack  Mobile Development  \\\n",
       "0                     0                    0          0                   0   \n",
       "1                     0                    0          0                   1   \n",
       "2                     0                    0          0                   0   \n",
       "3                     0                    0          0                   1   \n",
       "4                     0                    0          0                   0   \n",
       "\n",
       "   Web Development  UI/UX  Good  Average  Bad  salary  \n",
       "0                0      1     0        1    0  15 000  \n",
       "1                0      0     1        0    0  15 000  \n",
       "2                0      0     1        0    0  30 000  \n",
       "3                1      0     1        0    0  30 000  \n",
       "4                0      0     0        1    0  10 000  "
      ]
     },
     "execution_count": 5,
     "metadata": {},
     "output_type": "execute_result"
    }
   ],
   "source": [
    "print users.shape\n",
    "users.head()"
   ]
  },
  {
   "cell_type": "code",
   "execution_count": 6,
   "metadata": {},
   "outputs": [],
   "source": [
    "# reading company data:\n",
    "company_cols=['CompanyName', 'CompanyID']"
   ]
  },
  {
   "cell_type": "code",
   "execution_count": 7,
   "metadata": {},
   "outputs": [],
   "source": [
    "company=pd.read_csv('company.csv', sep=',', names=company_cols, encoding='latin-1')"
   ]
  },
  {
   "cell_type": "code",
   "execution_count": 8,
   "metadata": {},
   "outputs": [
    {
     "name": "stdout",
     "output_type": "stream",
     "text": [
      "(18, 2)\n"
     ]
    },
    {
     "data": {
      "text/html": [
       "<div>\n",
       "<style scoped>\n",
       "    .dataframe tbody tr th:only-of-type {\n",
       "        vertical-align: middle;\n",
       "    }\n",
       "\n",
       "    .dataframe tbody tr th {\n",
       "        vertical-align: top;\n",
       "    }\n",
       "\n",
       "    .dataframe thead th {\n",
       "        text-align: right;\n",
       "    }\n",
       "</style>\n",
       "<table border=\"1\" class=\"dataframe\">\n",
       "  <thead>\n",
       "    <tr style=\"text-align: right;\">\n",
       "      <th></th>\n",
       "      <th>CompanyName</th>\n",
       "      <th>CompanyID</th>\n",
       "    </tr>\n",
       "  </thead>\n",
       "  <tbody>\n",
       "    <tr>\n",
       "      <th>0</th>\n",
       "      <td>Virtusa</td>\n",
       "      <td>CID01</td>\n",
       "    </tr>\n",
       "    <tr>\n",
       "      <th>1</th>\n",
       "      <td>Sysco Labs</td>\n",
       "      <td>CID02</td>\n",
       "    </tr>\n",
       "    <tr>\n",
       "      <th>2</th>\n",
       "      <td>WSO2</td>\n",
       "      <td>CID03</td>\n",
       "    </tr>\n",
       "    <tr>\n",
       "      <th>3</th>\n",
       "      <td>Synopys</td>\n",
       "      <td>CID04</td>\n",
       "    </tr>\n",
       "    <tr>\n",
       "      <th>4</th>\n",
       "      <td>attune Consulting</td>\n",
       "      <td>CID05</td>\n",
       "    </tr>\n",
       "  </tbody>\n",
       "</table>\n",
       "</div>"
      ],
      "text/plain": [
       "         CompanyName CompanyID\n",
       "0            Virtusa     CID01\n",
       "1         Sysco Labs     CID02\n",
       "2               WSO2     CID03\n",
       "3            Synopys     CID04\n",
       "4  attune Consulting     CID05"
      ]
     },
     "execution_count": 8,
     "metadata": {},
     "output_type": "execute_result"
    }
   ],
   "source": [
    "print company.shape\n",
    "company.head()"
   ]
  },
  {
   "cell_type": "code",
   "execution_count": 9,
   "metadata": {},
   "outputs": [],
   "source": [
    "# reading the ratings data:\n",
    "rating_cols=['userID','CompanyID','DegreeID','rating']\n",
    "ratings=pd.read_csv('ratings.csv',sep=',', names=rating_cols, encoding='latin-1')"
   ]
  },
  {
   "cell_type": "code",
   "execution_count": 10,
   "metadata": {
    "scrolled": true
   },
   "outputs": [
    {
     "name": "stdout",
     "output_type": "stream",
     "text": [
      "(964, 4)\n"
     ]
    },
    {
     "data": {
      "text/html": [
       "<div>\n",
       "<style scoped>\n",
       "    .dataframe tbody tr th:only-of-type {\n",
       "        vertical-align: middle;\n",
       "    }\n",
       "\n",
       "    .dataframe tbody tr th {\n",
       "        vertical-align: top;\n",
       "    }\n",
       "\n",
       "    .dataframe thead th {\n",
       "        text-align: right;\n",
       "    }\n",
       "</style>\n",
       "<table border=\"1\" class=\"dataframe\">\n",
       "  <thead>\n",
       "    <tr style=\"text-align: right;\">\n",
       "      <th></th>\n",
       "      <th>userID</th>\n",
       "      <th>CompanyID</th>\n",
       "      <th>DegreeID</th>\n",
       "      <th>rating</th>\n",
       "    </tr>\n",
       "  </thead>\n",
       "  <tbody>\n",
       "    <tr>\n",
       "      <th>0</th>\n",
       "      <td>UID01</td>\n",
       "      <td>CID01</td>\n",
       "      <td>DID01</td>\n",
       "      <td>3</td>\n",
       "    </tr>\n",
       "    <tr>\n",
       "      <th>1</th>\n",
       "      <td>UID02</td>\n",
       "      <td>CID01</td>\n",
       "      <td>DID01</td>\n",
       "      <td>4</td>\n",
       "    </tr>\n",
       "    <tr>\n",
       "      <th>2</th>\n",
       "      <td>UID03</td>\n",
       "      <td>CID04</td>\n",
       "      <td>DID02</td>\n",
       "      <td>4</td>\n",
       "    </tr>\n",
       "    <tr>\n",
       "      <th>3</th>\n",
       "      <td>UID04</td>\n",
       "      <td>CID04</td>\n",
       "      <td>DID01</td>\n",
       "      <td>4</td>\n",
       "    </tr>\n",
       "    <tr>\n",
       "      <th>4</th>\n",
       "      <td>UID05</td>\n",
       "      <td>CID01</td>\n",
       "      <td>DID02</td>\n",
       "      <td>3</td>\n",
       "    </tr>\n",
       "  </tbody>\n",
       "</table>\n",
       "</div>"
      ],
      "text/plain": [
       "  userID CompanyID DegreeID  rating\n",
       "0  UID01     CID01    DID01       3\n",
       "1  UID02     CID01    DID01       4\n",
       "2  UID03     CID04    DID02       4\n",
       "3  UID04     CID04    DID01       4\n",
       "4  UID05     CID01    DID02       3"
      ]
     },
     "execution_count": 10,
     "metadata": {},
     "output_type": "execute_result"
    }
   ],
   "source": [
    "print ratings.shape\n",
    "ratings.head()"
   ]
  },
  {
   "cell_type": "code",
   "execution_count": 11,
   "metadata": {
    "scrolled": true
   },
   "outputs": [
    {
     "name": "stderr",
     "output_type": "stream",
     "text": [
      "[INFO] graphlab.cython.cy_server: GraphLab Create v2.1 started. Logging: C:\\Users\\JANITH\\AppData\\Local\\Temp\\graphlab_server_1584695092.log.0\n"
     ]
    },
    {
     "name": "stdout",
     "output_type": "stream",
     "text": [
      "This non-commercial license of GraphLab Create for academic use is assigned to w1673749@my.westminster.ac.uk and will expire on March 15, 2021.\n"
     ]
    }
   ],
   "source": [
    "user_side_data=gl.SFrame(users)"
   ]
  },
  {
   "cell_type": "code",
   "execution_count": 12,
   "metadata": {},
   "outputs": [],
   "source": [
    "train_data=gl.SFrame(ratings)"
   ]
  },
  {
   "cell_type": "code",
   "execution_count": 13,
   "metadata": {},
   "outputs": [
    {
     "data": {
      "text/html": [
       "<pre>Recsys training: model = popularity</pre>"
      ],
      "text/plain": [
       "Recsys training: model = popularity"
      ]
     },
     "metadata": {},
     "output_type": "display_data"
    },
    {
     "data": {
      "text/html": [
       "<pre>Warning: Ignoring columns DegreeID;</pre>"
      ],
      "text/plain": [
       "Warning: Ignoring columns DegreeID;"
      ]
     },
     "metadata": {},
     "output_type": "display_data"
    },
    {
     "data": {
      "text/html": [
       "<pre>    To use these columns in scoring predictions, use a model that allows the use of additional features.</pre>"
      ],
      "text/plain": [
       "    To use these columns in scoring predictions, use a model that allows the use of additional features."
      ]
     },
     "metadata": {},
     "output_type": "display_data"
    },
    {
     "data": {
      "text/html": [
       "<pre>Preparing data set.</pre>"
      ],
      "text/plain": [
       "Preparing data set."
      ]
     },
     "metadata": {},
     "output_type": "display_data"
    },
    {
     "data": {
      "text/html": [
       "<pre>    Data has 964 observations with 964 users and 19 items.</pre>"
      ],
      "text/plain": [
       "    Data has 964 observations with 964 users and 19 items."
      ]
     },
     "metadata": {},
     "output_type": "display_data"
    },
    {
     "data": {
      "text/html": [
       "<pre>    Data prepared in: 0.032912s</pre>"
      ],
      "text/plain": [
       "    Data prepared in: 0.032912s"
      ]
     },
     "metadata": {},
     "output_type": "display_data"
    },
    {
     "data": {
      "text/html": [
       "<pre>964 observations to process; with 19 unique items.</pre>"
      ],
      "text/plain": [
       "964 observations to process; with 19 unique items."
      ]
     },
     "metadata": {},
     "output_type": "display_data"
    }
   ],
   "source": [
    "popularity_model = gl.popularity_recommender.create(train_data, user_id='userID', item_id='CompanyID', target='rating', user_data=user_side_data)"
   ]
  },
  {
   "cell_type": "code",
   "execution_count": 14,
   "metadata": {
    "scrolled": false
   },
   "outputs": [
    {
     "name": "stdout",
     "output_type": "stream",
     "text": [
      "+--------+-----------+---------------+------+\n",
      "| userID | CompanyID |     score     | rank |\n",
      "+--------+-----------+---------------+------+\n",
      "|   1    |   CID07   |  4.7619047619 |  1   |\n",
      "|   1    |   CID03   |      4.7      |  2   |\n",
      "|   1    |   CID02   | 4.48780487805 |  3   |\n",
      "|   1    |   CID14   | 4.29787234043 |  4   |\n",
      "|   1    |   CID04   | 4.13461538462 |  5   |\n",
      "|   2    |   CID07   |  4.7619047619 |  1   |\n",
      "|   2    |   CID03   |      4.7      |  2   |\n",
      "|   2    |   CID02   | 4.48780487805 |  3   |\n",
      "|   2    |   CID14   | 4.29787234043 |  4   |\n",
      "|   2    |   CID04   | 4.13461538462 |  5   |\n",
      "|   3    |   CID07   |  4.7619047619 |  1   |\n",
      "|   3    |   CID03   |      4.7      |  2   |\n",
      "|   3    |   CID02   | 4.48780487805 |  3   |\n",
      "|   3    |   CID14   | 4.29787234043 |  4   |\n",
      "|   3    |   CID04   | 4.13461538462 |  5   |\n",
      "|   4    |   CID07   |  4.7619047619 |  1   |\n",
      "|   4    |   CID03   |      4.7      |  2   |\n",
      "|   4    |   CID02   | 4.48780487805 |  3   |\n",
      "|   4    |   CID14   | 4.29787234043 |  4   |\n",
      "|   4    |   CID04   | 4.13461538462 |  5   |\n",
      "|   5    |   CID07   |  4.7619047619 |  1   |\n",
      "|   5    |   CID03   |      4.7      |  2   |\n",
      "|   5    |   CID02   | 4.48780487805 |  3   |\n",
      "|   5    |   CID14   | 4.29787234043 |  4   |\n",
      "|   5    |   CID04   | 4.13461538462 |  5   |\n",
      "+--------+-----------+---------------+------+\n",
      "[25 rows x 4 columns]\n",
      "\n"
     ]
    }
   ],
   "source": [
    "popularity_recomm = popularity_model.recommend(users=range(1,6),k=5)\n",
    "popularity_recomm.print_rows(num_rows=25)"
   ]
  },
  {
   "cell_type": "code",
   "execution_count": 15,
   "metadata": {},
   "outputs": [
    {
     "data": {
      "text/plain": [
       "['userID',\n",
       " 'Coding skills',\n",
       " 'Social skills',\n",
       " 'Language skills',\n",
       " 'program development',\n",
       " 'FrontEnd development',\n",
       " 'BackEnd Development',\n",
       " 'Fullstack',\n",
       " 'Mobile Development',\n",
       " 'Web Development',\n",
       " 'UI/UX',\n",
       " 'Good',\n",
       " 'Average',\n",
       " 'Bad',\n",
       " 'salary']"
      ]
     },
     "execution_count": 15,
     "metadata": {},
     "output_type": "execute_result"
    }
   ],
   "source": [
    "popularity_model['user_side_data_column_names']"
   ]
  },
  {
   "cell_type": "code",
   "execution_count": 20,
   "metadata": {},
   "outputs": [
    {
     "name": "stdout",
     "output_type": "stream",
     "text": [
      "Class                            : PopularityRecommender\n",
      "\n",
      "Schema\n",
      "------\n",
      "User ID                          : userID\n",
      "Item ID                          : CompanyID\n",
      "Target                           : rating\n",
      "Additional observation features  : 0\n",
      "User side features               : ['userID', 'Coding skills', 'Social skills', 'Language skills', 'program development', 'FrontEnd development', 'BackEnd Development', 'Fullstack', 'Mobile Development', 'Web Development', 'UI/UX', 'Good', 'Average', 'Bad', 'salary']\n",
      "Item side features               : []\n",
      "\n",
      "Statistics\n",
      "----------\n",
      "Number of observations           : 964\n",
      "Number of users                  : 964\n",
      "Number of items                  : 19\n",
      "\n",
      "Training summary\n",
      "----------------\n",
      "Training time                    : 0.001\n",
      "\n",
      "Model Parameters\n",
      "----------------\n",
      "Model class                      : PopularityRecommender\n",
      "\n"
     ]
    }
   ],
   "source": [
    "popularity_model.summary()"
   ]
  },
  {
   "cell_type": "code",
   "execution_count": 21,
   "metadata": {},
   "outputs": [],
   "source": [
    "new_user_info=gl.SFrame({'userID' :['UID966'], 'Coding skills' :['1'], 'Social skills' :['1'], 'Language skills' :['1'],\n",
    "                        'program development' :['1'], 'FrontEnd development' :['0'], 'BackEnd Development' :['0'],\n",
    "                        'Fullstack' :['1'], 'Mobile Development' :['1'], 'Web Development' :['0'], 'UI/UX' :['1'],\n",
    "                        'Good' :['0'], 'Average' :['1'], 'Bad' :['0'], 'salary' :['15 000']})"
   ]
  },
  {
   "cell_type": "code",
   "execution_count": 22,
   "metadata": {},
   "outputs": [],
   "source": [
    "recommendations = popularity_model.recommend(['UID966'],\n",
    "                                        new_user_data = new_user_info , k=5)"
   ]
  },
  {
   "cell_type": "code",
   "execution_count": 23,
   "metadata": {},
   "outputs": [
    {
     "name": "stdout",
     "output_type": "stream",
     "text": [
      "+--------+-----------+---------------+------+\n",
      "| userID | CompanyID |     score     | rank |\n",
      "+--------+-----------+---------------+------+\n",
      "| UID966 |   CID07   |  4.7619047619 |  1   |\n",
      "| UID966 |   CID03   |      4.7      |  2   |\n",
      "| UID966 |   CID02   | 4.48780487805 |  3   |\n",
      "| UID966 |   CID14   | 4.29787234043 |  4   |\n",
      "| UID966 |   CID04   | 4.13461538462 |  5   |\n",
      "+--------+-----------+---------------+------+\n",
      "[5 rows x 4 columns]\n",
      "\n"
     ]
    }
   ],
   "source": [
    "recommendations.print_rows(num_rows=25)"
   ]
  },
  {
   "cell_type": "code",
   "execution_count": 24,
   "metadata": {},
   "outputs": [],
   "source": [
    "popularity_model.save(\"My popularityModel\")"
   ]
  },
  {
   "cell_type": "code",
   "execution_count": null,
   "metadata": {},
   "outputs": [],
   "source": []
  }
 ],
 "metadata": {
  "kernelspec": {
   "display_name": "Python 2",
   "language": "python",
   "name": "python2"
  },
  "language_info": {
   "codemirror_mode": {
    "name": "ipython",
    "version": 2
   },
   "file_extension": ".py",
   "mimetype": "text/x-python",
   "name": "python",
   "nbconvert_exporter": "python",
   "pygments_lexer": "ipython2",
   "version": "2.7.17"
  }
 },
 "nbformat": 4,
 "nbformat_minor": 2
}

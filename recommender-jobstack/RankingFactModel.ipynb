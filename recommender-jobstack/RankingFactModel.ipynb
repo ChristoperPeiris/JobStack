{
 "cells": [
  {
   "cell_type": "code",
   "execution_count": 1,
   "metadata": {},
   "outputs": [],
   "source": [
    "import graphlab as gl\n",
    "\n",
    "import pandas as pd\n",
    "\n",
    "# reading user data:\n",
    "user_cols = ['userID', 'Coding skills', 'Social skills', 'Language skills', 'program development',\n",
    "             'FrontEnd development', 'BackEnd Development', 'Fullstack', 'Mobile Development', 'Web Development',\n",
    "             'UI/UX', 'Good', 'Average', 'Bad', 'salary','degree']\n",
    "\n",
    "users = pd.read_csv('users.csv', sep=',', names=user_cols, encoding='latin-1')"
   ]
  },
  {
   "cell_type": "code",
   "execution_count": 2,
   "metadata": {},
   "outputs": [
    {
     "name": "stdout",
     "output_type": "stream",
     "text": [
      "(964, 16)\n"
     ]
    },
    {
     "data": {
      "text/html": [
       "<div>\n",
       "<style scoped>\n",
       "    .dataframe tbody tr th:only-of-type {\n",
       "        vertical-align: middle;\n",
       "    }\n",
       "\n",
       "    .dataframe tbody tr th {\n",
       "        vertical-align: top;\n",
       "    }\n",
       "\n",
       "    .dataframe thead th {\n",
       "        text-align: right;\n",
       "    }\n",
       "</style>\n",
       "<table border=\"1\" class=\"dataframe\">\n",
       "  <thead>\n",
       "    <tr style=\"text-align: right;\">\n",
       "      <th></th>\n",
       "      <th>userID</th>\n",
       "      <th>Coding skills</th>\n",
       "      <th>Social skills</th>\n",
       "      <th>Language skills</th>\n",
       "      <th>program development</th>\n",
       "      <th>FrontEnd development</th>\n",
       "      <th>BackEnd Development</th>\n",
       "      <th>Fullstack</th>\n",
       "      <th>Mobile Development</th>\n",
       "      <th>Web Development</th>\n",
       "      <th>UI/UX</th>\n",
       "      <th>Good</th>\n",
       "      <th>Average</th>\n",
       "      <th>Bad</th>\n",
       "      <th>salary</th>\n",
       "      <th>degree</th>\n",
       "    </tr>\n",
       "  </thead>\n",
       "  <tbody>\n",
       "    <tr>\n",
       "      <th>0</th>\n",
       "      <td>UID01</td>\n",
       "      <td>1</td>\n",
       "      <td>1</td>\n",
       "      <td>0</td>\n",
       "      <td>0</td>\n",
       "      <td>0</td>\n",
       "      <td>0</td>\n",
       "      <td>0</td>\n",
       "      <td>0</td>\n",
       "      <td>0</td>\n",
       "      <td>1</td>\n",
       "      <td>0</td>\n",
       "      <td>1</td>\n",
       "      <td>0</td>\n",
       "      <td>15 000</td>\n",
       "      <td>DID01</td>\n",
       "    </tr>\n",
       "    <tr>\n",
       "      <th>1</th>\n",
       "      <td>UID02</td>\n",
       "      <td>0</td>\n",
       "      <td>1</td>\n",
       "      <td>0</td>\n",
       "      <td>0</td>\n",
       "      <td>0</td>\n",
       "      <td>0</td>\n",
       "      <td>0</td>\n",
       "      <td>1</td>\n",
       "      <td>0</td>\n",
       "      <td>0</td>\n",
       "      <td>1</td>\n",
       "      <td>0</td>\n",
       "      <td>0</td>\n",
       "      <td>15 000</td>\n",
       "      <td>DID01</td>\n",
       "    </tr>\n",
       "    <tr>\n",
       "      <th>2</th>\n",
       "      <td>UID03</td>\n",
       "      <td>1</td>\n",
       "      <td>0</td>\n",
       "      <td>0</td>\n",
       "      <td>0</td>\n",
       "      <td>0</td>\n",
       "      <td>0</td>\n",
       "      <td>0</td>\n",
       "      <td>0</td>\n",
       "      <td>0</td>\n",
       "      <td>0</td>\n",
       "      <td>1</td>\n",
       "      <td>0</td>\n",
       "      <td>0</td>\n",
       "      <td>30 000</td>\n",
       "      <td>DID02</td>\n",
       "    </tr>\n",
       "    <tr>\n",
       "      <th>3</th>\n",
       "      <td>UID04</td>\n",
       "      <td>1</td>\n",
       "      <td>0</td>\n",
       "      <td>0</td>\n",
       "      <td>1</td>\n",
       "      <td>0</td>\n",
       "      <td>0</td>\n",
       "      <td>0</td>\n",
       "      <td>1</td>\n",
       "      <td>1</td>\n",
       "      <td>0</td>\n",
       "      <td>1</td>\n",
       "      <td>0</td>\n",
       "      <td>0</td>\n",
       "      <td>30 000</td>\n",
       "      <td>DID01</td>\n",
       "    </tr>\n",
       "    <tr>\n",
       "      <th>4</th>\n",
       "      <td>UID05</td>\n",
       "      <td>1</td>\n",
       "      <td>0</td>\n",
       "      <td>0</td>\n",
       "      <td>0</td>\n",
       "      <td>0</td>\n",
       "      <td>0</td>\n",
       "      <td>0</td>\n",
       "      <td>0</td>\n",
       "      <td>0</td>\n",
       "      <td>0</td>\n",
       "      <td>0</td>\n",
       "      <td>1</td>\n",
       "      <td>0</td>\n",
       "      <td>10 000</td>\n",
       "      <td>DID02</td>\n",
       "    </tr>\n",
       "  </tbody>\n",
       "</table>\n",
       "</div>"
      ],
      "text/plain": [
       "  userID  Coding skills  Social skills  Language skills  program development  \\\n",
       "0  UID01              1              1                0                    0   \n",
       "1  UID02              0              1                0                    0   \n",
       "2  UID03              1              0                0                    0   \n",
       "3  UID04              1              0                0                    1   \n",
       "4  UID05              1              0                0                    0   \n",
       "\n",
       "   FrontEnd development  BackEnd Development  Fullstack  Mobile Development  \\\n",
       "0                     0                    0          0                   0   \n",
       "1                     0                    0          0                   1   \n",
       "2                     0                    0          0                   0   \n",
       "3                     0                    0          0                   1   \n",
       "4                     0                    0          0                   0   \n",
       "\n",
       "   Web Development  UI/UX  Good  Average  Bad  salary degree  \n",
       "0                0      1     0        1    0  15 000  DID01  \n",
       "1                0      0     1        0    0  15 000  DID01  \n",
       "2                0      0     1        0    0  30 000  DID02  \n",
       "3                1      0     1        0    0  30 000  DID01  \n",
       "4                0      0     0        1    0  10 000  DID02  "
      ]
     },
     "execution_count": 2,
     "metadata": {},
     "output_type": "execute_result"
    }
   ],
   "source": [
    "print users.shape\n",
    "users.head()"
   ]
  },
  {
   "cell_type": "code",
   "execution_count": 3,
   "metadata": {},
   "outputs": [
    {
     "name": "stdout",
     "output_type": "stream",
     "text": [
      "(18, 2)\n"
     ]
    },
    {
     "data": {
      "text/html": [
       "<div>\n",
       "<style scoped>\n",
       "    .dataframe tbody tr th:only-of-type {\n",
       "        vertical-align: middle;\n",
       "    }\n",
       "\n",
       "    .dataframe tbody tr th {\n",
       "        vertical-align: top;\n",
       "    }\n",
       "\n",
       "    .dataframe thead th {\n",
       "        text-align: right;\n",
       "    }\n",
       "</style>\n",
       "<table border=\"1\" class=\"dataframe\">\n",
       "  <thead>\n",
       "    <tr style=\"text-align: right;\">\n",
       "      <th></th>\n",
       "      <th>CompanyName</th>\n",
       "      <th>CompanyID</th>\n",
       "    </tr>\n",
       "  </thead>\n",
       "  <tbody>\n",
       "    <tr>\n",
       "      <th>0</th>\n",
       "      <td>Virtusa</td>\n",
       "      <td>CID01</td>\n",
       "    </tr>\n",
       "    <tr>\n",
       "      <th>1</th>\n",
       "      <td>Sysco Labs</td>\n",
       "      <td>CID02</td>\n",
       "    </tr>\n",
       "    <tr>\n",
       "      <th>2</th>\n",
       "      <td>WSO2</td>\n",
       "      <td>CID03</td>\n",
       "    </tr>\n",
       "    <tr>\n",
       "      <th>3</th>\n",
       "      <td>Synopys</td>\n",
       "      <td>CID04</td>\n",
       "    </tr>\n",
       "    <tr>\n",
       "      <th>4</th>\n",
       "      <td>attune Consulting</td>\n",
       "      <td>CID05</td>\n",
       "    </tr>\n",
       "  </tbody>\n",
       "</table>\n",
       "</div>"
      ],
      "text/plain": [
       "         CompanyName CompanyID\n",
       "0            Virtusa     CID01\n",
       "1         Sysco Labs     CID02\n",
       "2               WSO2     CID03\n",
       "3            Synopys     CID04\n",
       "4  attune Consulting     CID05"
      ]
     },
     "execution_count": 3,
     "metadata": {},
     "output_type": "execute_result"
    }
   ],
   "source": [
    "# reading company data:\n",
    "company_cols=['CompanyName', 'CompanyID']\n",
    "\n",
    "company=pd.read_csv('company.csv', sep=',', names=company_cols, encoding='latin-1')\n",
    "\n",
    "print company.shape\n",
    "company.head()"
   ]
  },
  {
   "cell_type": "code",
   "execution_count": 4,
   "metadata": {},
   "outputs": [
    {
     "name": "stdout",
     "output_type": "stream",
     "text": [
      "(769, 3)\n"
     ]
    },
    {
     "data": {
      "text/html": [
       "<div>\n",
       "<style scoped>\n",
       "    .dataframe tbody tr th:only-of-type {\n",
       "        vertical-align: middle;\n",
       "    }\n",
       "\n",
       "    .dataframe tbody tr th {\n",
       "        vertical-align: top;\n",
       "    }\n",
       "\n",
       "    .dataframe thead th {\n",
       "        text-align: right;\n",
       "    }\n",
       "</style>\n",
       "<table border=\"1\" class=\"dataframe\">\n",
       "  <thead>\n",
       "    <tr style=\"text-align: right;\">\n",
       "      <th></th>\n",
       "      <th>userID</th>\n",
       "      <th>CompanyID</th>\n",
       "      <th>rating</th>\n",
       "    </tr>\n",
       "  </thead>\n",
       "  <tbody>\n",
       "    <tr>\n",
       "      <th>0</th>\n",
       "      <td>UID01</td>\n",
       "      <td>CID01</td>\n",
       "      <td>3</td>\n",
       "    </tr>\n",
       "    <tr>\n",
       "      <th>1</th>\n",
       "      <td>UID02</td>\n",
       "      <td>CID01</td>\n",
       "      <td>4</td>\n",
       "    </tr>\n",
       "    <tr>\n",
       "      <th>2</th>\n",
       "      <td>UID03</td>\n",
       "      <td>CID04</td>\n",
       "      <td>4</td>\n",
       "    </tr>\n",
       "    <tr>\n",
       "      <th>3</th>\n",
       "      <td>UID04</td>\n",
       "      <td>CID04</td>\n",
       "      <td>4</td>\n",
       "    </tr>\n",
       "    <tr>\n",
       "      <th>4</th>\n",
       "      <td>UID05</td>\n",
       "      <td>CID01</td>\n",
       "      <td>3</td>\n",
       "    </tr>\n",
       "  </tbody>\n",
       "</table>\n",
       "</div>"
      ],
      "text/plain": [
       "  userID CompanyID  rating\n",
       "0  UID01     CID01       3\n",
       "1  UID02     CID01       4\n",
       "2  UID03     CID04       4\n",
       "3  UID04     CID04       4\n",
       "4  UID05     CID01       3"
      ]
     },
     "execution_count": 4,
     "metadata": {},
     "output_type": "execute_result"
    }
   ],
   "source": [
    "# reading the ratings data:\n",
    "rating_cols=['userID','CompanyID','rating']\n",
    "ratings=pd.read_csv('ratings.csv',sep=',', names=rating_cols, encoding='latin-1')\n",
    "\n",
    "print ratings.shape\n",
    "ratings.head()"
   ]
  },
  {
   "cell_type": "code",
   "execution_count": 5,
   "metadata": {},
   "outputs": [
    {
     "name": "stdout",
     "output_type": "stream",
     "text": [
      "This non-commercial license of GraphLab Create for academic use is assigned to w1673749@my.westminster.ac.uk and will expire on March 15, 2021.\n"
     ]
    },
    {
     "name": "stderr",
     "output_type": "stream",
     "text": [
      "[INFO] graphlab.cython.cy_server: GraphLab Create v2.1 started. Logging: C:\\Users\\JANITH\\AppData\\Local\\Temp\\graphlab_server_1587540314.log.0\n"
     ]
    }
   ],
   "source": [
    "user_side_data=gl.SFrame(users)"
   ]
  },
  {
   "cell_type": "code",
   "execution_count": 6,
   "metadata": {},
   "outputs": [],
   "source": [
    "train_data=gl.SFrame(ratings)"
   ]
  },
  {
   "cell_type": "code",
   "execution_count": 7,
   "metadata": {},
   "outputs": [
    {
     "data": {
      "text/html": [
       "<pre>Recsys training: model = ranking_factorization_recommender</pre>"
      ],
      "text/plain": [
       "Recsys training: model = ranking_factorization_recommender"
      ]
     },
     "metadata": {},
     "output_type": "display_data"
    },
    {
     "data": {
      "text/html": [
       "<pre>Preparing data set.</pre>"
      ],
      "text/plain": [
       "Preparing data set."
      ]
     },
     "metadata": {},
     "output_type": "display_data"
    },
    {
     "data": {
      "text/html": [
       "<pre>    Data has 769 observations with 964 users and 17 items.</pre>"
      ],
      "text/plain": [
       "    Data has 769 observations with 964 users and 17 items."
      ]
     },
     "metadata": {},
     "output_type": "display_data"
    },
    {
     "data": {
      "text/html": [
       "<pre>    Data prepared in: 0.027925s</pre>"
      ],
      "text/plain": [
       "    Data prepared in: 0.027925s"
      ]
     },
     "metadata": {},
     "output_type": "display_data"
    },
    {
     "data": {
      "text/html": [
       "<pre>Training ranking_factorization_recommender for recommendations.</pre>"
      ],
      "text/plain": [
       "Training ranking_factorization_recommender for recommendations."
      ]
     },
     "metadata": {},
     "output_type": "display_data"
    },
    {
     "data": {
      "text/html": [
       "<pre>+--------------------------------+--------------------------------------------------+----------+</pre>"
      ],
      "text/plain": [
       "+--------------------------------+--------------------------------------------------+----------+"
      ]
     },
     "metadata": {},
     "output_type": "display_data"
    },
    {
     "data": {
      "text/html": [
       "<pre>| Parameter                      | Description                                      | Value    |</pre>"
      ],
      "text/plain": [
       "| Parameter                      | Description                                      | Value    |"
      ]
     },
     "metadata": {},
     "output_type": "display_data"
    },
    {
     "data": {
      "text/html": [
       "<pre>+--------------------------------+--------------------------------------------------+----------+</pre>"
      ],
      "text/plain": [
       "+--------------------------------+--------------------------------------------------+----------+"
      ]
     },
     "metadata": {},
     "output_type": "display_data"
    },
    {
     "data": {
      "text/html": [
       "<pre>| num_factors                    | Factor Dimension                                 | 32       |</pre>"
      ],
      "text/plain": [
       "| num_factors                    | Factor Dimension                                 | 32       |"
      ]
     },
     "metadata": {},
     "output_type": "display_data"
    },
    {
     "data": {
      "text/html": [
       "<pre>| regularization                 | L2 Regularization on Factors                     | 1e-009   |</pre>"
      ],
      "text/plain": [
       "| regularization                 | L2 Regularization on Factors                     | 1e-009   |"
      ]
     },
     "metadata": {},
     "output_type": "display_data"
    },
    {
     "data": {
      "text/html": [
       "<pre>| solver                         | Solver used for training                         | adagrad  |</pre>"
      ],
      "text/plain": [
       "| solver                         | Solver used for training                         | adagrad  |"
      ]
     },
     "metadata": {},
     "output_type": "display_data"
    },
    {
     "data": {
      "text/html": [
       "<pre>| linear_regularization          | L2 Regularization on Linear Coefficients         | 1e-009   |</pre>"
      ],
      "text/plain": [
       "| linear_regularization          | L2 Regularization on Linear Coefficients         | 1e-009   |"
      ]
     },
     "metadata": {},
     "output_type": "display_data"
    },
    {
     "data": {
      "text/html": [
       "<pre>| ranking_regularization         | Rank-based Regularization Weight                 | 0.25     |</pre>"
      ],
      "text/plain": [
       "| ranking_regularization         | Rank-based Regularization Weight                 | 0.25     |"
      ]
     },
     "metadata": {},
     "output_type": "display_data"
    },
    {
     "data": {
      "text/html": [
       "<pre>| side_data_factorization        | Assign Factors for Side Data                     | True     |</pre>"
      ],
      "text/plain": [
       "| side_data_factorization        | Assign Factors for Side Data                     | True     |"
      ]
     },
     "metadata": {},
     "output_type": "display_data"
    },
    {
     "data": {
      "text/html": [
       "<pre>| max_iterations                 | Maximum Number of Iterations                     | 25       |</pre>"
      ],
      "text/plain": [
       "| max_iterations                 | Maximum Number of Iterations                     | 25       |"
      ]
     },
     "metadata": {},
     "output_type": "display_data"
    },
    {
     "data": {
      "text/html": [
       "<pre>+--------------------------------+--------------------------------------------------+----------+</pre>"
      ],
      "text/plain": [
       "+--------------------------------+--------------------------------------------------+----------+"
      ]
     },
     "metadata": {},
     "output_type": "display_data"
    },
    {
     "data": {
      "text/html": [
       "<pre>  Optimizing model using SGD; tuning step size.</pre>"
      ],
      "text/plain": [
       "  Optimizing model using SGD; tuning step size."
      ]
     },
     "metadata": {},
     "output_type": "display_data"
    },
    {
     "data": {
      "text/html": [
       "<pre>  Using 769 / 769 points for tuning the step size.</pre>"
      ],
      "text/plain": [
       "  Using 769 / 769 points for tuning the step size."
      ]
     },
     "metadata": {},
     "output_type": "display_data"
    },
    {
     "data": {
      "text/html": [
       "<pre>+---------+-------------------+------------------------------------------+</pre>"
      ],
      "text/plain": [
       "+---------+-------------------+------------------------------------------+"
      ]
     },
     "metadata": {},
     "output_type": "display_data"
    },
    {
     "data": {
      "text/html": [
       "<pre>| Attempt | Initial Step Size | Estimated Objective Value                |</pre>"
      ],
      "text/plain": [
       "| Attempt | Initial Step Size | Estimated Objective Value                |"
      ]
     },
     "metadata": {},
     "output_type": "display_data"
    },
    {
     "data": {
      "text/html": [
       "<pre>+---------+-------------------+------------------------------------------+</pre>"
      ],
      "text/plain": [
       "+---------+-------------------+------------------------------------------+"
      ]
     },
     "metadata": {},
     "output_type": "display_data"
    },
    {
     "data": {
      "text/html": [
       "<pre>| 0       | 2.94118           | Not Viable                               |</pre>"
      ],
      "text/plain": [
       "| 0       | 2.94118           | Not Viable                               |"
      ]
     },
     "metadata": {},
     "output_type": "display_data"
    },
    {
     "data": {
      "text/html": [
       "<pre>| 1       | 0.735294          | Not Viable                               |</pre>"
      ],
      "text/plain": [
       "| 1       | 0.735294          | Not Viable                               |"
      ]
     },
     "metadata": {},
     "output_type": "display_data"
    },
    {
     "data": {
      "text/html": [
       "<pre>| 2       | 0.183824          | No Decrease (9.66777 >= 3.28286)         |</pre>"
      ],
      "text/plain": [
       "| 2       | 0.183824          | No Decrease (9.66777 >= 3.28286)         |"
      ]
     },
     "metadata": {},
     "output_type": "display_data"
    },
    {
     "data": {
      "text/html": [
       "<pre>| 3       | 0.0459559         | 0.939899                                 |</pre>"
      ],
      "text/plain": [
       "| 3       | 0.0459559         | 0.939899                                 |"
      ]
     },
     "metadata": {},
     "output_type": "display_data"
    },
    {
     "data": {
      "text/html": [
       "<pre>| 4       | 0.0229779         | 1.36971                                  |</pre>"
      ],
      "text/plain": [
       "| 4       | 0.0229779         | 1.36971                                  |"
      ]
     },
     "metadata": {},
     "output_type": "display_data"
    },
    {
     "data": {
      "text/html": [
       "<pre>| 5       | 0.011489          | 1.58958                                  |</pre>"
      ],
      "text/plain": [
       "| 5       | 0.011489          | 1.58958                                  |"
      ]
     },
     "metadata": {},
     "output_type": "display_data"
    },
    {
     "data": {
      "text/html": [
       "<pre>| 6       | 0.00574449        | 1.84075                                  |</pre>"
      ],
      "text/plain": [
       "| 6       | 0.00574449        | 1.84075                                  |"
      ]
     },
     "metadata": {},
     "output_type": "display_data"
    },
    {
     "data": {
      "text/html": [
       "<pre>+---------+-------------------+------------------------------------------+</pre>"
      ],
      "text/plain": [
       "+---------+-------------------+------------------------------------------+"
      ]
     },
     "metadata": {},
     "output_type": "display_data"
    },
    {
     "data": {
      "text/html": [
       "<pre>| Final   | 0.0459559         | 0.939899                                 |</pre>"
      ],
      "text/plain": [
       "| Final   | 0.0459559         | 0.939899                                 |"
      ]
     },
     "metadata": {},
     "output_type": "display_data"
    },
    {
     "data": {
      "text/html": [
       "<pre>+---------+-------------------+------------------------------------------+</pre>"
      ],
      "text/plain": [
       "+---------+-------------------+------------------------------------------+"
      ]
     },
     "metadata": {},
     "output_type": "display_data"
    },
    {
     "data": {
      "text/html": [
       "<pre>Starting Optimization.</pre>"
      ],
      "text/plain": [
       "Starting Optimization."
      ]
     },
     "metadata": {},
     "output_type": "display_data"
    },
    {
     "data": {
      "text/html": [
       "<pre>+---------+--------------+-------------------+-----------------------+-------------+</pre>"
      ],
      "text/plain": [
       "+---------+--------------+-------------------+-----------------------+-------------+"
      ]
     },
     "metadata": {},
     "output_type": "display_data"
    },
    {
     "data": {
      "text/html": [
       "<pre>| Iter.   | Elapsed Time | Approx. Objective | Approx. Training RMSE | Step Size   |</pre>"
      ],
      "text/plain": [
       "| Iter.   | Elapsed Time | Approx. Objective | Approx. Training RMSE | Step Size   |"
      ]
     },
     "metadata": {},
     "output_type": "display_data"
    },
    {
     "data": {
      "text/html": [
       "<pre>+---------+--------------+-------------------+-----------------------+-------------+</pre>"
      ],
      "text/plain": [
       "+---------+--------------+-------------------+-----------------------+-------------+"
      ]
     },
     "metadata": {},
     "output_type": "display_data"
    },
    {
     "data": {
      "text/html": [
       "<pre>| Initial | 0us          | 3.28286           | 1.29362               |             |</pre>"
      ],
      "text/plain": [
       "| Initial | 0us          | 3.28286           | 1.29362               |             |"
      ]
     },
     "metadata": {},
     "output_type": "display_data"
    },
    {
     "data": {
      "text/html": [
       "<pre>+---------+--------------+-------------------+-----------------------+-------------+</pre>"
      ],
      "text/plain": [
       "+---------+--------------+-------------------+-----------------------+-------------+"
      ]
     },
     "metadata": {},
     "output_type": "display_data"
    },
    {
     "data": {
      "text/html": [
       "<pre>| 1       | 24.934ms     | 2.05759           | 0.876305              | 0.0459559   |</pre>"
      ],
      "text/plain": [
       "| 1       | 24.934ms     | 2.05759           | 0.876305              | 0.0459559   |"
      ]
     },
     "metadata": {},
     "output_type": "display_data"
    },
    {
     "data": {
      "text/html": [
       "<pre>| 2       | 33.911ms     | 1.52782           | 0.68174               | 0.0459559   |</pre>"
      ],
      "text/plain": [
       "| 2       | 33.911ms     | 1.52782           | 0.68174               | 0.0459559   |"
      ]
     },
     "metadata": {},
     "output_type": "display_data"
    },
    {
     "data": {
      "text/html": [
       "<pre>| 3       | 41.889ms     | 1.25602           | 0.582181              | 0.0459559   |</pre>"
      ],
      "text/plain": [
       "| 3       | 41.889ms     | 1.25602           | 0.582181              | 0.0459559   |"
      ]
     },
     "metadata": {},
     "output_type": "display_data"
    },
    {
     "data": {
      "text/html": [
       "<pre>| 4       | 51.863ms     | 1.11183           | 0.525486              | 0.0459559   |</pre>"
      ],
      "text/plain": [
       "| 4       | 51.863ms     | 1.11183           | 0.525486              | 0.0459559   |"
      ]
     },
     "metadata": {},
     "output_type": "display_data"
    },
    {
     "data": {
      "text/html": [
       "<pre>| 5       | 63.831ms     | 0.988677          | 0.477272              | 0.0459559   |</pre>"
      ],
      "text/plain": [
       "| 5       | 63.831ms     | 0.988677          | 0.477272              | 0.0459559   |"
      ]
     },
     "metadata": {},
     "output_type": "display_data"
    },
    {
     "data": {
      "text/html": [
       "<pre>| 6       | 130.651ms    | 0.879921          | 0.469117              | 0.0459559   |</pre>"
      ],
      "text/plain": [
       "| 6       | 130.651ms    | 0.879921          | 0.469117              | 0.0459559   |"
      ]
     },
     "metadata": {},
     "output_type": "display_data"
    },
    {
     "data": {
      "text/html": [
       "<pre>| 11      | 177.525ms    | 0.561068          | 0.352071              | 0.0459559   |</pre>"
      ],
      "text/plain": [
       "| 11      | 177.525ms    | 0.561068          | 0.352071              | 0.0459559   |"
      ]
     },
     "metadata": {},
     "output_type": "display_data"
    },
    {
     "data": {
      "text/html": [
       "<pre>+---------+--------------+-------------------+-----------------------+-------------+</pre>"
      ],
      "text/plain": [
       "+---------+--------------+-------------------+-----------------------+-------------+"
      ]
     },
     "metadata": {},
     "output_type": "display_data"
    },
    {
     "data": {
      "text/html": [
       "<pre>Optimization Complete: Maximum number of passes through the data reached.</pre>"
      ],
      "text/plain": [
       "Optimization Complete: Maximum number of passes through the data reached."
      ]
     },
     "metadata": {},
     "output_type": "display_data"
    },
    {
     "data": {
      "text/html": [
       "<pre>Computing final objective value and training RMSE.</pre>"
      ],
      "text/plain": [
       "Computing final objective value and training RMSE."
      ]
     },
     "metadata": {},
     "output_type": "display_data"
    },
    {
     "data": {
      "text/html": [
       "<pre>       Final objective value: 0.229293</pre>"
      ],
      "text/plain": [
       "       Final objective value: 0.229293"
      ]
     },
     "metadata": {},
     "output_type": "display_data"
    },
    {
     "data": {
      "text/html": [
       "<pre>       Final training RMSE: 0.218354</pre>"
      ],
      "text/plain": [
       "       Final training RMSE: 0.218354"
      ]
     },
     "metadata": {},
     "output_type": "display_data"
    }
   ],
   "source": [
    "rankfactmodel=gl.recommender.ranking_factorization_recommender.create(train_data, user_id='userID', item_id='CompanyID', target='rating', user_data=user_side_data)"
   ]
  },
  {
   "cell_type": "code",
   "execution_count": 8,
   "metadata": {},
   "outputs": [
    {
     "name": "stdout",
     "output_type": "stream",
     "text": [
      "+--------+-----------+---------------+------+\n",
      "| userID | CompanyID |     score     | rank |\n",
      "+--------+-----------+---------------+------+\n",
      "|   1    |   CID04   | 3.73271708463 |  1   |\n",
      "|   1    |   CID08   | 3.68296257399 |  2   |\n",
      "|   1    |   CID02   | 3.51639933504 |  3   |\n",
      "|   1    |   CID07   | 3.51227140047 |  4   |\n",
      "|   1    |   CID05   | 3.45327680923 |  5   |\n",
      "|   2    |   CID04   | 3.73271708463 |  1   |\n",
      "|   2    |   CID08   | 3.68296257399 |  2   |\n",
      "|   2    |   CID02   | 3.51639933504 |  3   |\n",
      "|   2    |   CID07   | 3.51227140047 |  4   |\n",
      "|   2    |   CID05   | 3.45327680923 |  5   |\n",
      "|   3    |   CID04   | 3.73271708463 |  1   |\n",
      "|   3    |   CID08   | 3.68296257399 |  2   |\n",
      "|   3    |   CID02   | 3.51639933504 |  3   |\n",
      "|   3    |   CID07   | 3.51227140047 |  4   |\n",
      "|   3    |   CID05   | 3.45327680923 |  5   |\n",
      "|   4    |   CID04   | 3.73271708463 |  1   |\n",
      "|   4    |   CID08   | 3.68296257399 |  2   |\n",
      "|   4    |   CID02   | 3.51639933504 |  3   |\n",
      "|   4    |   CID07   | 3.51227140047 |  4   |\n",
      "|   4    |   CID05   | 3.45327680923 |  5   |\n",
      "|   5    |   CID04   | 3.73271708463 |  1   |\n",
      "|   5    |   CID08   | 3.68296257399 |  2   |\n",
      "|   5    |   CID02   | 3.51639933504 |  3   |\n",
      "|   5    |   CID07   | 3.51227140047 |  4   |\n",
      "|   5    |   CID05   | 3.45327680923 |  5   |\n",
      "+--------+-----------+---------------+------+\n",
      "[25 rows x 4 columns]\n",
      "\n"
     ]
    }
   ],
   "source": [
    "results=rankfactmodel.recommend(users=range(1,6),k=5)\n",
    "results.print_rows(num_rows=25)"
   ]
  },
  {
   "cell_type": "code",
   "execution_count": 12,
   "metadata": {},
   "outputs": [],
   "source": [
    "new_user_info=gl.SFrame({'userID' :['UID1000'], 'Coding skills' :['1'], 'Social skills' :['1'], 'Language skills' :['1'],\n",
    "                        'program development' :['1'], 'FrontEnd development' :['1'], 'BackEnd Development' :['1'],\n",
    "                        'Fullstack' :['1'], 'Mobile Development' :['1'], 'Web Development' :['0'], 'UI/UX' :['1'],\n",
    "                        'Good' :['0'], 'Average' :['1'], 'Bad' :['0'], 'salary' :['10 000'],'degree' :['DID01']})"
   ]
  },
  {
   "cell_type": "code",
   "execution_count": 13,
   "metadata": {},
   "outputs": [],
   "source": [
    "recommendations = rankfactmodel.recommend(['UID1000'],\n",
    "                                        new_user_data = new_user_info , k=5)"
   ]
  },
  {
   "cell_type": "code",
   "execution_count": 14,
   "metadata": {},
   "outputs": [
    {
     "name": "stdout",
     "output_type": "stream",
     "text": [
      "+---------+-----------+---------------+------+\n",
      "|  userID | CompanyID |     score     | rank |\n",
      "+---------+-----------+---------------+------+\n",
      "| UID1000 |   CID07   | 11.1220114995 |  1   |\n",
      "| UID1000 |   CID02   | 11.0272815023 |  2   |\n",
      "| UID1000 |   CID05   | 10.9907223005 |  3   |\n",
      "| UID1000 |   CID06   | 10.5616232175 |  4   |\n",
      "| UID1000 |   CID19   | 10.1408810634 |  5   |\n",
      "+---------+-----------+---------------+------+\n",
      "[5 rows x 4 columns]\n",
      "\n"
     ]
    }
   ],
   "source": [
    "recommendations.print_rows(num_rows=25)"
   ]
  },
  {
   "cell_type": "code",
   "execution_count": 13,
   "metadata": {},
   "outputs": [],
   "source": [
    "new_user_info=gl.SFrame({'userID' :['UID968'], 'Coding skills' :['0'], 'Social skills' :['1'], 'Language skills' :['0'],\n",
    "                        'program development' :['1'], 'FrontEnd development' :['1'], 'BackEnd Development' :['1'],\n",
    "                        'Fullstack' :['1'], 'Mobile Development' :['1'], 'Web Development' :['0'], 'UI/UX' :['1'],\n",
    "                        'Good' :['0'], 'Average' :['1'], 'Bad' :['0'], 'salary' :['20 000']})"
   ]
  },
  {
   "cell_type": "code",
   "execution_count": 14,
   "metadata": {},
   "outputs": [],
   "source": [
    "recommendations2 = rankfactmodel.recommend(['UID968'],\n",
    "                                        new_user_data = new_user_info , k=5)"
   ]
  },
  {
   "cell_type": "code",
   "execution_count": 15,
   "metadata": {},
   "outputs": [
    {
     "name": "stdout",
     "output_type": "stream",
     "text": [
      "+--------+-----------+---------------+------+\n",
      "| userID | CompanyID |     score     | rank |\n",
      "+--------+-----------+---------------+------+\n",
      "| UID968 |   CID07   | 8.99933706745 |  1   |\n",
      "| UID968 |   CID19   | 8.05681902691 |  2   |\n",
      "| UID968 |   CID06   | 6.48919675275 |  3   |\n",
      "| UID968 |   CID05   | 6.19883158578 |  4   |\n",
      "| UID968 |   CID15   | 6.08092323466 |  5   |\n",
      "+--------+-----------+---------------+------+\n",
      "[5 rows x 4 columns]\n",
      "\n"
     ]
    }
   ],
   "source": [
    "recommendations2.print_rows(num_rows=25)"
   ]
  },
  {
   "cell_type": "code",
   "execution_count": 16,
   "metadata": {},
   "outputs": [],
   "source": [
    "new_user_info=gl.SFrame({'userID' :['UID969'], 'Coding skills' :['1'], 'Social skills' :['1'], 'Language skills' :['0'],\n",
    "                        'program development' :['0'], 'FrontEnd development' :['0'], 'BackEnd Development' :['0'],\n",
    "                        'Fullstack' :['0'], 'Mobile Development' :['0'], 'Web Development' :['0'], 'UI/UX' :['0'],\n",
    "                        'Good' :['0'], 'Average' :['1'], 'Bad' :['0'], 'salary' :['15 000']})"
   ]
  },
  {
   "cell_type": "code",
   "execution_count": 17,
   "metadata": {},
   "outputs": [],
   "source": [
    "recommendations1 = rankfactmodel.recommend(['UID969'],\n",
    "                                        new_user_data = new_user_info , k=5)"
   ]
  },
  {
   "cell_type": "code",
   "execution_count": 18,
   "metadata": {},
   "outputs": [
    {
     "name": "stdout",
     "output_type": "stream",
     "text": [
      "+--------+-----------+---------------+------+\n",
      "| userID | CompanyID |     score     | rank |\n",
      "+--------+-----------+---------------+------+\n",
      "| UID969 |   CID14   | 3.48950434834 |  1   |\n",
      "| UID969 |   CID19   | 3.25975392907 |  2   |\n",
      "| UID969 |   CID03   | 3.19521882492 |  3   |\n",
      "| UID969 |   CID18   | 2.86792987873 |  4   |\n",
      "| UID969 |   CID09   | 2.79413975085 |  5   |\n",
      "+--------+-----------+---------------+------+\n",
      "[5 rows x 4 columns]\n",
      "\n"
     ]
    }
   ],
   "source": [
    "recommendations1.print_rows(num_rows=25)"
   ]
  },
  {
   "cell_type": "code",
   "execution_count": 23,
   "metadata": {},
   "outputs": [],
   "source": [
    "new_user_info=gl.SFrame({'userID' :['UID967'], 'Coding skills' :['1'], 'Social skills' :['1'], 'Language skills' :['0'],\n",
    "                        'program development' :['1'], 'FrontEnd development' :['1'], 'BackEnd Development' :['0'],\n",
    "                        'Fullstack' :['1'], 'Mobile Development' :['1'], 'Web Development' :['0'], 'UI/UX' :['1'],\n",
    "                        'Good' :['0'], 'Average' :['1'], 'Bad' :['0'], 'salary' :['20 000']})"
   ]
  },
  {
   "cell_type": "code",
   "execution_count": 24,
   "metadata": {},
   "outputs": [],
   "source": [
    "recommendations = rankfactmodel.recommend(['UID967'],\n",
    "                                        new_user_data = new_user_info , k=5)"
   ]
  },
  {
   "cell_type": "code",
   "execution_count": 25,
   "metadata": {},
   "outputs": [
    {
     "name": "stdout",
     "output_type": "stream",
     "text": [
      "+--------+-----------+---------------+------+\n",
      "| userID | CompanyID |     score     | rank |\n",
      "+--------+-----------+---------------+------+\n",
      "| UID967 |   CID07   |  11.51700394  |  1   |\n",
      "| UID967 |   CID19   | 11.2686666712 |  2   |\n",
      "| UID967 |   CID14   | 9.53755059986 |  3   |\n",
      "| UID967 |   CID06   | 9.08971134721 |  4   |\n",
      "| UID967 |   CID05   | 8.82444296925 |  5   |\n",
      "+--------+-----------+---------------+------+\n",
      "[5 rows x 4 columns]\n",
      "\n"
     ]
    }
   ],
   "source": [
    "recommendations.print_rows(num_rows=25)"
   ]
  },
  {
   "cell_type": "code",
   "execution_count": 26,
   "metadata": {},
   "outputs": [],
   "source": [
    "new_user_info=gl.SFrame({'userID' :['UID966'], 'Coding skills' :['1'], 'Social skills' :['1'], 'Language skills' :['1'],\n",
    "                        'program development' :['1'], 'FrontEnd development' :['0'], 'BackEnd Development' :['0'],\n",
    "                        'Fullstack' :['1'], 'Mobile Development' :['1'], 'Web Development' :['0'], 'UI/UX' :['1'],\n",
    "                        'Good' :['0'], 'Average' :['1'], 'Bad' :['0'], 'salary' :['15 000']})"
   ]
  },
  {
   "cell_type": "code",
   "execution_count": 27,
   "metadata": {},
   "outputs": [],
   "source": [
    "recommendations = rankfactmodel.recommend(['UID966'],\n",
    "                                        new_user_data = new_user_info , k=5)"
   ]
  },
  {
   "cell_type": "code",
   "execution_count": 28,
   "metadata": {},
   "outputs": [
    {
     "name": "stdout",
     "output_type": "stream",
     "text": [
      "+--------+-----------+---------------+------+\n",
      "| userID | CompanyID |     score     | rank |\n",
      "+--------+-----------+---------------+------+\n",
      "| UID966 |   CID19   | 13.1805713341 |  1   |\n",
      "| UID966 |   CID07   | 12.3790769517 |  2   |\n",
      "| UID966 |   CID14   | 11.5354209706 |  3   |\n",
      "| UID966 |   CID18   | 11.2520215601 |  4   |\n",
      "| UID966 |   CID09   | 11.0017690077 |  5   |\n",
      "+--------+-----------+---------------+------+\n",
      "[5 rows x 4 columns]\n",
      "\n"
     ]
    }
   ],
   "source": [
    "recommendations.print_rows(num_rows=25)"
   ]
  },
  {
   "cell_type": "code",
   "execution_count": 15,
   "metadata": {},
   "outputs": [],
   "source": [
    "rankfactmodel.save(\"Ranking Factorization Recommender-final\")"
   ]
  }
 ],
 "metadata": {
  "kernelspec": {
   "display_name": "Python 2",
   "language": "python",
   "name": "python2"
  },
  "language_info": {
   "codemirror_mode": {
    "name": "ipython",
    "version": 2
   },
   "file_extension": ".py",
   "mimetype": "text/x-python",
   "name": "python",
   "nbconvert_exporter": "python",
   "pygments_lexer": "ipython2",
   "version": "2.7.17"
  }
 },
 "nbformat": 4,
 "nbformat_minor": 2
}

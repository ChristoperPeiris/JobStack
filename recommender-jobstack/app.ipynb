{
 "cells": [
  {
   "cell_type": "code",
   "execution_count": 1,
   "metadata": {},
   "outputs": [],
   "source": [
    "import graphlab as gl"
   ]
  },
  {
   "cell_type": "code",
   "execution_count": 2,
   "metadata": {},
   "outputs": [],
   "source": [
    "from ipywidgets import interactive"
   ]
  },
  {
   "cell_type": "code",
   "execution_count": 3,
   "metadata": {},
   "outputs": [
    {
     "name": "stdout",
     "output_type": "stream",
     "text": [
      "This non-commercial license of GraphLab Create for academic use is assigned to w1673749@my.westminster.ac.uk and will expire on March 15, 2021.\n"
     ]
    },
    {
     "name": "stderr",
     "output_type": "stream",
     "text": [
      "[INFO] graphlab.cython.cy_server: GraphLab Create v2.1 started. Logging: C:\\Users\\JANITH\\AppData\\Local\\Temp\\graphlab_server_1588494078.log.0\n"
     ]
    }
   ],
   "source": [
    "loaded_model = gl.load_model('Ranking Factorization Recommender-final2')"
   ]
  },
  {
   "cell_type": "code",
   "execution_count": null,
   "metadata": {},
   "outputs": [],
   "source": [
    "new_user_info=gl.SFrame({'userID' :['UID1003'], 'Coding skills' :['ck1'], 'Social skills' :['sk1'], 'Language skills' :['ls1'],\n",
    "                        'program development' :['pd1'], 'FrontEnd development' :['fe0'], 'BackEnd Development' :['be1'],\n",
    "                        'Fullstack' :['fs0'], 'Mobile Development' :['md1'], 'Web Development' :['wd0'], 'UI/UX' :['u0'],\n",
    "                        'salary' :['10 000'],'degree' :['DID01']})"
   ]
  }
 ],
 "metadata": {
  "kernelspec": {
   "display_name": "Python 2",
   "language": "python",
   "name": "python2"
  },
  "language_info": {
   "codemirror_mode": {
    "name": "ipython",
    "version": 2
   },
   "file_extension": ".py",
   "mimetype": "text/x-python",
   "name": "python",
   "nbconvert_exporter": "python",
   "pygments_lexer": "ipython2",
   "version": "2.7.17"
  }
 },
 "nbformat": 4,
 "nbformat_minor": 2
}

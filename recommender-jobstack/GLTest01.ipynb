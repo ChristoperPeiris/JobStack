{
 "cells": [
  {
   "cell_type": "code",
   "execution_count": 1,
   "metadata": {},
   "outputs": [],
   "source": [
    "import graphlab as gl\n",
    "import pandas as pd"
   ]
  },
  {
   "cell_type": "code",
   "execution_count": 3,
   "metadata": {},
   "outputs": [],
   "source": [
    "user_cols= ['userID', 'Coding skills', 'Social skills', 'Language skills', 'program development',\n",
    "             'FrontEnd development', 'BackEnd Development', 'Fullstack', 'Mobile Development', 'Web Development',\n",
    "             'UI/UX','salary','degree']\n",
    "\n",
    "users = pd.read_csv('usersNEWgl.csv', sep=',', names=user_cols, encoding='latin-1')"
   ]
  },
  {
   "cell_type": "code",
   "execution_count": 4,
   "metadata": {},
   "outputs": [
    {
     "name": "stdout",
     "output_type": "stream",
     "text": [
      "(964, 13)\n"
     ]
    },
    {
     "data": {
      "text/html": [
       "<div>\n",
       "<style scoped>\n",
       "    .dataframe tbody tr th:only-of-type {\n",
       "        vertical-align: middle;\n",
       "    }\n",
       "\n",
       "    .dataframe tbody tr th {\n",
       "        vertical-align: top;\n",
       "    }\n",
       "\n",
       "    .dataframe thead th {\n",
       "        text-align: right;\n",
       "    }\n",
       "</style>\n",
       "<table border=\"1\" class=\"dataframe\">\n",
       "  <thead>\n",
       "    <tr style=\"text-align: right;\">\n",
       "      <th></th>\n",
       "      <th>userID</th>\n",
       "      <th>Coding skills</th>\n",
       "      <th>Social skills</th>\n",
       "      <th>Language skills</th>\n",
       "      <th>program development</th>\n",
       "      <th>FrontEnd development</th>\n",
       "      <th>BackEnd Development</th>\n",
       "      <th>Fullstack</th>\n",
       "      <th>Mobile Development</th>\n",
       "      <th>Web Development</th>\n",
       "      <th>UI/UX</th>\n",
       "      <th>salary</th>\n",
       "      <th>degree</th>\n",
       "    </tr>\n",
       "  </thead>\n",
       "  <tbody>\n",
       "    <tr>\n",
       "      <th>0</th>\n",
       "      <td>UID01</td>\n",
       "      <td>ck1</td>\n",
       "      <td>sk1</td>\n",
       "      <td>ls0</td>\n",
       "      <td>pd0</td>\n",
       "      <td>fe0</td>\n",
       "      <td>be0</td>\n",
       "      <td>fs0</td>\n",
       "      <td>md0</td>\n",
       "      <td>wd0</td>\n",
       "      <td>u1</td>\n",
       "      <td>15 000</td>\n",
       "      <td>DID01</td>\n",
       "    </tr>\n",
       "    <tr>\n",
       "      <th>1</th>\n",
       "      <td>UID02</td>\n",
       "      <td>ck0</td>\n",
       "      <td>sk1</td>\n",
       "      <td>ls0</td>\n",
       "      <td>pd0</td>\n",
       "      <td>fe0</td>\n",
       "      <td>be0</td>\n",
       "      <td>fs0</td>\n",
       "      <td>md1</td>\n",
       "      <td>wd0</td>\n",
       "      <td>u0</td>\n",
       "      <td>15 000</td>\n",
       "      <td>DID01</td>\n",
       "    </tr>\n",
       "    <tr>\n",
       "      <th>2</th>\n",
       "      <td>UID03</td>\n",
       "      <td>ck1</td>\n",
       "      <td>sk0</td>\n",
       "      <td>ls0</td>\n",
       "      <td>pd0</td>\n",
       "      <td>fe0</td>\n",
       "      <td>be0</td>\n",
       "      <td>fs0</td>\n",
       "      <td>md0</td>\n",
       "      <td>wd0</td>\n",
       "      <td>u0</td>\n",
       "      <td>30 000</td>\n",
       "      <td>DID02</td>\n",
       "    </tr>\n",
       "    <tr>\n",
       "      <th>3</th>\n",
       "      <td>UID04</td>\n",
       "      <td>ck1</td>\n",
       "      <td>sk0</td>\n",
       "      <td>ls0</td>\n",
       "      <td>pd1</td>\n",
       "      <td>fe0</td>\n",
       "      <td>be0</td>\n",
       "      <td>fs0</td>\n",
       "      <td>md1</td>\n",
       "      <td>wd1</td>\n",
       "      <td>u0</td>\n",
       "      <td>30 000</td>\n",
       "      <td>DID01</td>\n",
       "    </tr>\n",
       "    <tr>\n",
       "      <th>4</th>\n",
       "      <td>UID05</td>\n",
       "      <td>ck1</td>\n",
       "      <td>sk0</td>\n",
       "      <td>ls0</td>\n",
       "      <td>pd0</td>\n",
       "      <td>fe0</td>\n",
       "      <td>be0</td>\n",
       "      <td>fs0</td>\n",
       "      <td>md0</td>\n",
       "      <td>wd0</td>\n",
       "      <td>u0</td>\n",
       "      <td>10 000</td>\n",
       "      <td>DID02</td>\n",
       "    </tr>\n",
       "  </tbody>\n",
       "</table>\n",
       "</div>"
      ],
      "text/plain": [
       "  userID Coding skills Social skills Language skills program development  \\\n",
       "0  UID01           ck1           sk1             ls0                 pd0   \n",
       "1  UID02           ck0           sk1             ls0                 pd0   \n",
       "2  UID03           ck1           sk0             ls0                 pd0   \n",
       "3  UID04           ck1           sk0             ls0                 pd1   \n",
       "4  UID05           ck1           sk0             ls0                 pd0   \n",
       "\n",
       "  FrontEnd development BackEnd Development Fullstack Mobile Development  \\\n",
       "0                  fe0                 be0       fs0                md0   \n",
       "1                  fe0                 be0       fs0                md1   \n",
       "2                  fe0                 be0       fs0                md0   \n",
       "3                  fe0                 be0       fs0                md1   \n",
       "4                  fe0                 be0       fs0                md0   \n",
       "\n",
       "  Web Development UI/UX  salary degree  \n",
       "0             wd0    u1  15 000  DID01  \n",
       "1             wd0    u0  15 000  DID01  \n",
       "2             wd0    u0  30 000  DID02  \n",
       "3             wd1    u0  30 000  DID01  \n",
       "4             wd0    u0  10 000  DID02  "
      ]
     },
     "execution_count": 4,
     "metadata": {},
     "output_type": "execute_result"
    }
   ],
   "source": [
    "print users.shape\n",
    "users.head()"
   ]
  },
  {
   "cell_type": "code",
   "execution_count": 5,
   "metadata": {},
   "outputs": [
    {
     "name": "stdout",
     "output_type": "stream",
     "text": [
      "(2892, 3)\n"
     ]
    },
    {
     "data": {
      "text/html": [
       "<div>\n",
       "<style scoped>\n",
       "    .dataframe tbody tr th:only-of-type {\n",
       "        vertical-align: middle;\n",
       "    }\n",
       "\n",
       "    .dataframe tbody tr th {\n",
       "        vertical-align: top;\n",
       "    }\n",
       "\n",
       "    .dataframe thead th {\n",
       "        text-align: right;\n",
       "    }\n",
       "</style>\n",
       "<table border=\"1\" class=\"dataframe\">\n",
       "  <thead>\n",
       "    <tr style=\"text-align: right;\">\n",
       "      <th></th>\n",
       "      <th>userID</th>\n",
       "      <th>CompanyID</th>\n",
       "      <th>rating</th>\n",
       "    </tr>\n",
       "  </thead>\n",
       "  <tbody>\n",
       "    <tr>\n",
       "      <th>0</th>\n",
       "      <td>UID01</td>\n",
       "      <td>CID01</td>\n",
       "      <td>3</td>\n",
       "    </tr>\n",
       "    <tr>\n",
       "      <th>1</th>\n",
       "      <td>UID01</td>\n",
       "      <td>CID05</td>\n",
       "      <td>4</td>\n",
       "    </tr>\n",
       "    <tr>\n",
       "      <th>2</th>\n",
       "      <td>UID01</td>\n",
       "      <td>CID18</td>\n",
       "      <td>1</td>\n",
       "    </tr>\n",
       "    <tr>\n",
       "      <th>3</th>\n",
       "      <td>UID02</td>\n",
       "      <td>CID01</td>\n",
       "      <td>4</td>\n",
       "    </tr>\n",
       "    <tr>\n",
       "      <th>4</th>\n",
       "      <td>UID02</td>\n",
       "      <td>CID02</td>\n",
       "      <td>2</td>\n",
       "    </tr>\n",
       "  </tbody>\n",
       "</table>\n",
       "</div>"
      ],
      "text/plain": [
       "  userID CompanyID  rating\n",
       "0  UID01     CID01       3\n",
       "1  UID01     CID05       4\n",
       "2  UID01     CID18       1\n",
       "3  UID02     CID01       4\n",
       "4  UID02     CID02       2"
      ]
     },
     "execution_count": 5,
     "metadata": {},
     "output_type": "execute_result"
    }
   ],
   "source": [
    "rating_cols=['userID','CompanyID','rating']\n",
    "ratings=pd.read_csv('ratingsNEWgl.csv',sep=',', names=rating_cols, encoding='latin-1')\n",
    "\n",
    "print ratings.shape\n",
    "ratings.head()"
   ]
  },
  {
   "cell_type": "code",
   "execution_count": 6,
   "metadata": {},
   "outputs": [
    {
     "name": "stdout",
     "output_type": "stream",
     "text": [
      "This non-commercial license of GraphLab Create for academic use is assigned to w1673749@my.westminster.ac.uk and will expire on March 15, 2021.\n"
     ]
    },
    {
     "name": "stderr",
     "output_type": "stream",
     "text": [
      "[INFO] graphlab.cython.cy_server: GraphLab Create v2.1 started. Logging: C:\\Users\\JANITH\\AppData\\Local\\Temp\\graphlab_server_1588493058.log.0\n"
     ]
    }
   ],
   "source": [
    "user_side_data=gl.SFrame(users)"
   ]
  },
  {
   "cell_type": "code",
   "execution_count": 7,
   "metadata": {},
   "outputs": [],
   "source": [
    "train_data=gl.SFrame(ratings)"
   ]
  },
  {
   "cell_type": "code",
   "execution_count": 8,
   "metadata": {},
   "outputs": [
    {
     "data": {
      "text/html": [
       "<pre>Recsys training: model = ranking_factorization_recommender</pre>"
      ],
      "text/plain": [
       "Recsys training: model = ranking_factorization_recommender"
      ]
     },
     "metadata": {},
     "output_type": "display_data"
    },
    {
     "data": {
      "text/html": [
       "<pre>Preparing data set.</pre>"
      ],
      "text/plain": [
       "Preparing data set."
      ]
     },
     "metadata": {},
     "output_type": "display_data"
    },
    {
     "data": {
      "text/html": [
       "<pre>    Data has 2892 observations with 964 users and 21 items.</pre>"
      ],
      "text/plain": [
       "    Data has 2892 observations with 964 users and 21 items."
      ]
     },
     "metadata": {},
     "output_type": "display_data"
    },
    {
     "data": {
      "text/html": [
       "<pre>    Data prepared in: 0.046208s</pre>"
      ],
      "text/plain": [
       "    Data prepared in: 0.046208s"
      ]
     },
     "metadata": {},
     "output_type": "display_data"
    },
    {
     "data": {
      "text/html": [
       "<pre>Training ranking_factorization_recommender for recommendations.</pre>"
      ],
      "text/plain": [
       "Training ranking_factorization_recommender for recommendations."
      ]
     },
     "metadata": {},
     "output_type": "display_data"
    },
    {
     "data": {
      "text/html": [
       "<pre>+--------------------------------+--------------------------------------------------+----------+</pre>"
      ],
      "text/plain": [
       "+--------------------------------+--------------------------------------------------+----------+"
      ]
     },
     "metadata": {},
     "output_type": "display_data"
    },
    {
     "data": {
      "text/html": [
       "<pre>| Parameter                      | Description                                      | Value    |</pre>"
      ],
      "text/plain": [
       "| Parameter                      | Description                                      | Value    |"
      ]
     },
     "metadata": {},
     "output_type": "display_data"
    },
    {
     "data": {
      "text/html": [
       "<pre>+--------------------------------+--------------------------------------------------+----------+</pre>"
      ],
      "text/plain": [
       "+--------------------------------+--------------------------------------------------+----------+"
      ]
     },
     "metadata": {},
     "output_type": "display_data"
    },
    {
     "data": {
      "text/html": [
       "<pre>| num_factors                    | Factor Dimension                                 | 32       |</pre>"
      ],
      "text/plain": [
       "| num_factors                    | Factor Dimension                                 | 32       |"
      ]
     },
     "metadata": {},
     "output_type": "display_data"
    },
    {
     "data": {
      "text/html": [
       "<pre>| regularization                 | L2 Regularization on Factors                     | 1e-009   |</pre>"
      ],
      "text/plain": [
       "| regularization                 | L2 Regularization on Factors                     | 1e-009   |"
      ]
     },
     "metadata": {},
     "output_type": "display_data"
    },
    {
     "data": {
      "text/html": [
       "<pre>| solver                         | Solver used for training                         | adagrad  |</pre>"
      ],
      "text/plain": [
       "| solver                         | Solver used for training                         | adagrad  |"
      ]
     },
     "metadata": {},
     "output_type": "display_data"
    },
    {
     "data": {
      "text/html": [
       "<pre>| linear_regularization          | L2 Regularization on Linear Coefficients         | 1e-009   |</pre>"
      ],
      "text/plain": [
       "| linear_regularization          | L2 Regularization on Linear Coefficients         | 1e-009   |"
      ]
     },
     "metadata": {},
     "output_type": "display_data"
    },
    {
     "data": {
      "text/html": [
       "<pre>| ranking_regularization         | Rank-based Regularization Weight                 | 0.25     |</pre>"
      ],
      "text/plain": [
       "| ranking_regularization         | Rank-based Regularization Weight                 | 0.25     |"
      ]
     },
     "metadata": {},
     "output_type": "display_data"
    },
    {
     "data": {
      "text/html": [
       "<pre>| side_data_factorization        | Assign Factors for Side Data                     | True     |</pre>"
      ],
      "text/plain": [
       "| side_data_factorization        | Assign Factors for Side Data                     | True     |"
      ]
     },
     "metadata": {},
     "output_type": "display_data"
    },
    {
     "data": {
      "text/html": [
       "<pre>| max_iterations                 | Maximum Number of Iterations                     | 25       |</pre>"
      ],
      "text/plain": [
       "| max_iterations                 | Maximum Number of Iterations                     | 25       |"
      ]
     },
     "metadata": {},
     "output_type": "display_data"
    },
    {
     "data": {
      "text/html": [
       "<pre>+--------------------------------+--------------------------------------------------+----------+</pre>"
      ],
      "text/plain": [
       "+--------------------------------+--------------------------------------------------+----------+"
      ]
     },
     "metadata": {},
     "output_type": "display_data"
    },
    {
     "data": {
      "text/html": [
       "<pre>  Optimizing model using SGD; tuning step size.</pre>"
      ],
      "text/plain": [
       "  Optimizing model using SGD; tuning step size."
      ]
     },
     "metadata": {},
     "output_type": "display_data"
    },
    {
     "data": {
      "text/html": [
       "<pre>  Using 2892 / 2892 points for tuning the step size.</pre>"
      ],
      "text/plain": [
       "  Using 2892 / 2892 points for tuning the step size."
      ]
     },
     "metadata": {},
     "output_type": "display_data"
    },
    {
     "data": {
      "text/html": [
       "<pre>+---------+-------------------+------------------------------------------+</pre>"
      ],
      "text/plain": [
       "+---------+-------------------+------------------------------------------+"
      ]
     },
     "metadata": {},
     "output_type": "display_data"
    },
    {
     "data": {
      "text/html": [
       "<pre>| Attempt | Initial Step Size | Estimated Objective Value                |</pre>"
      ],
      "text/plain": [
       "| Attempt | Initial Step Size | Estimated Objective Value                |"
      ]
     },
     "metadata": {},
     "output_type": "display_data"
    },
    {
     "data": {
      "text/html": [
       "<pre>+---------+-------------------+------------------------------------------+</pre>"
      ],
      "text/plain": [
       "+---------+-------------------+------------------------------------------+"
      ]
     },
     "metadata": {},
     "output_type": "display_data"
    },
    {
     "data": {
      "text/html": [
       "<pre>| 0       | 3.57143           | Not Viable                               |</pre>"
      ],
      "text/plain": [
       "| 0       | 3.57143           | Not Viable                               |"
      ]
     },
     "metadata": {},
     "output_type": "display_data"
    },
    {
     "data": {
      "text/html": [
       "<pre>| 1       | 0.892857          | Not Viable                               |</pre>"
      ],
      "text/plain": [
       "| 1       | 0.892857          | Not Viable                               |"
      ]
     },
     "metadata": {},
     "output_type": "display_data"
    },
    {
     "data": {
      "text/html": [
       "<pre>| 2       | 0.223214          | 1.63192                                  |</pre>"
      ],
      "text/plain": [
       "| 2       | 0.223214          | 1.63192                                  |"
      ]
     },
     "metadata": {},
     "output_type": "display_data"
    },
    {
     "data": {
      "text/html": [
       "<pre>| 3       | 0.111607          | 1.32501                                  |</pre>"
      ],
      "text/plain": [
       "| 3       | 0.111607          | 1.32501                                  |"
      ]
     },
     "metadata": {},
     "output_type": "display_data"
    },
    {
     "data": {
      "text/html": [
       "<pre>| 4       | 0.0558036         | 1.92138                                  |</pre>"
      ],
      "text/plain": [
       "| 4       | 0.0558036         | 1.92138                                  |"
      ]
     },
     "metadata": {},
     "output_type": "display_data"
    },
    {
     "data": {
      "text/html": [
       "<pre>| 5       | 0.0279018         | 2.68009                                  |</pre>"
      ],
      "text/plain": [
       "| 5       | 0.0279018         | 2.68009                                  |"
      ]
     },
     "metadata": {},
     "output_type": "display_data"
    },
    {
     "data": {
      "text/html": [
       "<pre>+---------+-------------------+------------------------------------------+</pre>"
      ],
      "text/plain": [
       "+---------+-------------------+------------------------------------------+"
      ]
     },
     "metadata": {},
     "output_type": "display_data"
    },
    {
     "data": {
      "text/html": [
       "<pre>| Final   | 0.111607          | 1.32501                                  |</pre>"
      ],
      "text/plain": [
       "| Final   | 0.111607          | 1.32501                                  |"
      ]
     },
     "metadata": {},
     "output_type": "display_data"
    },
    {
     "data": {
      "text/html": [
       "<pre>+---------+-------------------+------------------------------------------+</pre>"
      ],
      "text/plain": [
       "+---------+-------------------+------------------------------------------+"
      ]
     },
     "metadata": {},
     "output_type": "display_data"
    },
    {
     "data": {
      "text/html": [
       "<pre>Starting Optimization.</pre>"
      ],
      "text/plain": [
       "Starting Optimization."
      ]
     },
     "metadata": {},
     "output_type": "display_data"
    },
    {
     "data": {
      "text/html": [
       "<pre>+---------+--------------+-------------------+-----------------------+-------------+</pre>"
      ],
      "text/plain": [
       "+---------+--------------+-------------------+-----------------------+-------------+"
      ]
     },
     "metadata": {},
     "output_type": "display_data"
    },
    {
     "data": {
      "text/html": [
       "<pre>| Iter.   | Elapsed Time | Approx. Objective | Approx. Training RMSE | Step Size   |</pre>"
      ],
      "text/plain": [
       "| Iter.   | Elapsed Time | Approx. Objective | Approx. Training RMSE | Step Size   |"
      ]
     },
     "metadata": {},
     "output_type": "display_data"
    },
    {
     "data": {
      "text/html": [
       "<pre>+---------+--------------+-------------------+-----------------------+-------------+</pre>"
      ],
      "text/plain": [
       "+---------+--------------+-------------------+-----------------------+-------------+"
      ]
     },
     "metadata": {},
     "output_type": "display_data"
    },
    {
     "data": {
      "text/html": [
       "<pre>| Initial | 17.002ms     | 3.59405           | 1.3537                |             |</pre>"
      ],
      "text/plain": [
       "| Initial | 17.002ms     | 3.59405           | 1.3537                |             |"
      ]
     },
     "metadata": {},
     "output_type": "display_data"
    },
    {
     "data": {
      "text/html": [
       "<pre>+---------+--------------+-------------------+-----------------------+-------------+</pre>"
      ],
      "text/plain": [
       "+---------+--------------+-------------------+-----------------------+-------------+"
      ]
     },
     "metadata": {},
     "output_type": "display_data"
    },
    {
     "data": {
      "text/html": [
       "<pre>| 1       | 75.425ms     | 3.79945           | 1.57028               | 0.111607    |</pre>"
      ],
      "text/plain": [
       "| 1       | 75.425ms     | 3.79945           | 1.57028               | 0.111607    |"
      ]
     },
     "metadata": {},
     "output_type": "display_data"
    },
    {
     "data": {
      "text/html": [
       "<pre>| 2       | 96.512ms     | 2.77904           | 1.2575                | 0.111607    |</pre>"
      ],
      "text/plain": [
       "| 2       | 96.512ms     | 2.77904           | 1.2575                | 0.111607    |"
      ]
     },
     "metadata": {},
     "output_type": "display_data"
    },
    {
     "data": {
      "text/html": [
       "<pre>| 3       | 148ms        | 2.21645           | 1.05877               | 0.111607    |</pre>"
      ],
      "text/plain": [
       "| 3       | 148ms        | 2.21645           | 1.05877               | 0.111607    |"
      ]
     },
     "metadata": {},
     "output_type": "display_data"
    },
    {
     "data": {
      "text/html": [
       "<pre>| 4       | 164.998ms    | 1.74871           | 0.889683              | 0.111607    |</pre>"
      ],
      "text/plain": [
       "| 4       | 164.998ms    | 1.74871           | 0.889683              | 0.111607    |"
      ]
     },
     "metadata": {},
     "output_type": "display_data"
    },
    {
     "data": {
      "text/html": [
       "<pre>| 5       | 198.002ms    | 1.40354           | 0.744995              | 0.111607    |</pre>"
      ],
      "text/plain": [
       "| 5       | 198.002ms    | 1.40354           | 0.744995              | 0.111607    |"
      ]
     },
     "metadata": {},
     "output_type": "display_data"
    },
    {
     "data": {
      "text/html": [
       "<pre>| 6       | 211.999ms    | 1.12861           | 0.63382               | 0.111607    |</pre>"
      ],
      "text/plain": [
       "| 6       | 211.999ms    | 1.12861           | 0.63382               | 0.111607    |"
      ]
     },
     "metadata": {},
     "output_type": "display_data"
    },
    {
     "data": {
      "text/html": [
       "<pre>| 11      | 319.997ms    | 0.484797          | 0.397185              | 0.111607    |</pre>"
      ],
      "text/plain": [
       "| 11      | 319.997ms    | 0.484797          | 0.397185              | 0.111607    |"
      ]
     },
     "metadata": {},
     "output_type": "display_data"
    },
    {
     "data": {
      "text/html": [
       "<pre>+---------+--------------+-------------------+-----------------------+-------------+</pre>"
      ],
      "text/plain": [
       "+---------+--------------+-------------------+-----------------------+-------------+"
      ]
     },
     "metadata": {},
     "output_type": "display_data"
    },
    {
     "data": {
      "text/html": [
       "<pre>Optimization Complete: Maximum number of passes through the data reached.</pre>"
      ],
      "text/plain": [
       "Optimization Complete: Maximum number of passes through the data reached."
      ]
     },
     "metadata": {},
     "output_type": "display_data"
    },
    {
     "data": {
      "text/html": [
       "<pre>Computing final objective value and training RMSE.</pre>"
      ],
      "text/plain": [
       "Computing final objective value and training RMSE."
      ]
     },
     "metadata": {},
     "output_type": "display_data"
    },
    {
     "data": {
      "text/html": [
       "<pre>       Final objective value: 0.0804784</pre>"
      ],
      "text/plain": [
       "       Final objective value: 0.0804784"
      ]
     },
     "metadata": {},
     "output_type": "display_data"
    },
    {
     "data": {
      "text/html": [
       "<pre>       Final training RMSE: 0.201925</pre>"
      ],
      "text/plain": [
       "       Final training RMSE: 0.201925"
      ]
     },
     "metadata": {},
     "output_type": "display_data"
    }
   ],
   "source": [
    "rankfactmodel=gl.recommender.ranking_factorization_recommender.create(train_data, user_id='userID', item_id='CompanyID', target='rating', user_data=user_side_data)"
   ]
  },
  {
   "cell_type": "code",
   "execution_count": 9,
   "metadata": {},
   "outputs": [
    {
     "name": "stdout",
     "output_type": "stream",
     "text": [
      "+--------+-----------+---------------+------+\n",
      "| userID | CompanyID |     score     | rank |\n",
      "+--------+-----------+---------------+------+\n",
      "|   1    |   CID02   | 3.63703810594 |  1   |\n",
      "|   1    |   CID08   | 3.60091347417 |  2   |\n",
      "|   1    |   CID05   | 3.49816992304 |  3   |\n",
      "|   1    |   CID07   | 3.48666805944 |  4   |\n",
      "|   1    |   CID04   | 3.48333945295 |  5   |\n",
      "|   2    |   CID02   | 3.63703810594 |  1   |\n",
      "|   2    |   CID08   | 3.60091347417 |  2   |\n",
      "|   2    |   CID05   | 3.49816992304 |  3   |\n",
      "|   2    |   CID07   | 3.48666805944 |  4   |\n",
      "|   2    |   CID04   | 3.48333945295 |  5   |\n",
      "|   3    |   CID02   | 3.63703810594 |  1   |\n",
      "|   3    |   CID08   | 3.60091347417 |  2   |\n",
      "|   3    |   CID05   | 3.49816992304 |  3   |\n",
      "|   3    |   CID07   | 3.48666805944 |  4   |\n",
      "|   3    |   CID04   | 3.48333945295 |  5   |\n",
      "|   4    |   CID02   | 3.63703810594 |  1   |\n",
      "|   4    |   CID08   | 3.60091347417 |  2   |\n",
      "|   4    |   CID05   | 3.49816992304 |  3   |\n",
      "|   4    |   CID07   | 3.48666805944 |  4   |\n",
      "|   4    |   CID04   | 3.48333945295 |  5   |\n",
      "|   5    |   CID02   | 3.63703810594 |  1   |\n",
      "|   5    |   CID08   | 3.60091347417 |  2   |\n",
      "|   5    |   CID05   | 3.49816992304 |  3   |\n",
      "|   5    |   CID07   | 3.48666805944 |  4   |\n",
      "|   5    |   CID04   | 3.48333945295 |  5   |\n",
      "+--------+-----------+---------------+------+\n",
      "[25 rows x 4 columns]\n",
      "\n"
     ]
    }
   ],
   "source": [
    "results=rankfactmodel.recommend(users=range(1,6),k=5)\n",
    "results.print_rows(num_rows=25)"
   ]
  },
  {
   "cell_type": "code",
   "execution_count": 13,
   "metadata": {},
   "outputs": [],
   "source": [
    "new_user_info=gl.SFrame({'userID' :['UID1001'], 'Coding skills' :['ck1'], 'Social skills' :['sk1'], 'Language skills' :['ls1'],\n",
    "                        'program development' :['pd1'], 'FrontEnd development' :['fe1'], 'BackEnd Development' :['be1'],\n",
    "                        'Fullstack' :['fs1'], 'Mobile Development' :['md1'], 'Web Development' :['wd0'], 'UI/UX' :['u1'],\n",
    "                        'salary' :['10 000'],'degree' :['DID01']})"
   ]
  },
  {
   "cell_type": "code",
   "execution_count": 14,
   "metadata": {},
   "outputs": [],
   "source": [
    "recommendations = rankfactmodel.recommend(['UID1001'],\n",
    "                                        new_user_data = new_user_info , k=5)"
   ]
  },
  {
   "cell_type": "code",
   "execution_count": 15,
   "metadata": {},
   "outputs": [
    {
     "name": "stdout",
     "output_type": "stream",
     "text": [
      "+---------+-----------+---------------+------+\n",
      "|  userID | CompanyID |     score     | rank |\n",
      "+---------+-----------+---------------+------+\n",
      "| UID1001 |   CID02   | 3.57022665611 |  1   |\n",
      "| UID1001 |   CID09   | 3.55915523444 |  2   |\n",
      "| UID1001 |   CID03   |  3.5356782729 |  3   |\n",
      "| UID1001 |   CID04   | 3.45356332308 |  4   |\n",
      "| UID1001 |   CID08   | 3.43703022024 |  5   |\n",
      "+---------+-----------+---------------+------+\n",
      "[5 rows x 4 columns]\n",
      "\n"
     ]
    }
   ],
   "source": [
    "recommendations.print_rows(num_rows=25)"
   ]
  },
  {
   "cell_type": "code",
   "execution_count": 16,
   "metadata": {},
   "outputs": [],
   "source": [
    "new_user_info=gl.SFrame({'userID' :['UID1002'], 'Coding skills' :['ck0'], 'Social skills' :['sk0'], 'Language skills' :['ls0'],\n",
    "                        'program development' :['pd0'], 'FrontEnd development' :['fe0'], 'BackEnd Development' :['be0'],\n",
    "                        'Fullstack' :['fs0'], 'Mobile Development' :['md0'], 'Web Development' :['wd1'], 'UI/UX' :['u0'],\n",
    "                        'salary' :['10 000'],'degree' :['DID02']})"
   ]
  },
  {
   "cell_type": "code",
   "execution_count": 17,
   "metadata": {},
   "outputs": [],
   "source": [
    "recommendations = rankfactmodel.recommend(['UID1002'],\n",
    "                                        new_user_data = new_user_info , k=5)"
   ]
  },
  {
   "cell_type": "code",
   "execution_count": 18,
   "metadata": {},
   "outputs": [
    {
     "name": "stdout",
     "output_type": "stream",
     "text": [
      "+---------+-----------+---------------+------+\n",
      "|  userID | CompanyID |     score     | rank |\n",
      "+---------+-----------+---------------+------+\n",
      "| UID1002 |   CID07   | 3.62711183152 |  1   |\n",
      "| UID1002 |   CID02   | 3.41845430418 |  2   |\n",
      "| UID1002 |   CID01   | 3.34944860807 |  3   |\n",
      "| UID1002 |   CID08   | 3.34793959728 |  4   |\n",
      "| UID1002 |   CID14   | 3.31556302479 |  5   |\n",
      "+---------+-----------+---------------+------+\n",
      "[5 rows x 4 columns]\n",
      "\n"
     ]
    }
   ],
   "source": [
    "recommendations.print_rows(num_rows=25)"
   ]
  },
  {
   "cell_type": "code",
   "execution_count": null,
   "metadata": {},
   "outputs": [],
   "source": []
  }
 ],
 "metadata": {
  "kernelspec": {
   "display_name": "Python 2",
   "language": "python",
   "name": "python2"
  },
  "language_info": {
   "codemirror_mode": {
    "name": "ipython",
    "version": 2
   },
   "file_extension": ".py",
   "mimetype": "text/x-python",
   "name": "python",
   "nbconvert_exporter": "python",
   "pygments_lexer": "ipython2",
   "version": "2.7.17"
  }
 },
 "nbformat": 4,
 "nbformat_minor": 2
}

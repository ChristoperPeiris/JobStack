{
 "cells": [
  {
   "cell_type": "code",
   "execution_count": 1,
   "metadata": {},
   "outputs": [],
   "source": [
    "import graphlab as gl"
   ]
  },
  {
   "cell_type": "code",
   "execution_count": 2,
   "metadata": {},
   "outputs": [],
   "source": [
    "import pandas as pd"
   ]
  },
  {
   "cell_type": "code",
   "execution_count": 3,
   "metadata": {},
   "outputs": [],
   "source": [
    "# reading user data:\n",
    "user_cols = ['userID', 'Coding skills', 'Social skills', 'Language skills', 'program development',\n",
    "             'FrontEnd development', 'BackEnd Development', 'Fullstack', 'Mobile Development', 'Web Development',\n",
    "             'UI/UX', 'Good', 'Average', 'Bad', 'salary']"
   ]
  },
  {
   "cell_type": "code",
   "execution_count": 4,
   "metadata": {},
   "outputs": [],
   "source": [
    "users = pd.read_csv('users.csv', sep=',', names=user_cols, encoding='latin-1')"
   ]
  },
  {
   "cell_type": "code",
   "execution_count": 5,
   "metadata": {},
   "outputs": [
    {
     "name": "stdout",
     "output_type": "stream",
     "text": [
      "(964, 15)\n"
     ]
    },
    {
     "data": {
      "text/html": [
       "<div>\n",
       "<style scoped>\n",
       "    .dataframe tbody tr th:only-of-type {\n",
       "        vertical-align: middle;\n",
       "    }\n",
       "\n",
       "    .dataframe tbody tr th {\n",
       "        vertical-align: top;\n",
       "    }\n",
       "\n",
       "    .dataframe thead th {\n",
       "        text-align: right;\n",
       "    }\n",
       "</style>\n",
       "<table border=\"1\" class=\"dataframe\">\n",
       "  <thead>\n",
       "    <tr style=\"text-align: right;\">\n",
       "      <th></th>\n",
       "      <th>userID</th>\n",
       "      <th>Coding skills</th>\n",
       "      <th>Social skills</th>\n",
       "      <th>Language skills</th>\n",
       "      <th>program development</th>\n",
       "      <th>FrontEnd development</th>\n",
       "      <th>BackEnd Development</th>\n",
       "      <th>Fullstack</th>\n",
       "      <th>Mobile Development</th>\n",
       "      <th>Web Development</th>\n",
       "      <th>UI/UX</th>\n",
       "      <th>Good</th>\n",
       "      <th>Average</th>\n",
       "      <th>Bad</th>\n",
       "      <th>salary</th>\n",
       "    </tr>\n",
       "  </thead>\n",
       "  <tbody>\n",
       "    <tr>\n",
       "      <th>0</th>\n",
       "      <td>UID01</td>\n",
       "      <td>1</td>\n",
       "      <td>1</td>\n",
       "      <td>0</td>\n",
       "      <td>0</td>\n",
       "      <td>0</td>\n",
       "      <td>0</td>\n",
       "      <td>0</td>\n",
       "      <td>0</td>\n",
       "      <td>0</td>\n",
       "      <td>1</td>\n",
       "      <td>0</td>\n",
       "      <td>1</td>\n",
       "      <td>0</td>\n",
       "      <td>15 000</td>\n",
       "    </tr>\n",
       "    <tr>\n",
       "      <th>1</th>\n",
       "      <td>UID02</td>\n",
       "      <td>0</td>\n",
       "      <td>1</td>\n",
       "      <td>0</td>\n",
       "      <td>0</td>\n",
       "      <td>0</td>\n",
       "      <td>0</td>\n",
       "      <td>0</td>\n",
       "      <td>1</td>\n",
       "      <td>0</td>\n",
       "      <td>0</td>\n",
       "      <td>1</td>\n",
       "      <td>0</td>\n",
       "      <td>0</td>\n",
       "      <td>15 000</td>\n",
       "    </tr>\n",
       "    <tr>\n",
       "      <th>2</th>\n",
       "      <td>UID03</td>\n",
       "      <td>1</td>\n",
       "      <td>0</td>\n",
       "      <td>0</td>\n",
       "      <td>0</td>\n",
       "      <td>0</td>\n",
       "      <td>0</td>\n",
       "      <td>0</td>\n",
       "      <td>0</td>\n",
       "      <td>0</td>\n",
       "      <td>0</td>\n",
       "      <td>1</td>\n",
       "      <td>0</td>\n",
       "      <td>0</td>\n",
       "      <td>30 000</td>\n",
       "    </tr>\n",
       "    <tr>\n",
       "      <th>3</th>\n",
       "      <td>UID04</td>\n",
       "      <td>1</td>\n",
       "      <td>0</td>\n",
       "      <td>0</td>\n",
       "      <td>1</td>\n",
       "      <td>0</td>\n",
       "      <td>0</td>\n",
       "      <td>0</td>\n",
       "      <td>1</td>\n",
       "      <td>1</td>\n",
       "      <td>0</td>\n",
       "      <td>1</td>\n",
       "      <td>0</td>\n",
       "      <td>0</td>\n",
       "      <td>30 000</td>\n",
       "    </tr>\n",
       "    <tr>\n",
       "      <th>4</th>\n",
       "      <td>UID05</td>\n",
       "      <td>1</td>\n",
       "      <td>0</td>\n",
       "      <td>0</td>\n",
       "      <td>0</td>\n",
       "      <td>0</td>\n",
       "      <td>0</td>\n",
       "      <td>0</td>\n",
       "      <td>0</td>\n",
       "      <td>0</td>\n",
       "      <td>0</td>\n",
       "      <td>0</td>\n",
       "      <td>1</td>\n",
       "      <td>0</td>\n",
       "      <td>10 000</td>\n",
       "    </tr>\n",
       "  </tbody>\n",
       "</table>\n",
       "</div>"
      ],
      "text/plain": [
       "  userID  Coding skills  Social skills  Language skills  program development  \\\n",
       "0  UID01              1              1                0                    0   \n",
       "1  UID02              0              1                0                    0   \n",
       "2  UID03              1              0                0                    0   \n",
       "3  UID04              1              0                0                    1   \n",
       "4  UID05              1              0                0                    0   \n",
       "\n",
       "   FrontEnd development  BackEnd Development  Fullstack  Mobile Development  \\\n",
       "0                     0                    0          0                   0   \n",
       "1                     0                    0          0                   1   \n",
       "2                     0                    0          0                   0   \n",
       "3                     0                    0          0                   1   \n",
       "4                     0                    0          0                   0   \n",
       "\n",
       "   Web Development  UI/UX  Good  Average  Bad  salary  \n",
       "0                0      1     0        1    0  15 000  \n",
       "1                0      0     1        0    0  15 000  \n",
       "2                0      0     1        0    0  30 000  \n",
       "3                1      0     1        0    0  30 000  \n",
       "4                0      0     0        1    0  10 000  "
      ]
     },
     "execution_count": 5,
     "metadata": {},
     "output_type": "execute_result"
    }
   ],
   "source": [
    "print users.shape\n",
    "users.head()"
   ]
  },
  {
   "cell_type": "code",
   "execution_count": 6,
   "metadata": {},
   "outputs": [],
   "source": [
    "# reading company data:\n",
    "company_cols=['CompanyName', 'CompanyID']"
   ]
  },
  {
   "cell_type": "code",
   "execution_count": 7,
   "metadata": {},
   "outputs": [],
   "source": [
    "company=pd.read_csv('company.csv', sep=',', names=company_cols, encoding='latin-1')"
   ]
  },
  {
   "cell_type": "code",
   "execution_count": 8,
   "metadata": {},
   "outputs": [
    {
     "name": "stdout",
     "output_type": "stream",
     "text": [
      "(18, 2)\n"
     ]
    },
    {
     "data": {
      "text/html": [
       "<div>\n",
       "<style scoped>\n",
       "    .dataframe tbody tr th:only-of-type {\n",
       "        vertical-align: middle;\n",
       "    }\n",
       "\n",
       "    .dataframe tbody tr th {\n",
       "        vertical-align: top;\n",
       "    }\n",
       "\n",
       "    .dataframe thead th {\n",
       "        text-align: right;\n",
       "    }\n",
       "</style>\n",
       "<table border=\"1\" class=\"dataframe\">\n",
       "  <thead>\n",
       "    <tr style=\"text-align: right;\">\n",
       "      <th></th>\n",
       "      <th>CompanyName</th>\n",
       "      <th>CompanyID</th>\n",
       "    </tr>\n",
       "  </thead>\n",
       "  <tbody>\n",
       "    <tr>\n",
       "      <th>0</th>\n",
       "      <td>Virtusa</td>\n",
       "      <td>CID01</td>\n",
       "    </tr>\n",
       "    <tr>\n",
       "      <th>1</th>\n",
       "      <td>Sysco Labs</td>\n",
       "      <td>CID02</td>\n",
       "    </tr>\n",
       "    <tr>\n",
       "      <th>2</th>\n",
       "      <td>WSO2</td>\n",
       "      <td>CID03</td>\n",
       "    </tr>\n",
       "    <tr>\n",
       "      <th>3</th>\n",
       "      <td>Synopys</td>\n",
       "      <td>CID04</td>\n",
       "    </tr>\n",
       "    <tr>\n",
       "      <th>4</th>\n",
       "      <td>attune Consulting</td>\n",
       "      <td>CID05</td>\n",
       "    </tr>\n",
       "  </tbody>\n",
       "</table>\n",
       "</div>"
      ],
      "text/plain": [
       "         CompanyName CompanyID\n",
       "0            Virtusa     CID01\n",
       "1         Sysco Labs     CID02\n",
       "2               WSO2     CID03\n",
       "3            Synopys     CID04\n",
       "4  attune Consulting     CID05"
      ]
     },
     "execution_count": 8,
     "metadata": {},
     "output_type": "execute_result"
    }
   ],
   "source": [
    "print company.shape\n",
    "company.head()"
   ]
  },
  {
   "cell_type": "code",
   "execution_count": 9,
   "metadata": {},
   "outputs": [],
   "source": [
    "# reading the ratings data:\n",
    "rating_cols=['userID','CompanyID','DegreeID','rating']\n",
    "ratings=pd.read_csv('ratings.csv',sep=',', names=rating_cols, encoding='latin-1')"
   ]
  },
  {
   "cell_type": "code",
   "execution_count": 10,
   "metadata": {},
   "outputs": [
    {
     "name": "stdout",
     "output_type": "stream",
     "text": [
      "(964, 4)\n"
     ]
    },
    {
     "data": {
      "text/html": [
       "<div>\n",
       "<style scoped>\n",
       "    .dataframe tbody tr th:only-of-type {\n",
       "        vertical-align: middle;\n",
       "    }\n",
       "\n",
       "    .dataframe tbody tr th {\n",
       "        vertical-align: top;\n",
       "    }\n",
       "\n",
       "    .dataframe thead th {\n",
       "        text-align: right;\n",
       "    }\n",
       "</style>\n",
       "<table border=\"1\" class=\"dataframe\">\n",
       "  <thead>\n",
       "    <tr style=\"text-align: right;\">\n",
       "      <th></th>\n",
       "      <th>userID</th>\n",
       "      <th>CompanyID</th>\n",
       "      <th>DegreeID</th>\n",
       "      <th>rating</th>\n",
       "    </tr>\n",
       "  </thead>\n",
       "  <tbody>\n",
       "    <tr>\n",
       "      <th>0</th>\n",
       "      <td>UID01</td>\n",
       "      <td>CID01</td>\n",
       "      <td>DID01</td>\n",
       "      <td>3</td>\n",
       "    </tr>\n",
       "    <tr>\n",
       "      <th>1</th>\n",
       "      <td>UID02</td>\n",
       "      <td>CID01</td>\n",
       "      <td>DID01</td>\n",
       "      <td>4</td>\n",
       "    </tr>\n",
       "    <tr>\n",
       "      <th>2</th>\n",
       "      <td>UID03</td>\n",
       "      <td>CID04</td>\n",
       "      <td>DID02</td>\n",
       "      <td>4</td>\n",
       "    </tr>\n",
       "    <tr>\n",
       "      <th>3</th>\n",
       "      <td>UID04</td>\n",
       "      <td>CID04</td>\n",
       "      <td>DID01</td>\n",
       "      <td>4</td>\n",
       "    </tr>\n",
       "    <tr>\n",
       "      <th>4</th>\n",
       "      <td>UID05</td>\n",
       "      <td>CID01</td>\n",
       "      <td>DID02</td>\n",
       "      <td>3</td>\n",
       "    </tr>\n",
       "  </tbody>\n",
       "</table>\n",
       "</div>"
      ],
      "text/plain": [
       "  userID CompanyID DegreeID  rating\n",
       "0  UID01     CID01    DID01       3\n",
       "1  UID02     CID01    DID01       4\n",
       "2  UID03     CID04    DID02       4\n",
       "3  UID04     CID04    DID01       4\n",
       "4  UID05     CID01    DID02       3"
      ]
     },
     "execution_count": 10,
     "metadata": {},
     "output_type": "execute_result"
    }
   ],
   "source": [
    "print ratings.shape\n",
    "ratings.head()"
   ]
  },
  {
   "cell_type": "code",
   "execution_count": 11,
   "metadata": {},
   "outputs": [
    {
     "name": "stdout",
     "output_type": "stream",
     "text": [
      "This non-commercial license of GraphLab Create for academic use is assigned to w1673749@my.westminster.ac.uk and will expire on March 15, 2021.\n"
     ]
    },
    {
     "name": "stderr",
     "output_type": "stream",
     "text": [
      "[INFO] graphlab.cython.cy_server: GraphLab Create v2.1 started. Logging: C:\\Users\\JANITH\\AppData\\Local\\Temp\\graphlab_server_1584707572.log.0\n"
     ]
    }
   ],
   "source": [
    "user_side_data=gl.SFrame(users)"
   ]
  },
  {
   "cell_type": "code",
   "execution_count": 12,
   "metadata": {},
   "outputs": [],
   "source": [
    "train_data=gl.SFrame(ratings)"
   ]
  },
  {
   "cell_type": "code",
   "execution_count": 14,
   "metadata": {},
   "outputs": [
    {
     "data": {
      "text/html": [
       "<pre>Recsys training: model = factorization_recommender</pre>"
      ],
      "text/plain": [
       "Recsys training: model = factorization_recommender"
      ]
     },
     "metadata": {},
     "output_type": "display_data"
    },
    {
     "data": {
      "text/html": [
       "<pre>Preparing data set.</pre>"
      ],
      "text/plain": [
       "Preparing data set."
      ]
     },
     "metadata": {},
     "output_type": "display_data"
    },
    {
     "data": {
      "text/html": [
       "<pre>    Data has 964 observations with 964 users and 19 items.</pre>"
      ],
      "text/plain": [
       "    Data has 964 observations with 964 users and 19 items."
      ]
     },
     "metadata": {},
     "output_type": "display_data"
    },
    {
     "data": {
      "text/html": [
       "<pre>    Data prepared in: 0.022938s</pre>"
      ],
      "text/plain": [
       "    Data prepared in: 0.022938s"
      ]
     },
     "metadata": {},
     "output_type": "display_data"
    },
    {
     "data": {
      "text/html": [
       "<pre>Training factorization_recommender for recommendations.</pre>"
      ],
      "text/plain": [
       "Training factorization_recommender for recommendations."
      ]
     },
     "metadata": {},
     "output_type": "display_data"
    },
    {
     "data": {
      "text/html": [
       "<pre>+--------------------------------+--------------------------------------------------+----------+</pre>"
      ],
      "text/plain": [
       "+--------------------------------+--------------------------------------------------+----------+"
      ]
     },
     "metadata": {},
     "output_type": "display_data"
    },
    {
     "data": {
      "text/html": [
       "<pre>| Parameter                      | Description                                      | Value    |</pre>"
      ],
      "text/plain": [
       "| Parameter                      | Description                                      | Value    |"
      ]
     },
     "metadata": {},
     "output_type": "display_data"
    },
    {
     "data": {
      "text/html": [
       "<pre>+--------------------------------+--------------------------------------------------+----------+</pre>"
      ],
      "text/plain": [
       "+--------------------------------+--------------------------------------------------+----------+"
      ]
     },
     "metadata": {},
     "output_type": "display_data"
    },
    {
     "data": {
      "text/html": [
       "<pre>| num_factors                    | Factor Dimension                                 | 8        |</pre>"
      ],
      "text/plain": [
       "| num_factors                    | Factor Dimension                                 | 8        |"
      ]
     },
     "metadata": {},
     "output_type": "display_data"
    },
    {
     "data": {
      "text/html": [
       "<pre>| regularization                 | L2 Regularization on Factors                     | 1e-008   |</pre>"
      ],
      "text/plain": [
       "| regularization                 | L2 Regularization on Factors                     | 1e-008   |"
      ]
     },
     "metadata": {},
     "output_type": "display_data"
    },
    {
     "data": {
      "text/html": [
       "<pre>| solver                         | Solver used for training                         | adagrad  |</pre>"
      ],
      "text/plain": [
       "| solver                         | Solver used for training                         | adagrad  |"
      ]
     },
     "metadata": {},
     "output_type": "display_data"
    },
    {
     "data": {
      "text/html": [
       "<pre>| linear_regularization          | L2 Regularization on Linear Coefficients         | 1e-010   |</pre>"
      ],
      "text/plain": [
       "| linear_regularization          | L2 Regularization on Linear Coefficients         | 1e-010   |"
      ]
     },
     "metadata": {},
     "output_type": "display_data"
    },
    {
     "data": {
      "text/html": [
       "<pre>| side_data_factorization        | Assign Factors for Side Data                     | True     |</pre>"
      ],
      "text/plain": [
       "| side_data_factorization        | Assign Factors for Side Data                     | True     |"
      ]
     },
     "metadata": {},
     "output_type": "display_data"
    },
    {
     "data": {
      "text/html": [
       "<pre>| max_iterations                 | Maximum Number of Iterations                     | 50       |</pre>"
      ],
      "text/plain": [
       "| max_iterations                 | Maximum Number of Iterations                     | 50       |"
      ]
     },
     "metadata": {},
     "output_type": "display_data"
    },
    {
     "data": {
      "text/html": [
       "<pre>+--------------------------------+--------------------------------------------------+----------+</pre>"
      ],
      "text/plain": [
       "+--------------------------------+--------------------------------------------------+----------+"
      ]
     },
     "metadata": {},
     "output_type": "display_data"
    },
    {
     "data": {
      "text/html": [
       "<pre>  Optimizing model using SGD; tuning step size.</pre>"
      ],
      "text/plain": [
       "  Optimizing model using SGD; tuning step size."
      ]
     },
     "metadata": {},
     "output_type": "display_data"
    },
    {
     "data": {
      "text/html": [
       "<pre>  Using 964 / 964 points for tuning the step size.</pre>"
      ],
      "text/plain": [
       "  Using 964 / 964 points for tuning the step size."
      ]
     },
     "metadata": {},
     "output_type": "display_data"
    },
    {
     "data": {
      "text/html": [
       "<pre>+---------+-------------------+------------------------------------------+</pre>"
      ],
      "text/plain": [
       "+---------+-------------------+------------------------------------------+"
      ]
     },
     "metadata": {},
     "output_type": "display_data"
    },
    {
     "data": {
      "text/html": [
       "<pre>| Attempt | Initial Step Size | Estimated Objective Value                |</pre>"
      ],
      "text/plain": [
       "| Attempt | Initial Step Size | Estimated Objective Value                |"
      ]
     },
     "metadata": {},
     "output_type": "display_data"
    },
    {
     "data": {
      "text/html": [
       "<pre>+---------+-------------------+------------------------------------------+</pre>"
      ],
      "text/plain": [
       "+---------+-------------------+------------------------------------------+"
      ]
     },
     "metadata": {},
     "output_type": "display_data"
    },
    {
     "data": {
      "text/html": [
       "<pre>| 0       | 2.94118           | Not Viable                               |</pre>"
      ],
      "text/plain": [
       "| 0       | 2.94118           | Not Viable                               |"
      ]
     },
     "metadata": {},
     "output_type": "display_data"
    },
    {
     "data": {
      "text/html": [
       "<pre>| 1       | 0.735294          | 0.209176                                 |</pre>"
      ],
      "text/plain": [
       "| 1       | 0.735294          | 0.209176                                 |"
      ]
     },
     "metadata": {},
     "output_type": "display_data"
    },
    {
     "data": {
      "text/html": [
       "<pre>| 2       | 0.367647          | Not Viable                               |</pre>"
      ],
      "text/plain": [
       "| 2       | 0.367647          | Not Viable                               |"
      ]
     },
     "metadata": {},
     "output_type": "display_data"
    },
    {
     "data": {
      "text/html": [
       "<pre>| 3       | 0.0919118         | 0.0114544                                |</pre>"
      ],
      "text/plain": [
       "| 3       | 0.0919118         | 0.0114544                                |"
      ]
     },
     "metadata": {},
     "output_type": "display_data"
    },
    {
     "data": {
      "text/html": [
       "<pre>| 4       | 0.0459559         | 0.0727601                                |</pre>"
      ],
      "text/plain": [
       "| 4       | 0.0459559         | 0.0727601                                |"
      ]
     },
     "metadata": {},
     "output_type": "display_data"
    },
    {
     "data": {
      "text/html": [
       "<pre>+---------+-------------------+------------------------------------------+</pre>"
      ],
      "text/plain": [
       "+---------+-------------------+------------------------------------------+"
      ]
     },
     "metadata": {},
     "output_type": "display_data"
    },
    {
     "data": {
      "text/html": [
       "<pre>| Final   | 0.0919118         | 0.0114544                                |</pre>"
      ],
      "text/plain": [
       "| Final   | 0.0919118         | 0.0114544                                |"
      ]
     },
     "metadata": {},
     "output_type": "display_data"
    },
    {
     "data": {
      "text/html": [
       "<pre>+---------+-------------------+------------------------------------------+</pre>"
      ],
      "text/plain": [
       "+---------+-------------------+------------------------------------------+"
      ]
     },
     "metadata": {},
     "output_type": "display_data"
    },
    {
     "data": {
      "text/html": [
       "<pre>Starting Optimization.</pre>"
      ],
      "text/plain": [
       "Starting Optimization."
      ]
     },
     "metadata": {},
     "output_type": "display_data"
    },
    {
     "data": {
      "text/html": [
       "<pre>+---------+--------------+-------------------+-----------------------+-------------+</pre>"
      ],
      "text/plain": [
       "+---------+--------------+-------------------+-----------------------+-------------+"
      ]
     },
     "metadata": {},
     "output_type": "display_data"
    },
    {
     "data": {
      "text/html": [
       "<pre>| Iter.   | Elapsed Time | Approx. Objective | Approx. Training RMSE | Step Size   |</pre>"
      ],
      "text/plain": [
       "| Iter.   | Elapsed Time | Approx. Objective | Approx. Training RMSE | Step Size   |"
      ]
     },
     "metadata": {},
     "output_type": "display_data"
    },
    {
     "data": {
      "text/html": [
       "<pre>+---------+--------------+-------------------+-----------------------+-------------+</pre>"
      ],
      "text/plain": [
       "+---------+--------------+-------------------+-----------------------+-------------+"
      ]
     },
     "metadata": {},
     "output_type": "display_data"
    },
    {
     "data": {
      "text/html": [
       "<pre>| Initial | 0us          | 1.69556           | 1.30214               |             |</pre>"
      ],
      "text/plain": [
       "| Initial | 0us          | 1.69556           | 1.30214               |             |"
      ]
     },
     "metadata": {},
     "output_type": "display_data"
    },
    {
     "data": {
      "text/html": [
       "<pre>+---------+--------------+-------------------+-----------------------+-------------+</pre>"
      ],
      "text/plain": [
       "+---------+--------------+-------------------+-----------------------+-------------+"
      ]
     },
     "metadata": {},
     "output_type": "display_data"
    },
    {
     "data": {
      "text/html": [
       "<pre>| 1       | 1.994ms      | 0.317681          | 0.563631              | 0.0919118   |</pre>"
      ],
      "text/plain": [
       "| 1       | 1.994ms      | 0.317681          | 0.563631              | 0.0919118   |"
      ]
     },
     "metadata": {},
     "output_type": "display_data"
    },
    {
     "data": {
      "text/html": [
       "<pre>| 2       | 2.992ms      | 0.1006            | 0.317174              | 0.0919118   |</pre>"
      ],
      "text/plain": [
       "| 2       | 2.992ms      | 0.1006            | 0.317174              | 0.0919118   |"
      ]
     },
     "metadata": {},
     "output_type": "display_data"
    },
    {
     "data": {
      "text/html": [
       "<pre>| 3       | 4.986ms      | 0.0490762         | 0.221529              | 0.0919118   |</pre>"
      ],
      "text/plain": [
       "| 3       | 4.986ms      | 0.0490762         | 0.221529              | 0.0919118   |"
      ]
     },
     "metadata": {},
     "output_type": "display_data"
    },
    {
     "data": {
      "text/html": [
       "<pre>| 4       | 5.985ms      | 0.0292881         | 0.171135              | 0.0919118   |</pre>"
      ],
      "text/plain": [
       "| 4       | 5.985ms      | 0.0292881         | 0.171135              | 0.0919118   |"
      ]
     },
     "metadata": {},
     "output_type": "display_data"
    },
    {
     "data": {
      "text/html": [
       "<pre>| 5       | 7.979ms      | 0.0164889         | 0.128405              | 0.0919118   |</pre>"
      ],
      "text/plain": [
       "| 5       | 7.979ms      | 0.0164889         | 0.128405              | 0.0919118   |"
      ]
     },
     "metadata": {},
     "output_type": "display_data"
    },
    {
     "data": {
      "text/html": [
       "<pre>| 6       | 8.976ms      | 0.0109126         | 0.104458              | 0.0919118   |</pre>"
      ],
      "text/plain": [
       "| 6       | 8.976ms      | 0.0109126         | 0.104458              | 0.0919118   |"
      ]
     },
     "metadata": {},
     "output_type": "display_data"
    },
    {
     "data": {
      "text/html": [
       "<pre>| 11      | 18.951ms     | 0.00266996        | 0.0516612             | 0.0919118   |</pre>"
      ],
      "text/plain": [
       "| 11      | 18.951ms     | 0.00266996        | 0.0516612             | 0.0919118   |"
      ]
     },
     "metadata": {},
     "output_type": "display_data"
    },
    {
     "data": {
      "text/html": [
       "<pre>+---------+--------------+-------------------+-----------------------+-------------+</pre>"
      ],
      "text/plain": [
       "+---------+--------------+-------------------+-----------------------+-------------+"
      ]
     },
     "metadata": {},
     "output_type": "display_data"
    },
    {
     "data": {
      "text/html": [
       "<pre>Optimization Complete: Maximum number of passes through the data reached.</pre>"
      ],
      "text/plain": [
       "Optimization Complete: Maximum number of passes through the data reached."
      ]
     },
     "metadata": {},
     "output_type": "display_data"
    },
    {
     "data": {
      "text/html": [
       "<pre>Computing final objective value and training RMSE.</pre>"
      ],
      "text/plain": [
       "Computing final objective value and training RMSE."
      ]
     },
     "metadata": {},
     "output_type": "display_data"
    },
    {
     "data": {
      "text/html": [
       "<pre>       Final objective value: 0.00665497</pre>"
      ],
      "text/plain": [
       "       Final objective value: 0.00665497"
      ]
     },
     "metadata": {},
     "output_type": "display_data"
    },
    {
     "data": {
      "text/html": [
       "<pre>       Final training RMSE: 0.0815681</pre>"
      ],
      "text/plain": [
       "       Final training RMSE: 0.0815681"
      ]
     },
     "metadata": {},
     "output_type": "display_data"
    }
   ],
   "source": [
    "factmodel=gl.recommender.factorization_recommender.create(train_data, user_id='userID', item_id='CompanyID', target='rating', user_data=user_side_data)"
   ]
  },
  {
   "cell_type": "code",
   "execution_count": 15,
   "metadata": {},
   "outputs": [
    {
     "name": "stdout",
     "output_type": "stream",
     "text": [
      "+--------+-----------+---------------+------+\n",
      "| userID | CompanyID |     score     | rank |\n",
      "+--------+-----------+---------------+------+\n",
      "|   1    |   CID04   | 4.63589617969 |  1   |\n",
      "|   1    |   CID16   | 4.06206825734 |  2   |\n",
      "|   1    |   CID03   | 3.99968819679 |  3   |\n",
      "|   1    |   CID10   | 3.96529785157 |  4   |\n",
      "|   1    |   CID09   | 3.89289690168 |  5   |\n",
      "|   2    |   CID04   | 4.63589617969 |  1   |\n",
      "|   2    |   CID16   | 4.06206825734 |  2   |\n",
      "|   2    |   CID03   | 3.99968819679 |  3   |\n",
      "|   2    |   CID10   | 3.96529785157 |  4   |\n",
      "|   2    |   CID09   | 3.89289690168 |  5   |\n",
      "|   3    |   CID04   | 4.63589617969 |  1   |\n",
      "|   3    |   CID16   | 4.06206825734 |  2   |\n",
      "|   3    |   CID03   | 3.99968819679 |  3   |\n",
      "|   3    |   CID10   | 3.96529785157 |  4   |\n",
      "|   3    |   CID09   | 3.89289690168 |  5   |\n",
      "|   4    |   CID04   | 4.63589617969 |  1   |\n",
      "|   4    |   CID16   | 4.06206825734 |  2   |\n",
      "|   4    |   CID03   | 3.99968819679 |  3   |\n",
      "|   4    |   CID10   | 3.96529785157 |  4   |\n",
      "|   4    |   CID09   | 3.89289690168 |  5   |\n",
      "|   5    |   CID04   | 4.63589617969 |  1   |\n",
      "|   5    |   CID16   | 4.06206825734 |  2   |\n",
      "|   5    |   CID03   | 3.99968819679 |  3   |\n",
      "|   5    |   CID10   | 3.96529785157 |  4   |\n",
      "|   5    |   CID09   | 3.89289690168 |  5   |\n",
      "+--------+-----------+---------------+------+\n",
      "[25 rows x 4 columns]\n",
      "\n"
     ]
    }
   ],
   "source": [
    "results=factmodel.recommend(users=range(1,6),k=5)\n",
    "results.print_rows(num_rows=25)"
   ]
  },
  {
   "cell_type": "code",
   "execution_count": 16,
   "metadata": {},
   "outputs": [
    {
     "data": {
      "text/plain": [
       "['userID',\n",
       " 'Coding skills',\n",
       " 'Social skills',\n",
       " 'Language skills',\n",
       " 'program development',\n",
       " 'FrontEnd development',\n",
       " 'BackEnd Development',\n",
       " 'Fullstack',\n",
       " 'Mobile Development',\n",
       " 'Web Development',\n",
       " 'UI/UX',\n",
       " 'Good',\n",
       " 'Average',\n",
       " 'Bad',\n",
       " 'salary']"
      ]
     },
     "execution_count": 16,
     "metadata": {},
     "output_type": "execute_result"
    }
   ],
   "source": [
    "factmodel['user_side_data_column_names']"
   ]
  },
  {
   "cell_type": "code",
   "execution_count": 17,
   "metadata": {},
   "outputs": [
    {
     "name": "stdout",
     "output_type": "stream",
     "text": [
      "Class                            : FactorizationRecommender\n",
      "\n",
      "Schema\n",
      "------\n",
      "User ID                          : userID\n",
      "Item ID                          : CompanyID\n",
      "Target                           : rating\n",
      "Additional observation features  : 1\n",
      "User side features               : ['userID', 'Coding skills', 'Social skills', 'Language skills', 'program development', 'FrontEnd development', 'BackEnd Development', 'Fullstack', 'Mobile Development', 'Web Development', 'UI/UX', 'Good', 'Average', 'Bad', 'salary']\n",
      "Item side features               : []\n",
      "\n",
      "Statistics\n",
      "----------\n",
      "Number of observations           : 964\n",
      "Number of users                  : 964\n",
      "Number of items                  : 19\n",
      "\n",
      "Training summary\n",
      "----------------\n",
      "Training time                    : 1.2305\n",
      "\n",
      "Model Parameters\n",
      "----------------\n",
      "Model class                      : FactorizationRecommender\n",
      "num_factors                      : 8\n",
      "binary_target                    : 0\n",
      "side_data_factorization          : 1\n",
      "solver                           : auto\n",
      "nmf                              : 0\n",
      "max_iterations                   : 50\n",
      "\n",
      "Regularization Settings\n",
      "-----------------------\n",
      "regularization                   : 0.0\n",
      "regularization_type              : normal\n",
      "linear_regularization            : 0.0\n",
      "\n",
      "Optimization Settings\n",
      "---------------------\n",
      "init_random_sigma                : 0.01\n",
      "sgd_convergence_interval         : 4\n",
      "sgd_convergence_threshold        : 0.0\n",
      "sgd_max_trial_iterations         : 5\n",
      "sgd_sampling_block_size          : 131072\n",
      "sgd_step_adjustment_interval     : 4\n",
      "sgd_step_size                    : 0.0\n",
      "sgd_trial_sample_minimum_size    : 10000\n",
      "sgd_trial_sample_proportion      : 0.125\n",
      "step_size_decrease_rate          : 0.75\n",
      "additional_iterations_if_unhealthy : 5\n",
      "adagrad_momentum_weighting       : 0.9\n",
      "num_tempering_iterations         : 4\n",
      "tempering_regularization_start_value : 0.0\n",
      "track_exact_loss                 : 0\n",
      "\n"
     ]
    }
   ],
   "source": [
    "factmodel.summary()"
   ]
  },
  {
   "cell_type": "code",
   "execution_count": 18,
   "metadata": {},
   "outputs": [],
   "source": [
    "new_user_info=gl.SFrame({'userID' :['UID966'], 'Coding skills' :['1'], 'Social skills' :['1'], 'Language skills' :['1'],\n",
    "                        'program development' :['1'], 'FrontEnd development' :['0'], 'BackEnd Development' :['0'],\n",
    "                        'Fullstack' :['1'], 'Mobile Development' :['1'], 'Web Development' :['0'], 'UI/UX' :['1'],\n",
    "                        'Good' :['0'], 'Average' :['1'], 'Bad' :['0'], 'salary' :['15 000']})"
   ]
  },
  {
   "cell_type": "code",
   "execution_count": 19,
   "metadata": {},
   "outputs": [],
   "source": [
    "recommendations = factmodel.recommend(['UID966'],\n",
    "                                        new_user_data = new_user_info , k=5)"
   ]
  },
  {
   "cell_type": "code",
   "execution_count": 20,
   "metadata": {},
   "outputs": [
    {
     "name": "stdout",
     "output_type": "stream",
     "text": [
      "+--------+-----------+---------------+------+\n",
      "| userID | CompanyID |     score     | rank |\n",
      "+--------+-----------+---------------+------+\n",
      "| UID966 |   CID04   | 5.36104275816 |  1   |\n",
      "| UID966 |   CID03   | 5.27768710041 |  2   |\n",
      "| UID966 |   CID16   | 5.10842582741 |  3   |\n",
      "| UID966 |   CID01   | 4.97812346154 |  4   |\n",
      "| UID966 |   CID10   | 4.73683292949 |  5   |\n",
      "+--------+-----------+---------------+------+\n",
      "[5 rows x 4 columns]\n",
      "\n"
     ]
    }
   ],
   "source": [
    "recommendations.print_rows(num_rows=25)"
   ]
  },
  {
   "cell_type": "code",
   "execution_count": 22,
   "metadata": {},
   "outputs": [],
   "source": [
    "new_user_info=gl.SFrame({'userID' :['UID967'], 'Coding skills' :['1'], 'Social skills' :['1'], 'Language skills' :['0'],\n",
    "                        'program development' :['1'], 'FrontEnd development' :['1'], 'BackEnd Development' :['0'],\n",
    "                        'Fullstack' :['1'], 'Mobile Development' :['1'], 'Web Development' :['0'], 'UI/UX' :['1'],\n",
    "                        'Good' :['0'], 'Average' :['1'], 'Bad' :['0'], 'salary' :['20 000']})"
   ]
  },
  {
   "cell_type": "code",
   "execution_count": 23,
   "metadata": {},
   "outputs": [],
   "source": [
    "recommendations = factmodel.recommend(['UID967'],\n",
    "                                        new_user_data = new_user_info , k=5)"
   ]
  },
  {
   "cell_type": "code",
   "execution_count": 24,
   "metadata": {},
   "outputs": [
    {
     "name": "stdout",
     "output_type": "stream",
     "text": [
      "+--------+-----------+---------------+------+\n",
      "| userID | CompanyID |     score     | rank |\n",
      "+--------+-----------+---------------+------+\n",
      "| UID967 |   CID04   | 5.80454914802 |  1   |\n",
      "| UID967 |   CID03   | 5.56674886653 |  2   |\n",
      "| UID967 |   CID16   | 5.47764413216 |  3   |\n",
      "| UID967 |   CID01   | 5.26878894278 |  4   |\n",
      "| UID967 |   CID10   | 5.09798960173 |  5   |\n",
      "+--------+-----------+---------------+------+\n",
      "[5 rows x 4 columns]\n",
      "\n"
     ]
    }
   ],
   "source": [
    "recommendations.print_rows(num_rows=25)"
   ]
  },
  {
   "cell_type": "code",
   "execution_count": 25,
   "metadata": {},
   "outputs": [],
   "source": [
    "new_user_info=gl.SFrame({'userID' :['UID968'], 'Coding skills' :['0'], 'Social skills' :['1'], 'Language skills' :['0'],\n",
    "                        'program development' :['1'], 'FrontEnd development' :['1'], 'BackEnd Development' :['1'],\n",
    "                        'Fullstack' :['1'], 'Mobile Development' :['1'], 'Web Development' :['0'], 'UI/UX' :['1'],\n",
    "                        'Good' :['0'], 'Average' :['1'], 'Bad' :['0'], 'salary' :['20 000']})"
   ]
  },
  {
   "cell_type": "code",
   "execution_count": 26,
   "metadata": {},
   "outputs": [],
   "source": [
    "recommendations = factmodel.recommend(['UID968'],\n",
    "                                        new_user_data = new_user_info , k=5)"
   ]
  },
  {
   "cell_type": "code",
   "execution_count": 27,
   "metadata": {},
   "outputs": [
    {
     "name": "stdout",
     "output_type": "stream",
     "text": [
      "+--------+-----------+---------------+------+\n",
      "| userID | CompanyID |     score     | rank |\n",
      "+--------+-----------+---------------+------+\n",
      "| UID968 |   CID04   | 5.93229122618 |  1   |\n",
      "| UID968 |   CID03   | 5.56841261098 |  2   |\n",
      "| UID968 |   CID16   | 5.55393359223 |  3   |\n",
      "| UID968 |   CID01   |  5.2123186008 |  4   |\n",
      "| UID968 |   CID10   | 5.08570101642 |  5   |\n",
      "+--------+-----------+---------------+------+\n",
      "[5 rows x 4 columns]\n",
      "\n"
     ]
    }
   ],
   "source": [
    "recommendations.print_rows(num_rows=25)"
   ]
  },
  {
   "cell_type": "code",
   "execution_count": 28,
   "metadata": {},
   "outputs": [],
   "source": [
    "new_user_info=gl.SFrame({'userID' :['UID969'], 'Coding skills' :['1'], 'Social skills' :['1'], 'Language skills' :['0'],\n",
    "                        'program development' :['0'], 'FrontEnd development' :['0'], 'BackEnd Development' :['0'],\n",
    "                        'Fullstack' :['0'], 'Mobile Development' :['0'], 'Web Development' :['0'], 'UI/UX' :['0'],\n",
    "                        'Good' :['0'], 'Average' :['1'], 'Bad' :['0'], 'salary' :['15 000']})"
   ]
  },
  {
   "cell_type": "code",
   "execution_count": 30,
   "metadata": {},
   "outputs": [],
   "source": [
    "recommendations1 = factmodel.recommend(['UID969'],\n",
    "                                        new_user_data = new_user_info , k=5)"
   ]
  },
  {
   "cell_type": "code",
   "execution_count": 31,
   "metadata": {},
   "outputs": [
    {
     "name": "stdout",
     "output_type": "stream",
     "text": [
      "+--------+-----------+---------------+------+\n",
      "| userID | CompanyID |     score     | rank |\n",
      "+--------+-----------+---------------+------+\n",
      "| UID969 |   CID04   | 2.34783898219 |  1   |\n",
      "| UID969 |   CID03   | 1.94355226652 |  2   |\n",
      "| UID969 |   CID16   | 1.83174092061 |  3   |\n",
      "| UID969 |   CID10   | 1.71302794823 |  4   |\n",
      "| UID969 |   CID02   | 1.64699732647 |  5   |\n",
      "+--------+-----------+---------------+------+\n",
      "[5 rows x 4 columns]\n",
      "\n"
     ]
    }
   ],
   "source": [
    "recommendations1.print_rows(num_rows=25)"
   ]
  },
  {
   "cell_type": "code",
   "execution_count": 32,
   "metadata": {},
   "outputs": [],
   "source": [
    "new_user_info=gl.SFrame({'userID' :['UID968'], 'Coding skills' :['0'], 'Social skills' :['1'], 'Language skills' :['0'],\n",
    "                        'program development' :['1'], 'FrontEnd development' :['1'], 'BackEnd Development' :['1'],\n",
    "                        'Fullstack' :['1'], 'Mobile Development' :['1'], 'Web Development' :['0'], 'UI/UX' :['1'],\n",
    "                        'Good' :['0'], 'Average' :['1'], 'Bad' :['0'], 'salary' :['20 000']})"
   ]
  },
  {
   "cell_type": "code",
   "execution_count": 33,
   "metadata": {},
   "outputs": [],
   "source": [
    "recommendations2 = factmodel.recommend(['UID968'],\n",
    "                                        new_user_data = new_user_info , k=5)"
   ]
  },
  {
   "cell_type": "code",
   "execution_count": 34,
   "metadata": {},
   "outputs": [
    {
     "name": "stdout",
     "output_type": "stream",
     "text": [
      "+--------+-----------+---------------+------+\n",
      "| userID | CompanyID |     score     | rank |\n",
      "+--------+-----------+---------------+------+\n",
      "| UID968 |   CID04   | 5.93229122618 |  1   |\n",
      "| UID968 |   CID03   | 5.56841261098 |  2   |\n",
      "| UID968 |   CID16   | 5.55393359223 |  3   |\n",
      "| UID968 |   CID01   |  5.2123186008 |  4   |\n",
      "| UID968 |   CID10   | 5.08570101642 |  5   |\n",
      "+--------+-----------+---------------+------+\n",
      "[5 rows x 4 columns]\n",
      "\n"
     ]
    }
   ],
   "source": [
    "recommendations2.print_rows(num_rows=25)"
   ]
  },
  {
   "cell_type": "code",
   "execution_count": 35,
   "metadata": {},
   "outputs": [],
   "source": [
    "new_user_info=gl.SFrame({'userID' :['UID1000'], 'Coding skills' :['1'], 'Social skills' :['1'], 'Language skills' :['1'],\n",
    "                        'program development' :['1'], 'FrontEnd development' :['1'], 'BackEnd Development' :['1'],\n",
    "                        'Fullstack' :['1'], 'Mobile Development' :['1'], 'Web Development' :['0'], 'UI/UX' :['1'],\n",
    "                        'Good' :['0'], 'Average' :['1'], 'Bad' :['0'], 'salary' :['10 000']})"
   ]
  },
  {
   "cell_type": "code",
   "execution_count": 36,
   "metadata": {},
   "outputs": [],
   "source": [
    "recommendations = factmodel.recommend(['UID1000'],\n",
    "                                        new_user_data = new_user_info , k=5)"
   ]
  },
  {
   "cell_type": "code",
   "execution_count": 38,
   "metadata": {},
   "outputs": [
    {
     "name": "stdout",
     "output_type": "stream",
     "text": [
      "+---------+-----------+---------------+------+\n",
      "|  userID | CompanyID |     score     | rank |\n",
      "+---------+-----------+---------------+------+\n",
      "| UID1000 |   CID05   | 9.56202001282 |  1   |\n",
      "| UID1000 |   CID04   | 9.28501117387 |  2   |\n",
      "| UID1000 |   CID01   | 9.03676469782 |  3   |\n",
      "| UID1000 |   CID16   | 9.02212441125 |  4   |\n",
      "| UID1000 |   CID03   | 8.84219974437 |  5   |\n",
      "+---------+-----------+---------------+------+\n",
      "[5 rows x 4 columns]\n",
      "\n"
     ]
    }
   ],
   "source": [
    "recommendations.print_rows(num_rows=25)"
   ]
  },
  {
   "cell_type": "code",
   "execution_count": null,
   "metadata": {},
   "outputs": [],
   "source": []
  }
 ],
 "metadata": {
  "kernelspec": {
   "display_name": "Python 2",
   "language": "python",
   "name": "python2"
  },
  "language_info": {
   "codemirror_mode": {
    "name": "ipython",
    "version": 2
   },
   "file_extension": ".py",
   "mimetype": "text/x-python",
   "name": "python",
   "nbconvert_exporter": "python",
   "pygments_lexer": "ipython2",
   "version": "2.7.17"
  }
 },
 "nbformat": 4,
 "nbformat_minor": 2
}
